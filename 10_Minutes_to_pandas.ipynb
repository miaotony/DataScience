{
 "cells": [
  {
   "cell_type": "markdown",
   "metadata": {},
   "source": [
    "# 十分钟入门 pandas\n",
    "\n",
    "\n"
   ]
  },
  {
   "cell_type": "markdown",
   "metadata": {},
   "source": [
    "**10 Minutes to pandas**\n",
    "\n",
    "**官方原文地址：**[在这里](https://pandas.pydata.org/pandas-docs/version/0.22.0/10min.html)\n",
    "\n",
    "运行环境：Jupyter Notebook, Python 3.7\n",
    "\n",
    "主要是翻译了官方的教程，下面都是自己在 Jupyter Notebook 里跑的，顺便记了点笔记吧。\n",
    "\n",
    "> 首发于 MiaoTony's 小窝，**Blog 文章地址：**[数据科学 | 十分钟入门pandas/常用方法笔记](https://miaotony.xyz/2020/04/17/DataScience_10MinutesToPandas/)\n",
    ">\n",
    ">欢迎来我的博客转转呢~"
   ]
  },
  {
   "cell_type": "markdown",
   "metadata": {},
   "source": [
    "## 0x01 导入模块"
   ]
  },
  {
   "cell_type": "code",
   "execution_count": 1,
   "metadata": {},
   "outputs": [],
   "source": [
    "import pandas as pd\n",
    "import matplotlib.pyplot as plt\n",
    "import numpy as np"
   ]
  },
  {
   "cell_type": "markdown",
   "metadata": {},
   "source": [
    "这些都是常用别名了呢（"
   ]
  },
  {
   "cell_type": "markdown",
   "metadata": {},
   "source": [
    "## 0x02 创建对象 Object Creation"
   ]
  },
  {
   "cell_type": "markdown",
   "metadata": {},
   "source": [
    "传递一个list对象来创建一个Series，pandas会默认创建整型索引(index)。"
   ]
  },
  {
   "cell_type": "code",
   "execution_count": 3,
   "metadata": {},
   "outputs": [
    {
     "data": {
      "text/plain": [
       "0    1.0\n",
       "1    3.0\n",
       "2    5.0\n",
       "3    NaN\n",
       "4    6.0\n",
       "5    8.0\n",
       "dtype: float64"
      ]
     },
     "execution_count": 3,
     "metadata": {},
     "output_type": "execute_result"
    }
   ],
   "source": [
    "s = pd.Series([1,3,5,np.nan,6,8])\n",
    "s"
   ]
  },
  {
   "cell_type": "markdown",
   "metadata": {},
   "source": [
    "传递一个numpy array，时间索引以及列标签来创建一个DataFrame"
   ]
  },
  {
   "cell_type": "code",
   "execution_count": 6,
   "metadata": {},
   "outputs": [
    {
     "data": {
      "text/plain": [
       "DatetimeIndex(['2020-04-16', '2020-04-17', '2020-04-18', '2020-04-19',\n",
       "               '2020-04-20', '2020-04-21'],\n",
       "              dtype='datetime64[ns]', freq='D')"
      ]
     },
     "execution_count": 6,
     "metadata": {},
     "output_type": "execute_result"
    }
   ],
   "source": [
    "dates = pd.date_range('20200416', periods=6)\n",
    "dates"
   ]
  },
  {
   "cell_type": "code",
   "execution_count": 8,
   "metadata": {},
   "outputs": [
    {
     "data": {
      "text/html": [
       "<div>\n",
       "<style scoped>\n",
       "    .dataframe tbody tr th:only-of-type {\n",
       "        vertical-align: middle;\n",
       "    }\n",
       "\n",
       "    .dataframe tbody tr th {\n",
       "        vertical-align: top;\n",
       "    }\n",
       "\n",
       "    .dataframe thead th {\n",
       "        text-align: right;\n",
       "    }\n",
       "</style>\n",
       "<table border=\"1\" class=\"dataframe\">\n",
       "  <thead>\n",
       "    <tr style=\"text-align: right;\">\n",
       "      <th></th>\n",
       "      <th>A</th>\n",
       "      <th>B</th>\n",
       "      <th>C</th>\n",
       "      <th>D</th>\n",
       "    </tr>\n",
       "  </thead>\n",
       "  <tbody>\n",
       "    <tr>\n",
       "      <th>2020-04-16</th>\n",
       "      <td>-0.228084</td>\n",
       "      <td>0.712521</td>\n",
       "      <td>0.743378</td>\n",
       "      <td>0.526823</td>\n",
       "    </tr>\n",
       "    <tr>\n",
       "      <th>2020-04-17</th>\n",
       "      <td>-0.423923</td>\n",
       "      <td>0.564346</td>\n",
       "      <td>-2.318931</td>\n",
       "      <td>0.080931</td>\n",
       "    </tr>\n",
       "    <tr>\n",
       "      <th>2020-04-18</th>\n",
       "      <td>-2.032243</td>\n",
       "      <td>2.046827</td>\n",
       "      <td>1.176614</td>\n",
       "      <td>-0.365556</td>\n",
       "    </tr>\n",
       "    <tr>\n",
       "      <th>2020-04-19</th>\n",
       "      <td>-1.200005</td>\n",
       "      <td>1.109991</td>\n",
       "      <td>-1.527804</td>\n",
       "      <td>1.068642</td>\n",
       "    </tr>\n",
       "    <tr>\n",
       "      <th>2020-04-20</th>\n",
       "      <td>-0.535031</td>\n",
       "      <td>1.351420</td>\n",
       "      <td>0.907865</td>\n",
       "      <td>-1.074013</td>\n",
       "    </tr>\n",
       "    <tr>\n",
       "      <th>2020-04-21</th>\n",
       "      <td>-0.614734</td>\n",
       "      <td>0.027143</td>\n",
       "      <td>-0.420875</td>\n",
       "      <td>-0.333819</td>\n",
       "    </tr>\n",
       "  </tbody>\n",
       "</table>\n",
       "</div>"
      ],
      "text/plain": [
       "                   A         B         C         D\n",
       "2020-04-16 -0.228084  0.712521  0.743378  0.526823\n",
       "2020-04-17 -0.423923  0.564346 -2.318931  0.080931\n",
       "2020-04-18 -2.032243  2.046827  1.176614 -0.365556\n",
       "2020-04-19 -1.200005  1.109991 -1.527804  1.068642\n",
       "2020-04-20 -0.535031  1.351420  0.907865 -1.074013\n",
       "2020-04-21 -0.614734  0.027143 -0.420875 -0.333819"
      ]
     },
     "execution_count": 8,
     "metadata": {},
     "output_type": "execute_result"
    }
   ],
   "source": [
    "df = pd.DataFrame(np.random.randn(6,4), index=dates, columns=list('ABCD'))\n",
    "df"
   ]
  },
  {
   "cell_type": "markdown",
   "metadata": {},
   "source": [
    "传递一个能够被转换成类似序列结构的字典对象来创建一个DataFrame"
   ]
  },
  {
   "cell_type": "code",
   "execution_count": 23,
   "metadata": {},
   "outputs": [
    {
     "data": {
      "text/html": [
       "<div>\n",
       "<style scoped>\n",
       "    .dataframe tbody tr th:only-of-type {\n",
       "        vertical-align: middle;\n",
       "    }\n",
       "\n",
       "    .dataframe tbody tr th {\n",
       "        vertical-align: top;\n",
       "    }\n",
       "\n",
       "    .dataframe thead th {\n",
       "        text-align: right;\n",
       "    }\n",
       "</style>\n",
       "<table border=\"1\" class=\"dataframe\">\n",
       "  <thead>\n",
       "    <tr style=\"text-align: right;\">\n",
       "      <th></th>\n",
       "      <th>A</th>\n",
       "      <th>B</th>\n",
       "      <th>C</th>\n",
       "      <th>D</th>\n",
       "      <th>E</th>\n",
       "      <th>F</th>\n",
       "    </tr>\n",
       "  </thead>\n",
       "  <tbody>\n",
       "    <tr>\n",
       "      <th>0</th>\n",
       "      <td>1.0</td>\n",
       "      <td>2020-04-16 18:38:00</td>\n",
       "      <td>1.0</td>\n",
       "      <td>3</td>\n",
       "      <td>test</td>\n",
       "      <td>foo</td>\n",
       "    </tr>\n",
       "    <tr>\n",
       "      <th>1</th>\n",
       "      <td>1.0</td>\n",
       "      <td>2020-04-16 18:38:00</td>\n",
       "      <td>1.0</td>\n",
       "      <td>3</td>\n",
       "      <td>train</td>\n",
       "      <td>foo</td>\n",
       "    </tr>\n",
       "    <tr>\n",
       "      <th>2</th>\n",
       "      <td>1.0</td>\n",
       "      <td>2020-04-16 18:38:00</td>\n",
       "      <td>1.0</td>\n",
       "      <td>3</td>\n",
       "      <td>test</td>\n",
       "      <td>foo</td>\n",
       "    </tr>\n",
       "    <tr>\n",
       "      <th>3</th>\n",
       "      <td>1.0</td>\n",
       "      <td>2020-04-16 18:38:00</td>\n",
       "      <td>1.0</td>\n",
       "      <td>3</td>\n",
       "      <td>train</td>\n",
       "      <td>foo</td>\n",
       "    </tr>\n",
       "  </tbody>\n",
       "</table>\n",
       "</div>"
      ],
      "text/plain": [
       "     A                   B    C  D      E    F\n",
       "0  1.0 2020-04-16 18:38:00  1.0  3   test  foo\n",
       "1  1.0 2020-04-16 18:38:00  1.0  3  train  foo\n",
       "2  1.0 2020-04-16 18:38:00  1.0  3   test  foo\n",
       "3  1.0 2020-04-16 18:38:00  1.0  3  train  foo"
      ]
     },
     "execution_count": 23,
     "metadata": {},
     "output_type": "execute_result"
    }
   ],
   "source": [
    "df2 = pd.DataFrame({ 'A' : 1.,\n",
    " 'B' : pd.Timestamp('20200416183800'),\n",
    " 'C' : pd.Series(1,index=list(range(4)),dtype='float32'),\n",
    " 'D' : np.array([3] * 4,dtype='int32'),\n",
    " 'E' : pd.Categorical([\"test\",\"train\",\"test\",\"train\"]),\n",
    " 'F' : 'foo' })\n",
    "df2"
   ]
  },
  {
   "cell_type": "markdown",
   "metadata": {},
   "source": [
    "查看他们的数据类型(dtypes)."
   ]
  },
  {
   "cell_type": "code",
   "execution_count": 24,
   "metadata": {},
   "outputs": [
    {
     "data": {
      "text/plain": [
       "A           float64\n",
       "B    datetime64[ns]\n",
       "C           float32\n",
       "D             int32\n",
       "E          category\n",
       "F            object\n",
       "dtype: object"
      ]
     },
     "execution_count": 24,
     "metadata": {},
     "output_type": "execute_result"
    }
   ],
   "source": [
    "df2.dtypes"
   ]
  },
  {
   "cell_type": "code",
   "execution_count": 32,
   "metadata": {},
   "outputs": [
    {
     "data": {
      "text/plain": [
       "['A',\n",
       " 'B',\n",
       " 'C',\n",
       " 'D',\n",
       " 'E',\n",
       " 'F',\n",
       " 'T',\n",
       " '_AXIS_ALIASES',\n",
       " '_AXIS_IALIASES',\n",
       " '_AXIS_LEN',\n",
       " '_AXIS_NAMES',\n",
       " '_AXIS_NUMBERS',\n",
       " '_AXIS_ORDERS',\n",
       " '_AXIS_REVERSED',\n",
       " '_AXIS_SLICEMAP',\n",
       " '__abs__',\n",
       " '__add__',\n",
       " '__and__',\n",
       " '__array__',\n",
       " '__array_priority__',\n",
       " '__array_wrap__',\n",
       " '__bool__',\n",
       " '__bytes__',\n",
       " '__class__',\n",
       " '__contains__',\n",
       " '__copy__',\n",
       " '__deepcopy__',\n",
       " '__delattr__',\n",
       " '__delitem__',\n",
       " '__dict__',\n",
       " '__dir__',\n",
       " '__div__',\n",
       " '__doc__',\n",
       " '__eq__',\n",
       " '__finalize__',\n",
       " '__floordiv__',\n",
       " '__format__',\n",
       " '__ge__',\n",
       " '__getattr__',\n",
       " '__getattribute__',\n",
       " '__getitem__',\n",
       " '__getstate__',\n",
       " '__gt__',\n",
       " '__hash__',\n",
       " '__iadd__',\n",
       " '__iand__',\n",
       " '__ifloordiv__',\n",
       " '__imod__',\n",
       " '__imul__',\n",
       " '__init__',\n",
       " '__init_subclass__',\n",
       " '__invert__',\n",
       " '__ior__',\n",
       " '__ipow__',\n",
       " '__isub__',\n",
       " '__iter__',\n",
       " '__itruediv__',\n",
       " '__ixor__',\n",
       " '__le__',\n",
       " '__len__',\n",
       " '__lt__',\n",
       " '__matmul__',\n",
       " '__mod__',\n",
       " '__module__',\n",
       " '__mul__',\n",
       " '__ne__',\n",
       " '__neg__',\n",
       " '__new__',\n",
       " '__nonzero__',\n",
       " '__or__',\n",
       " '__pos__',\n",
       " '__pow__',\n",
       " '__radd__',\n",
       " '__rand__',\n",
       " '__rdiv__',\n",
       " '__reduce__',\n",
       " '__reduce_ex__',\n",
       " '__repr__',\n",
       " '__rfloordiv__',\n",
       " '__rmatmul__',\n",
       " '__rmod__',\n",
       " '__rmul__',\n",
       " '__ror__',\n",
       " '__round__',\n",
       " '__rpow__',\n",
       " '__rsub__',\n",
       " '__rtruediv__',\n",
       " '__rxor__',\n",
       " '__setattr__',\n",
       " '__setitem__',\n",
       " '__setstate__',\n",
       " '__sizeof__',\n",
       " '__str__',\n",
       " '__sub__',\n",
       " '__subclasshook__',\n",
       " '__truediv__',\n",
       " '__unicode__',\n",
       " '__weakref__',\n",
       " '__xor__',\n",
       " '_accessors',\n",
       " '_add_numeric_operations',\n",
       " '_add_series_only_operations',\n",
       " '_add_series_or_dataframe_operations',\n",
       " '_agg_by_level',\n",
       " '_agg_examples_doc',\n",
       " '_agg_summary_and_see_also_doc',\n",
       " '_aggregate',\n",
       " '_aggregate_multiple_funcs',\n",
       " '_align_frame',\n",
       " '_align_series',\n",
       " '_box_col_values',\n",
       " '_box_item_values',\n",
       " '_builtin_table',\n",
       " '_check_inplace_setting',\n",
       " '_check_is_chained_assignment_possible',\n",
       " '_check_label_or_level_ambiguity',\n",
       " '_check_percentile',\n",
       " '_check_setitem_copy',\n",
       " '_clear_item_cache',\n",
       " '_clip_with_one_bound',\n",
       " '_clip_with_scalar',\n",
       " '_combine_const',\n",
       " '_combine_frame',\n",
       " '_combine_match_columns',\n",
       " '_combine_match_index',\n",
       " '_consolidate',\n",
       " '_consolidate_inplace',\n",
       " '_construct_axes_dict',\n",
       " '_construct_axes_dict_for_slice',\n",
       " '_construct_axes_dict_from',\n",
       " '_construct_axes_from_arguments',\n",
       " '_constructor',\n",
       " '_constructor_expanddim',\n",
       " '_constructor_sliced',\n",
       " '_convert',\n",
       " '_count_level',\n",
       " '_create_indexer',\n",
       " '_cython_table',\n",
       " '_deprecations',\n",
       " '_dir_additions',\n",
       " '_dir_deletions',\n",
       " '_drop_axis',\n",
       " '_drop_labels_or_levels',\n",
       " '_ensure_valid_index',\n",
       " '_expand_axes',\n",
       " '_find_valid_index',\n",
       " '_from_arrays',\n",
       " '_from_axes',\n",
       " '_get_agg_axis',\n",
       " '_get_axis',\n",
       " '_get_axis_name',\n",
       " '_get_axis_number',\n",
       " '_get_axis_resolvers',\n",
       " '_get_block_manager_axis',\n",
       " '_get_bool_data',\n",
       " '_get_cacher',\n",
       " '_get_index_resolvers',\n",
       " '_get_item_cache',\n",
       " '_get_label_or_level_values',\n",
       " '_get_numeric_data',\n",
       " '_get_value',\n",
       " '_get_values',\n",
       " '_getitem_bool_array',\n",
       " '_getitem_frame',\n",
       " '_getitem_multilevel',\n",
       " '_gotitem',\n",
       " '_iget_item_cache',\n",
       " '_indexed_same',\n",
       " '_info_axis',\n",
       " '_info_axis_name',\n",
       " '_info_axis_number',\n",
       " '_info_repr',\n",
       " '_init_mgr',\n",
       " '_internal_names',\n",
       " '_internal_names_set',\n",
       " '_is_builtin_func',\n",
       " '_is_cached',\n",
       " '_is_copy',\n",
       " '_is_cython_func',\n",
       " '_is_datelike_mixed_type',\n",
       " '_is_homogeneous_type',\n",
       " '_is_label_or_level_reference',\n",
       " '_is_label_reference',\n",
       " '_is_level_reference',\n",
       " '_is_mixed_type',\n",
       " '_is_numeric_mixed_type',\n",
       " '_is_view',\n",
       " '_ix',\n",
       " '_ixs',\n",
       " '_join_compat',\n",
       " '_maybe_cache_changed',\n",
       " '_maybe_update_cacher',\n",
       " '_metadata',\n",
       " '_needs_reindex_multi',\n",
       " '_obj_with_exclusions',\n",
       " '_protect_consolidate',\n",
       " '_reduce',\n",
       " '_reindex_axes',\n",
       " '_reindex_columns',\n",
       " '_reindex_index',\n",
       " '_reindex_multi',\n",
       " '_reindex_with_indexers',\n",
       " '_repr_data_resource_',\n",
       " '_repr_fits_horizontal_',\n",
       " '_repr_fits_vertical_',\n",
       " '_repr_html_',\n",
       " '_repr_latex_',\n",
       " '_reset_cache',\n",
       " '_reset_cacher',\n",
       " '_sanitize_column',\n",
       " '_selected_obj',\n",
       " '_selection',\n",
       " '_selection_list',\n",
       " '_selection_name',\n",
       " '_series',\n",
       " '_set_as_cached',\n",
       " '_set_axis',\n",
       " '_set_axis_name',\n",
       " '_set_is_copy',\n",
       " '_set_item',\n",
       " '_set_value',\n",
       " '_setitem_array',\n",
       " '_setitem_frame',\n",
       " '_setitem_slice',\n",
       " '_setup_axes',\n",
       " '_shallow_copy',\n",
       " '_slice',\n",
       " '_stat_axis',\n",
       " '_stat_axis_name',\n",
       " '_stat_axis_number',\n",
       " '_take',\n",
       " '_to_dict_of_blocks',\n",
       " '_try_aggregate_string_function',\n",
       " '_typ',\n",
       " '_unpickle_frame_compat',\n",
       " '_unpickle_matrix_compat',\n",
       " '_update_inplace',\n",
       " '_validate_dtype',\n",
       " '_values',\n",
       " '_where',\n",
       " '_xs',\n",
       " 'abs',\n",
       " 'add',\n",
       " 'add_prefix',\n",
       " 'add_suffix',\n",
       " 'agg',\n",
       " 'aggregate',\n",
       " 'align',\n",
       " 'all',\n",
       " 'any',\n",
       " 'append',\n",
       " 'apply',\n",
       " 'applymap',\n",
       " 'as_matrix',\n",
       " 'asfreq',\n",
       " 'asof',\n",
       " 'assign',\n",
       " 'astype',\n",
       " 'at',\n",
       " 'at_time',\n",
       " 'axes',\n",
       " 'between_time',\n",
       " 'bfill',\n",
       " 'bool',\n",
       " 'boxplot',\n",
       " 'clip',\n",
       " 'clip_lower',\n",
       " 'clip_upper',\n",
       " 'columns',\n",
       " 'combine',\n",
       " 'combine_first',\n",
       " 'compound',\n",
       " 'copy',\n",
       " 'corr',\n",
       " 'corrwith',\n",
       " 'count',\n",
       " 'cov',\n",
       " 'cummax',\n",
       " 'cummin',\n",
       " 'cumprod',\n",
       " 'cumsum',\n",
       " 'describe',\n",
       " 'diff',\n",
       " 'div',\n",
       " 'divide',\n",
       " 'dot',\n",
       " 'drop',\n",
       " 'drop_duplicates',\n",
       " 'droplevel',\n",
       " 'dropna',\n",
       " 'dtypes',\n",
       " 'duplicated',\n",
       " 'empty',\n",
       " 'eq',\n",
       " 'equals',\n",
       " 'eval',\n",
       " 'ewm',\n",
       " 'expanding',\n",
       " 'ffill',\n",
       " 'fillna',\n",
       " 'filter',\n",
       " 'first',\n",
       " 'first_valid_index',\n",
       " 'floordiv',\n",
       " 'from_dict',\n",
       " 'from_records',\n",
       " 'ftypes',\n",
       " 'ge',\n",
       " 'get',\n",
       " 'get_dtype_counts',\n",
       " 'get_ftype_counts',\n",
       " 'get_values',\n",
       " 'groupby',\n",
       " 'gt',\n",
       " 'head',\n",
       " 'hist',\n",
       " 'iat',\n",
       " 'idxmax',\n",
       " 'idxmin',\n",
       " 'iloc',\n",
       " 'index',\n",
       " 'infer_objects',\n",
       " 'info',\n",
       " 'insert',\n",
       " 'interpolate',\n",
       " 'isin',\n",
       " 'isna',\n",
       " 'isnull',\n",
       " 'items',\n",
       " 'iteritems',\n",
       " 'iterrows',\n",
       " 'itertuples',\n",
       " 'ix',\n",
       " 'join',\n",
       " 'keys',\n",
       " 'kurt',\n",
       " 'kurtosis',\n",
       " 'last',\n",
       " 'last_valid_index',\n",
       " 'le',\n",
       " 'loc',\n",
       " 'lookup',\n",
       " 'lt',\n",
       " 'mad',\n",
       " 'mask',\n",
       " 'max',\n",
       " 'mean',\n",
       " 'median',\n",
       " 'melt',\n",
       " 'memory_usage',\n",
       " 'merge',\n",
       " 'min',\n",
       " 'mod',\n",
       " 'mode',\n",
       " 'mul',\n",
       " 'multiply',\n",
       " 'ndim',\n",
       " 'ne',\n",
       " 'nlargest',\n",
       " 'notna',\n",
       " 'notnull',\n",
       " 'nsmallest',\n",
       " 'nunique',\n",
       " 'pct_change',\n",
       " 'pipe',\n",
       " 'pivot',\n",
       " 'pivot_table',\n",
       " 'plot',\n",
       " 'pop',\n",
       " 'pow',\n",
       " 'prod',\n",
       " 'product',\n",
       " 'quantile',\n",
       " 'query',\n",
       " 'radd',\n",
       " 'rank',\n",
       " 'rdiv',\n",
       " 'reindex',\n",
       " 'reindex_axis',\n",
       " 'reindex_like',\n",
       " 'rename',\n",
       " 'rename_axis',\n",
       " 'reorder_levels',\n",
       " 'replace',\n",
       " 'resample',\n",
       " 'reset_index',\n",
       " 'rfloordiv',\n",
       " 'rmod',\n",
       " 'rmul',\n",
       " 'rolling',\n",
       " 'round',\n",
       " 'rpow',\n",
       " 'rsub',\n",
       " 'rtruediv',\n",
       " 'sample',\n",
       " 'select',\n",
       " 'select_dtypes',\n",
       " 'sem',\n",
       " 'set_axis',\n",
       " 'set_index',\n",
       " 'shape',\n",
       " 'shift',\n",
       " 'size',\n",
       " 'skew',\n",
       " 'slice_shift',\n",
       " 'sort_index',\n",
       " 'sort_values',\n",
       " 'squeeze',\n",
       " 'stack',\n",
       " 'std',\n",
       " 'style',\n",
       " 'sub',\n",
       " 'subtract',\n",
       " 'sum',\n",
       " 'swapaxes',\n",
       " 'swaplevel',\n",
       " 'tail',\n",
       " 'take',\n",
       " 'timetuple',\n",
       " 'to_clipboard',\n",
       " 'to_csv',\n",
       " 'to_dense',\n",
       " 'to_dict',\n",
       " 'to_excel',\n",
       " 'to_feather',\n",
       " 'to_gbq',\n",
       " 'to_hdf',\n",
       " 'to_html',\n",
       " 'to_json',\n",
       " 'to_latex',\n",
       " 'to_msgpack',\n",
       " 'to_numpy',\n",
       " 'to_panel',\n",
       " 'to_parquet',\n",
       " 'to_period',\n",
       " 'to_pickle',\n",
       " 'to_records',\n",
       " 'to_sparse',\n",
       " 'to_sql',\n",
       " 'to_stata',\n",
       " 'to_string',\n",
       " 'to_timestamp',\n",
       " 'to_xarray',\n",
       " 'transform',\n",
       " 'transpose',\n",
       " 'truediv',\n",
       " 'truncate',\n",
       " 'tshift',\n",
       " 'tz_convert',\n",
       " 'tz_localize',\n",
       " 'unstack',\n",
       " 'update',\n",
       " 'values',\n",
       " 'var',\n",
       " 'where',\n",
       " 'xs']"
      ]
     },
     "execution_count": 32,
     "metadata": {},
     "output_type": "execute_result"
    }
   ],
   "source": [
    "dir(df2)"
   ]
  },
  {
   "cell_type": "markdown",
   "metadata": {},
   "source": [
    "## 0x03 查看数据 Viewing Data"
   ]
  },
  {
   "cell_type": "markdown",
   "metadata": {},
   "source": [
    "查看 frame 中头部和尾部的行"
   ]
  },
  {
   "cell_type": "code",
   "execution_count": 40,
   "metadata": {},
   "outputs": [
    {
     "data": {
      "text/html": [
       "<div>\n",
       "<style scoped>\n",
       "    .dataframe tbody tr th:only-of-type {\n",
       "        vertical-align: middle;\n",
       "    }\n",
       "\n",
       "    .dataframe tbody tr th {\n",
       "        vertical-align: top;\n",
       "    }\n",
       "\n",
       "    .dataframe thead th {\n",
       "        text-align: right;\n",
       "    }\n",
       "</style>\n",
       "<table border=\"1\" class=\"dataframe\">\n",
       "  <thead>\n",
       "    <tr style=\"text-align: right;\">\n",
       "      <th></th>\n",
       "      <th>A</th>\n",
       "      <th>B</th>\n",
       "      <th>C</th>\n",
       "      <th>D</th>\n",
       "    </tr>\n",
       "  </thead>\n",
       "  <tbody>\n",
       "    <tr>\n",
       "      <th>2020-04-16</th>\n",
       "      <td>-0.228084</td>\n",
       "      <td>0.712521</td>\n",
       "      <td>0.743378</td>\n",
       "      <td>0.526823</td>\n",
       "    </tr>\n",
       "    <tr>\n",
       "      <th>2020-04-17</th>\n",
       "      <td>-0.423923</td>\n",
       "      <td>0.564346</td>\n",
       "      <td>-2.318931</td>\n",
       "      <td>0.080931</td>\n",
       "    </tr>\n",
       "    <tr>\n",
       "      <th>2020-04-18</th>\n",
       "      <td>-2.032243</td>\n",
       "      <td>2.046827</td>\n",
       "      <td>1.176614</td>\n",
       "      <td>-0.365556</td>\n",
       "    </tr>\n",
       "    <tr>\n",
       "      <th>2020-04-19</th>\n",
       "      <td>-1.200005</td>\n",
       "      <td>1.109991</td>\n",
       "      <td>-1.527804</td>\n",
       "      <td>1.068642</td>\n",
       "    </tr>\n",
       "    <tr>\n",
       "      <th>2020-04-20</th>\n",
       "      <td>-0.535031</td>\n",
       "      <td>1.351420</td>\n",
       "      <td>0.907865</td>\n",
       "      <td>-1.074013</td>\n",
       "    </tr>\n",
       "  </tbody>\n",
       "</table>\n",
       "</div>"
      ],
      "text/plain": [
       "                   A         B         C         D\n",
       "2020-04-16 -0.228084  0.712521  0.743378  0.526823\n",
       "2020-04-17 -0.423923  0.564346 -2.318931  0.080931\n",
       "2020-04-18 -2.032243  2.046827  1.176614 -0.365556\n",
       "2020-04-19 -1.200005  1.109991 -1.527804  1.068642\n",
       "2020-04-20 -0.535031  1.351420  0.907865 -1.074013"
      ]
     },
     "execution_count": 40,
     "metadata": {},
     "output_type": "execute_result"
    }
   ],
   "source": [
    "df.head()"
   ]
  },
  {
   "cell_type": "code",
   "execution_count": 41,
   "metadata": {},
   "outputs": [
    {
     "data": {
      "text/html": [
       "<div>\n",
       "<style scoped>\n",
       "    .dataframe tbody tr th:only-of-type {\n",
       "        vertical-align: middle;\n",
       "    }\n",
       "\n",
       "    .dataframe tbody tr th {\n",
       "        vertical-align: top;\n",
       "    }\n",
       "\n",
       "    .dataframe thead th {\n",
       "        text-align: right;\n",
       "    }\n",
       "</style>\n",
       "<table border=\"1\" class=\"dataframe\">\n",
       "  <thead>\n",
       "    <tr style=\"text-align: right;\">\n",
       "      <th></th>\n",
       "      <th>A</th>\n",
       "      <th>B</th>\n",
       "      <th>C</th>\n",
       "      <th>D</th>\n",
       "    </tr>\n",
       "  </thead>\n",
       "  <tbody>\n",
       "    <tr>\n",
       "      <th>2020-04-16</th>\n",
       "      <td>-0.228084</td>\n",
       "      <td>0.712521</td>\n",
       "      <td>0.743378</td>\n",
       "      <td>0.526823</td>\n",
       "    </tr>\n",
       "    <tr>\n",
       "      <th>2020-04-17</th>\n",
       "      <td>-0.423923</td>\n",
       "      <td>0.564346</td>\n",
       "      <td>-2.318931</td>\n",
       "      <td>0.080931</td>\n",
       "    </tr>\n",
       "  </tbody>\n",
       "</table>\n",
       "</div>"
      ],
      "text/plain": [
       "                   A         B         C         D\n",
       "2020-04-16 -0.228084  0.712521  0.743378  0.526823\n",
       "2020-04-17 -0.423923  0.564346 -2.318931  0.080931"
      ]
     },
     "execution_count": 41,
     "metadata": {},
     "output_type": "execute_result"
    }
   ],
   "source": [
    "df.head(2)  # 前两行"
   ]
  },
  {
   "cell_type": "code",
   "execution_count": 38,
   "metadata": {},
   "outputs": [
    {
     "data": {
      "text/html": [
       "<div>\n",
       "<style scoped>\n",
       "    .dataframe tbody tr th:only-of-type {\n",
       "        vertical-align: middle;\n",
       "    }\n",
       "\n",
       "    .dataframe tbody tr th {\n",
       "        vertical-align: top;\n",
       "    }\n",
       "\n",
       "    .dataframe thead th {\n",
       "        text-align: right;\n",
       "    }\n",
       "</style>\n",
       "<table border=\"1\" class=\"dataframe\">\n",
       "  <thead>\n",
       "    <tr style=\"text-align: right;\">\n",
       "      <th></th>\n",
       "      <th>A</th>\n",
       "      <th>B</th>\n",
       "      <th>C</th>\n",
       "      <th>D</th>\n",
       "    </tr>\n",
       "  </thead>\n",
       "  <tbody>\n",
       "    <tr>\n",
       "      <th>2020-04-19</th>\n",
       "      <td>-1.200005</td>\n",
       "      <td>1.109991</td>\n",
       "      <td>-1.527804</td>\n",
       "      <td>1.068642</td>\n",
       "    </tr>\n",
       "    <tr>\n",
       "      <th>2020-04-20</th>\n",
       "      <td>-0.535031</td>\n",
       "      <td>1.351420</td>\n",
       "      <td>0.907865</td>\n",
       "      <td>-1.074013</td>\n",
       "    </tr>\n",
       "    <tr>\n",
       "      <th>2020-04-21</th>\n",
       "      <td>-0.614734</td>\n",
       "      <td>0.027143</td>\n",
       "      <td>-0.420875</td>\n",
       "      <td>-0.333819</td>\n",
       "    </tr>\n",
       "  </tbody>\n",
       "</table>\n",
       "</div>"
      ],
      "text/plain": [
       "                   A         B         C         D\n",
       "2020-04-19 -1.200005  1.109991 -1.527804  1.068642\n",
       "2020-04-20 -0.535031  1.351420  0.907865 -1.074013\n",
       "2020-04-21 -0.614734  0.027143 -0.420875 -0.333819"
      ]
     },
     "execution_count": 38,
     "metadata": {},
     "output_type": "execute_result"
    }
   ],
   "source": [
    "df.tail(3)  # 倒数三行"
   ]
  },
  {
   "cell_type": "markdown",
   "metadata": {},
   "source": [
    "显示索引、列和底层的(underlying) numpy 数据"
   ]
  },
  {
   "cell_type": "code",
   "execution_count": 47,
   "metadata": {},
   "outputs": [
    {
     "data": {
      "text/html": [
       "<div>\n",
       "<style scoped>\n",
       "    .dataframe tbody tr th:only-of-type {\n",
       "        vertical-align: middle;\n",
       "    }\n",
       "\n",
       "    .dataframe tbody tr th {\n",
       "        vertical-align: top;\n",
       "    }\n",
       "\n",
       "    .dataframe thead th {\n",
       "        text-align: right;\n",
       "    }\n",
       "</style>\n",
       "<table border=\"1\" class=\"dataframe\">\n",
       "  <thead>\n",
       "    <tr style=\"text-align: right;\">\n",
       "      <th></th>\n",
       "      <th>A</th>\n",
       "      <th>B</th>\n",
       "      <th>C</th>\n",
       "      <th>D</th>\n",
       "    </tr>\n",
       "  </thead>\n",
       "  <tbody>\n",
       "    <tr>\n",
       "      <th>2020-04-16</th>\n",
       "      <td>-0.228084</td>\n",
       "      <td>0.712521</td>\n",
       "      <td>0.743378</td>\n",
       "      <td>0.526823</td>\n",
       "    </tr>\n",
       "    <tr>\n",
       "      <th>2020-04-17</th>\n",
       "      <td>-0.423923</td>\n",
       "      <td>0.564346</td>\n",
       "      <td>-2.318931</td>\n",
       "      <td>0.080931</td>\n",
       "    </tr>\n",
       "    <tr>\n",
       "      <th>2020-04-18</th>\n",
       "      <td>-2.032243</td>\n",
       "      <td>2.046827</td>\n",
       "      <td>1.176614</td>\n",
       "      <td>-0.365556</td>\n",
       "    </tr>\n",
       "    <tr>\n",
       "      <th>2020-04-19</th>\n",
       "      <td>-1.200005</td>\n",
       "      <td>1.109991</td>\n",
       "      <td>-1.527804</td>\n",
       "      <td>1.068642</td>\n",
       "    </tr>\n",
       "    <tr>\n",
       "      <th>2020-04-20</th>\n",
       "      <td>-0.535031</td>\n",
       "      <td>1.351420</td>\n",
       "      <td>0.907865</td>\n",
       "      <td>-1.074013</td>\n",
       "    </tr>\n",
       "    <tr>\n",
       "      <th>2020-04-21</th>\n",
       "      <td>-0.614734</td>\n",
       "      <td>0.027143</td>\n",
       "      <td>-0.420875</td>\n",
       "      <td>-0.333819</td>\n",
       "    </tr>\n",
       "  </tbody>\n",
       "</table>\n",
       "</div>"
      ],
      "text/plain": [
       "                   A         B         C         D\n",
       "2020-04-16 -0.228084  0.712521  0.743378  0.526823\n",
       "2020-04-17 -0.423923  0.564346 -2.318931  0.080931\n",
       "2020-04-18 -2.032243  2.046827  1.176614 -0.365556\n",
       "2020-04-19 -1.200005  1.109991 -1.527804  1.068642\n",
       "2020-04-20 -0.535031  1.351420  0.907865 -1.074013\n",
       "2020-04-21 -0.614734  0.027143 -0.420875 -0.333819"
      ]
     },
     "execution_count": 47,
     "metadata": {},
     "output_type": "execute_result"
    }
   ],
   "source": [
    "df"
   ]
  },
  {
   "cell_type": "code",
   "execution_count": 43,
   "metadata": {},
   "outputs": [
    {
     "data": {
      "text/plain": [
       "DatetimeIndex(['2020-04-16', '2020-04-17', '2020-04-18', '2020-04-19',\n",
       "               '2020-04-20', '2020-04-21'],\n",
       "              dtype='datetime64[ns]', freq='D')"
      ]
     },
     "execution_count": 43,
     "metadata": {},
     "output_type": "execute_result"
    }
   ],
   "source": [
    "df.index"
   ]
  },
  {
   "cell_type": "code",
   "execution_count": 44,
   "metadata": {},
   "outputs": [
    {
     "data": {
      "text/plain": [
       "Int64Index([0, 1, 2, 3], dtype='int64')"
      ]
     },
     "execution_count": 44,
     "metadata": {},
     "output_type": "execute_result"
    }
   ],
   "source": [
    "df2.index"
   ]
  },
  {
   "cell_type": "code",
   "execution_count": 45,
   "metadata": {},
   "outputs": [
    {
     "data": {
      "text/plain": [
       "Index(['A', 'B', 'C', 'D'], dtype='object')"
      ]
     },
     "execution_count": 45,
     "metadata": {},
     "output_type": "execute_result"
    }
   ],
   "source": [
    "df.columns"
   ]
  },
  {
   "cell_type": "code",
   "execution_count": 46,
   "metadata": {},
   "outputs": [
    {
     "data": {
      "text/plain": [
       "array([[-0.22808386,  0.71252123,  0.74337822,  0.52682341],\n",
       "       [-0.42392275,  0.56434629, -2.31893066,  0.08093058],\n",
       "       [-2.03224294,  2.04682736,  1.17661398, -0.3655562 ],\n",
       "       [-1.20000469,  1.10999124, -1.52780407,  1.06864157],\n",
       "       [-0.53503099,  1.35142044,  0.90786509, -1.07401348],\n",
       "       [-0.61473412,  0.02714293, -0.42087502, -0.33381946]])"
      ]
     },
     "execution_count": 46,
     "metadata": {},
     "output_type": "execute_result"
    }
   ],
   "source": [
    "df.values"
   ]
  },
  {
   "cell_type": "code",
   "execution_count": 48,
   "metadata": {},
   "outputs": [
    {
     "data": {
      "text/plain": [
       "array([[1.0, Timestamp('2020-04-16 18:38:00'), 1.0, 3, 'test', 'foo'],\n",
       "       [1.0, Timestamp('2020-04-16 18:38:00'), 1.0, 3, 'train', 'foo'],\n",
       "       [1.0, Timestamp('2020-04-16 18:38:00'), 1.0, 3, 'test', 'foo'],\n",
       "       [1.0, Timestamp('2020-04-16 18:38:00'), 1.0, 3, 'train', 'foo']],\n",
       "      dtype=object)"
      ]
     },
     "execution_count": 48,
     "metadata": {},
     "output_type": "execute_result"
    }
   ],
   "source": [
    "df2.values"
   ]
  },
  {
   "cell_type": "code",
   "execution_count": 54,
   "metadata": {
    "scrolled": true
   },
   "outputs": [
    {
     "name": "stdout",
     "output_type": "stream",
     "text": [
      "<class 'pandas.core.frame.DataFrame'>\n",
      "<class 'pandas.core.indexes.base.Index'>\n",
      "<class 'numpy.ndarray'>\n"
     ]
    }
   ],
   "source": [
    "print(type(df))\n",
    "print(type(df.columns))\n",
    "print(type(df.values))"
   ]
  },
  {
   "cell_type": "markdown",
   "metadata": {},
   "source": [
    "`describe` 函数对于数据的快速统计汇总"
   ]
  },
  {
   "cell_type": "code",
   "execution_count": 55,
   "metadata": {},
   "outputs": [
    {
     "data": {
      "text/html": [
       "<div>\n",
       "<style scoped>\n",
       "    .dataframe tbody tr th:only-of-type {\n",
       "        vertical-align: middle;\n",
       "    }\n",
       "\n",
       "    .dataframe tbody tr th {\n",
       "        vertical-align: top;\n",
       "    }\n",
       "\n",
       "    .dataframe thead th {\n",
       "        text-align: right;\n",
       "    }\n",
       "</style>\n",
       "<table border=\"1\" class=\"dataframe\">\n",
       "  <thead>\n",
       "    <tr style=\"text-align: right;\">\n",
       "      <th></th>\n",
       "      <th>A</th>\n",
       "      <th>B</th>\n",
       "      <th>C</th>\n",
       "      <th>D</th>\n",
       "    </tr>\n",
       "  </thead>\n",
       "  <tbody>\n",
       "    <tr>\n",
       "      <th>count</th>\n",
       "      <td>6.000000</td>\n",
       "      <td>6.000000</td>\n",
       "      <td>6.000000</td>\n",
       "      <td>6.000000</td>\n",
       "    </tr>\n",
       "    <tr>\n",
       "      <th>mean</th>\n",
       "      <td>-0.839003</td>\n",
       "      <td>0.968708</td>\n",
       "      <td>-0.239959</td>\n",
       "      <td>-0.016166</td>\n",
       "    </tr>\n",
       "    <tr>\n",
       "      <th>std</th>\n",
       "      <td>0.669679</td>\n",
       "      <td>0.699208</td>\n",
       "      <td>1.435586</td>\n",
       "      <td>0.751411</td>\n",
       "    </tr>\n",
       "    <tr>\n",
       "      <th>min</th>\n",
       "      <td>-2.032243</td>\n",
       "      <td>0.027143</td>\n",
       "      <td>-2.318931</td>\n",
       "      <td>-1.074013</td>\n",
       "    </tr>\n",
       "    <tr>\n",
       "      <th>25%</th>\n",
       "      <td>-1.053687</td>\n",
       "      <td>0.601390</td>\n",
       "      <td>-1.251072</td>\n",
       "      <td>-0.357622</td>\n",
       "    </tr>\n",
       "    <tr>\n",
       "      <th>50%</th>\n",
       "      <td>-0.574883</td>\n",
       "      <td>0.911256</td>\n",
       "      <td>0.161252</td>\n",
       "      <td>-0.126444</td>\n",
       "    </tr>\n",
       "    <tr>\n",
       "      <th>75%</th>\n",
       "      <td>-0.451700</td>\n",
       "      <td>1.291063</td>\n",
       "      <td>0.866743</td>\n",
       "      <td>0.415350</td>\n",
       "    </tr>\n",
       "    <tr>\n",
       "      <th>max</th>\n",
       "      <td>-0.228084</td>\n",
       "      <td>2.046827</td>\n",
       "      <td>1.176614</td>\n",
       "      <td>1.068642</td>\n",
       "    </tr>\n",
       "  </tbody>\n",
       "</table>\n",
       "</div>"
      ],
      "text/plain": [
       "              A         B         C         D\n",
       "count  6.000000  6.000000  6.000000  6.000000\n",
       "mean  -0.839003  0.968708 -0.239959 -0.016166\n",
       "std    0.669679  0.699208  1.435586  0.751411\n",
       "min   -2.032243  0.027143 -2.318931 -1.074013\n",
       "25%   -1.053687  0.601390 -1.251072 -0.357622\n",
       "50%   -0.574883  0.911256  0.161252 -0.126444\n",
       "75%   -0.451700  1.291063  0.866743  0.415350\n",
       "max   -0.228084  2.046827  1.176614  1.068642"
      ]
     },
     "execution_count": 55,
     "metadata": {},
     "output_type": "execute_result"
    }
   ],
   "source": [
    "df.describe()"
   ]
  },
  {
   "cell_type": "code",
   "execution_count": 57,
   "metadata": {},
   "outputs": [
    {
     "data": {
      "text/html": [
       "<div>\n",
       "<style scoped>\n",
       "    .dataframe tbody tr th:only-of-type {\n",
       "        vertical-align: middle;\n",
       "    }\n",
       "\n",
       "    .dataframe tbody tr th {\n",
       "        vertical-align: top;\n",
       "    }\n",
       "\n",
       "    .dataframe thead th {\n",
       "        text-align: right;\n",
       "    }\n",
       "</style>\n",
       "<table border=\"1\" class=\"dataframe\">\n",
       "  <thead>\n",
       "    <tr style=\"text-align: right;\">\n",
       "      <th></th>\n",
       "      <th>A</th>\n",
       "      <th>C</th>\n",
       "      <th>D</th>\n",
       "    </tr>\n",
       "  </thead>\n",
       "  <tbody>\n",
       "    <tr>\n",
       "      <th>count</th>\n",
       "      <td>4.0</td>\n",
       "      <td>4.0</td>\n",
       "      <td>4.0</td>\n",
       "    </tr>\n",
       "    <tr>\n",
       "      <th>mean</th>\n",
       "      <td>1.0</td>\n",
       "      <td>1.0</td>\n",
       "      <td>3.0</td>\n",
       "    </tr>\n",
       "    <tr>\n",
       "      <th>std</th>\n",
       "      <td>0.0</td>\n",
       "      <td>0.0</td>\n",
       "      <td>0.0</td>\n",
       "    </tr>\n",
       "    <tr>\n",
       "      <th>min</th>\n",
       "      <td>1.0</td>\n",
       "      <td>1.0</td>\n",
       "      <td>3.0</td>\n",
       "    </tr>\n",
       "    <tr>\n",
       "      <th>25%</th>\n",
       "      <td>1.0</td>\n",
       "      <td>1.0</td>\n",
       "      <td>3.0</td>\n",
       "    </tr>\n",
       "    <tr>\n",
       "      <th>50%</th>\n",
       "      <td>1.0</td>\n",
       "      <td>1.0</td>\n",
       "      <td>3.0</td>\n",
       "    </tr>\n",
       "    <tr>\n",
       "      <th>75%</th>\n",
       "      <td>1.0</td>\n",
       "      <td>1.0</td>\n",
       "      <td>3.0</td>\n",
       "    </tr>\n",
       "    <tr>\n",
       "      <th>max</th>\n",
       "      <td>1.0</td>\n",
       "      <td>1.0</td>\n",
       "      <td>3.0</td>\n",
       "    </tr>\n",
       "  </tbody>\n",
       "</table>\n",
       "</div>"
      ],
      "text/plain": [
       "         A    C    D\n",
       "count  4.0  4.0  4.0\n",
       "mean   1.0  1.0  3.0\n",
       "std    0.0  0.0  0.0\n",
       "min    1.0  1.0  3.0\n",
       "25%    1.0  1.0  3.0\n",
       "50%    1.0  1.0  3.0\n",
       "75%    1.0  1.0  3.0\n",
       "max    1.0  1.0  3.0"
      ]
     },
     "execution_count": 57,
     "metadata": {},
     "output_type": "execute_result"
    }
   ],
   "source": [
    "df2.describe()"
   ]
  },
  {
   "cell_type": "markdown",
   "metadata": {},
   "source": [
    "对数据进行转置(Transposing)"
   ]
  },
  {
   "cell_type": "code",
   "execution_count": 58,
   "metadata": {},
   "outputs": [
    {
     "data": {
      "text/html": [
       "<div>\n",
       "<style scoped>\n",
       "    .dataframe tbody tr th:only-of-type {\n",
       "        vertical-align: middle;\n",
       "    }\n",
       "\n",
       "    .dataframe tbody tr th {\n",
       "        vertical-align: top;\n",
       "    }\n",
       "\n",
       "    .dataframe thead th {\n",
       "        text-align: right;\n",
       "    }\n",
       "</style>\n",
       "<table border=\"1\" class=\"dataframe\">\n",
       "  <thead>\n",
       "    <tr style=\"text-align: right;\">\n",
       "      <th></th>\n",
       "      <th>2020-04-16 00:00:00</th>\n",
       "      <th>2020-04-17 00:00:00</th>\n",
       "      <th>2020-04-18 00:00:00</th>\n",
       "      <th>2020-04-19 00:00:00</th>\n",
       "      <th>2020-04-20 00:00:00</th>\n",
       "      <th>2020-04-21 00:00:00</th>\n",
       "    </tr>\n",
       "  </thead>\n",
       "  <tbody>\n",
       "    <tr>\n",
       "      <th>A</th>\n",
       "      <td>-0.228084</td>\n",
       "      <td>-0.423923</td>\n",
       "      <td>-2.032243</td>\n",
       "      <td>-1.200005</td>\n",
       "      <td>-0.535031</td>\n",
       "      <td>-0.614734</td>\n",
       "    </tr>\n",
       "    <tr>\n",
       "      <th>B</th>\n",
       "      <td>0.712521</td>\n",
       "      <td>0.564346</td>\n",
       "      <td>2.046827</td>\n",
       "      <td>1.109991</td>\n",
       "      <td>1.351420</td>\n",
       "      <td>0.027143</td>\n",
       "    </tr>\n",
       "    <tr>\n",
       "      <th>C</th>\n",
       "      <td>0.743378</td>\n",
       "      <td>-2.318931</td>\n",
       "      <td>1.176614</td>\n",
       "      <td>-1.527804</td>\n",
       "      <td>0.907865</td>\n",
       "      <td>-0.420875</td>\n",
       "    </tr>\n",
       "    <tr>\n",
       "      <th>D</th>\n",
       "      <td>0.526823</td>\n",
       "      <td>0.080931</td>\n",
       "      <td>-0.365556</td>\n",
       "      <td>1.068642</td>\n",
       "      <td>-1.074013</td>\n",
       "      <td>-0.333819</td>\n",
       "    </tr>\n",
       "  </tbody>\n",
       "</table>\n",
       "</div>"
      ],
      "text/plain": [
       "   2020-04-16  2020-04-17  2020-04-18  2020-04-19  2020-04-20  2020-04-21\n",
       "A   -0.228084   -0.423923   -2.032243   -1.200005   -0.535031   -0.614734\n",
       "B    0.712521    0.564346    2.046827    1.109991    1.351420    0.027143\n",
       "C    0.743378   -2.318931    1.176614   -1.527804    0.907865   -0.420875\n",
       "D    0.526823    0.080931   -0.365556    1.068642   -1.074013   -0.333819"
      ]
     },
     "execution_count": 58,
     "metadata": {},
     "output_type": "execute_result"
    }
   ],
   "source": [
    "df.T"
   ]
  },
  {
   "cell_type": "code",
   "execution_count": 62,
   "metadata": {},
   "outputs": [
    {
     "data": {
      "text/html": [
       "<div>\n",
       "<style scoped>\n",
       "    .dataframe tbody tr th:only-of-type {\n",
       "        vertical-align: middle;\n",
       "    }\n",
       "\n",
       "    .dataframe tbody tr th {\n",
       "        vertical-align: top;\n",
       "    }\n",
       "\n",
       "    .dataframe thead th {\n",
       "        text-align: right;\n",
       "    }\n",
       "</style>\n",
       "<table border=\"1\" class=\"dataframe\">\n",
       "  <thead>\n",
       "    <tr style=\"text-align: right;\">\n",
       "      <th></th>\n",
       "      <th>0</th>\n",
       "      <th>1</th>\n",
       "      <th>2</th>\n",
       "      <th>3</th>\n",
       "    </tr>\n",
       "  </thead>\n",
       "  <tbody>\n",
       "    <tr>\n",
       "      <th>A</th>\n",
       "      <td>1</td>\n",
       "      <td>1</td>\n",
       "      <td>1</td>\n",
       "      <td>1</td>\n",
       "    </tr>\n",
       "    <tr>\n",
       "      <th>B</th>\n",
       "      <td>2020-04-16 18:38:00</td>\n",
       "      <td>2020-04-16 18:38:00</td>\n",
       "      <td>2020-04-16 18:38:00</td>\n",
       "      <td>2020-04-16 18:38:00</td>\n",
       "    </tr>\n",
       "    <tr>\n",
       "      <th>C</th>\n",
       "      <td>1</td>\n",
       "      <td>1</td>\n",
       "      <td>1</td>\n",
       "      <td>1</td>\n",
       "    </tr>\n",
       "    <tr>\n",
       "      <th>D</th>\n",
       "      <td>3</td>\n",
       "      <td>3</td>\n",
       "      <td>3</td>\n",
       "      <td>3</td>\n",
       "    </tr>\n",
       "    <tr>\n",
       "      <th>E</th>\n",
       "      <td>test</td>\n",
       "      <td>train</td>\n",
       "      <td>test</td>\n",
       "      <td>train</td>\n",
       "    </tr>\n",
       "    <tr>\n",
       "      <th>F</th>\n",
       "      <td>foo</td>\n",
       "      <td>foo</td>\n",
       "      <td>foo</td>\n",
       "      <td>foo</td>\n",
       "    </tr>\n",
       "  </tbody>\n",
       "</table>\n",
       "</div>"
      ],
      "text/plain": [
       "                     0                    1                    2  \\\n",
       "A                    1                    1                    1   \n",
       "B  2020-04-16 18:38:00  2020-04-16 18:38:00  2020-04-16 18:38:00   \n",
       "C                    1                    1                    1   \n",
       "D                    3                    3                    3   \n",
       "E                 test                train                 test   \n",
       "F                  foo                  foo                  foo   \n",
       "\n",
       "                     3  \n",
       "A                    1  \n",
       "B  2020-04-16 18:38:00  \n",
       "C                    1  \n",
       "D                    3  \n",
       "E                train  \n",
       "F                  foo  "
      ]
     },
     "execution_count": 62,
     "metadata": {},
     "output_type": "execute_result"
    }
   ],
   "source": [
    "df2.T"
   ]
  },
  {
   "cell_type": "markdown",
   "metadata": {},
   "source": [
    "按照某一坐标轴进行排序"
   ]
  },
  {
   "cell_type": "code",
   "execution_count": 63,
   "metadata": {},
   "outputs": [
    {
     "data": {
      "text/html": [
       "<div>\n",
       "<style scoped>\n",
       "    .dataframe tbody tr th:only-of-type {\n",
       "        vertical-align: middle;\n",
       "    }\n",
       "\n",
       "    .dataframe tbody tr th {\n",
       "        vertical-align: top;\n",
       "    }\n",
       "\n",
       "    .dataframe thead th {\n",
       "        text-align: right;\n",
       "    }\n",
       "</style>\n",
       "<table border=\"1\" class=\"dataframe\">\n",
       "  <thead>\n",
       "    <tr style=\"text-align: right;\">\n",
       "      <th></th>\n",
       "      <th>D</th>\n",
       "      <th>C</th>\n",
       "      <th>B</th>\n",
       "      <th>A</th>\n",
       "    </tr>\n",
       "  </thead>\n",
       "  <tbody>\n",
       "    <tr>\n",
       "      <th>2020-04-16</th>\n",
       "      <td>0.526823</td>\n",
       "      <td>0.743378</td>\n",
       "      <td>0.712521</td>\n",
       "      <td>-0.228084</td>\n",
       "    </tr>\n",
       "    <tr>\n",
       "      <th>2020-04-17</th>\n",
       "      <td>0.080931</td>\n",
       "      <td>-2.318931</td>\n",
       "      <td>0.564346</td>\n",
       "      <td>-0.423923</td>\n",
       "    </tr>\n",
       "    <tr>\n",
       "      <th>2020-04-18</th>\n",
       "      <td>-0.365556</td>\n",
       "      <td>1.176614</td>\n",
       "      <td>2.046827</td>\n",
       "      <td>-2.032243</td>\n",
       "    </tr>\n",
       "    <tr>\n",
       "      <th>2020-04-19</th>\n",
       "      <td>1.068642</td>\n",
       "      <td>-1.527804</td>\n",
       "      <td>1.109991</td>\n",
       "      <td>-1.200005</td>\n",
       "    </tr>\n",
       "    <tr>\n",
       "      <th>2020-04-20</th>\n",
       "      <td>-1.074013</td>\n",
       "      <td>0.907865</td>\n",
       "      <td>1.351420</td>\n",
       "      <td>-0.535031</td>\n",
       "    </tr>\n",
       "    <tr>\n",
       "      <th>2020-04-21</th>\n",
       "      <td>-0.333819</td>\n",
       "      <td>-0.420875</td>\n",
       "      <td>0.027143</td>\n",
       "      <td>-0.614734</td>\n",
       "    </tr>\n",
       "  </tbody>\n",
       "</table>\n",
       "</div>"
      ],
      "text/plain": [
       "                   D         C         B         A\n",
       "2020-04-16  0.526823  0.743378  0.712521 -0.228084\n",
       "2020-04-17  0.080931 -2.318931  0.564346 -0.423923\n",
       "2020-04-18 -0.365556  1.176614  2.046827 -2.032243\n",
       "2020-04-19  1.068642 -1.527804  1.109991 -1.200005\n",
       "2020-04-20 -1.074013  0.907865  1.351420 -0.535031\n",
       "2020-04-21 -0.333819 -0.420875  0.027143 -0.614734"
      ]
     },
     "execution_count": 63,
     "metadata": {},
     "output_type": "execute_result"
    }
   ],
   "source": [
    "df.sort_index(axis=1, ascending=False)  # 降序"
   ]
  },
  {
   "cell_type": "code",
   "execution_count": 68,
   "metadata": {
    "scrolled": true
   },
   "outputs": [
    {
     "data": {
      "text/html": [
       "<div>\n",
       "<style scoped>\n",
       "    .dataframe tbody tr th:only-of-type {\n",
       "        vertical-align: middle;\n",
       "    }\n",
       "\n",
       "    .dataframe tbody tr th {\n",
       "        vertical-align: top;\n",
       "    }\n",
       "\n",
       "    .dataframe thead th {\n",
       "        text-align: right;\n",
       "    }\n",
       "</style>\n",
       "<table border=\"1\" class=\"dataframe\">\n",
       "  <thead>\n",
       "    <tr style=\"text-align: right;\">\n",
       "      <th></th>\n",
       "      <th>A</th>\n",
       "      <th>B</th>\n",
       "      <th>C</th>\n",
       "      <th>D</th>\n",
       "    </tr>\n",
       "  </thead>\n",
       "  <tbody>\n",
       "    <tr>\n",
       "      <th>2020-04-16</th>\n",
       "      <td>-0.228084</td>\n",
       "      <td>0.712521</td>\n",
       "      <td>0.743378</td>\n",
       "      <td>0.526823</td>\n",
       "    </tr>\n",
       "    <tr>\n",
       "      <th>2020-04-17</th>\n",
       "      <td>-0.423923</td>\n",
       "      <td>0.564346</td>\n",
       "      <td>-2.318931</td>\n",
       "      <td>0.080931</td>\n",
       "    </tr>\n",
       "    <tr>\n",
       "      <th>2020-04-18</th>\n",
       "      <td>-2.032243</td>\n",
       "      <td>2.046827</td>\n",
       "      <td>1.176614</td>\n",
       "      <td>-0.365556</td>\n",
       "    </tr>\n",
       "    <tr>\n",
       "      <th>2020-04-19</th>\n",
       "      <td>-1.200005</td>\n",
       "      <td>1.109991</td>\n",
       "      <td>-1.527804</td>\n",
       "      <td>1.068642</td>\n",
       "    </tr>\n",
       "    <tr>\n",
       "      <th>2020-04-20</th>\n",
       "      <td>-0.535031</td>\n",
       "      <td>1.351420</td>\n",
       "      <td>0.907865</td>\n",
       "      <td>-1.074013</td>\n",
       "    </tr>\n",
       "    <tr>\n",
       "      <th>2020-04-21</th>\n",
       "      <td>-0.614734</td>\n",
       "      <td>0.027143</td>\n",
       "      <td>-0.420875</td>\n",
       "      <td>-0.333819</td>\n",
       "    </tr>\n",
       "  </tbody>\n",
       "</table>\n",
       "</div>"
      ],
      "text/plain": [
       "                   A         B         C         D\n",
       "2020-04-16 -0.228084  0.712521  0.743378  0.526823\n",
       "2020-04-17 -0.423923  0.564346 -2.318931  0.080931\n",
       "2020-04-18 -2.032243  2.046827  1.176614 -0.365556\n",
       "2020-04-19 -1.200005  1.109991 -1.527804  1.068642\n",
       "2020-04-20 -0.535031  1.351420  0.907865 -1.074013\n",
       "2020-04-21 -0.614734  0.027143 -0.420875 -0.333819"
      ]
     },
     "execution_count": 68,
     "metadata": {},
     "output_type": "execute_result"
    }
   ],
   "source": [
    "df.sort_index(axis=1, ascending=True)  # 升序（默认）"
   ]
  },
  {
   "cell_type": "code",
   "execution_count": 70,
   "metadata": {
    "scrolled": true
   },
   "outputs": [
    {
     "data": {
      "text/html": [
       "<div>\n",
       "<style scoped>\n",
       "    .dataframe tbody tr th:only-of-type {\n",
       "        vertical-align: middle;\n",
       "    }\n",
       "\n",
       "    .dataframe tbody tr th {\n",
       "        vertical-align: top;\n",
       "    }\n",
       "\n",
       "    .dataframe thead th {\n",
       "        text-align: right;\n",
       "    }\n",
       "</style>\n",
       "<table border=\"1\" class=\"dataframe\">\n",
       "  <thead>\n",
       "    <tr style=\"text-align: right;\">\n",
       "      <th></th>\n",
       "      <th>A</th>\n",
       "      <th>B</th>\n",
       "      <th>C</th>\n",
       "      <th>D</th>\n",
       "    </tr>\n",
       "  </thead>\n",
       "  <tbody>\n",
       "    <tr>\n",
       "      <th>2020-04-21</th>\n",
       "      <td>-0.614734</td>\n",
       "      <td>0.027143</td>\n",
       "      <td>-0.420875</td>\n",
       "      <td>-0.333819</td>\n",
       "    </tr>\n",
       "    <tr>\n",
       "      <th>2020-04-20</th>\n",
       "      <td>-0.535031</td>\n",
       "      <td>1.351420</td>\n",
       "      <td>0.907865</td>\n",
       "      <td>-1.074013</td>\n",
       "    </tr>\n",
       "    <tr>\n",
       "      <th>2020-04-19</th>\n",
       "      <td>-1.200005</td>\n",
       "      <td>1.109991</td>\n",
       "      <td>-1.527804</td>\n",
       "      <td>1.068642</td>\n",
       "    </tr>\n",
       "    <tr>\n",
       "      <th>2020-04-18</th>\n",
       "      <td>-2.032243</td>\n",
       "      <td>2.046827</td>\n",
       "      <td>1.176614</td>\n",
       "      <td>-0.365556</td>\n",
       "    </tr>\n",
       "    <tr>\n",
       "      <th>2020-04-17</th>\n",
       "      <td>-0.423923</td>\n",
       "      <td>0.564346</td>\n",
       "      <td>-2.318931</td>\n",
       "      <td>0.080931</td>\n",
       "    </tr>\n",
       "    <tr>\n",
       "      <th>2020-04-16</th>\n",
       "      <td>-0.228084</td>\n",
       "      <td>0.712521</td>\n",
       "      <td>0.743378</td>\n",
       "      <td>0.526823</td>\n",
       "    </tr>\n",
       "  </tbody>\n",
       "</table>\n",
       "</div>"
      ],
      "text/plain": [
       "                   A         B         C         D\n",
       "2020-04-21 -0.614734  0.027143 -0.420875 -0.333819\n",
       "2020-04-20 -0.535031  1.351420  0.907865 -1.074013\n",
       "2020-04-19 -1.200005  1.109991 -1.527804  1.068642\n",
       "2020-04-18 -2.032243  2.046827  1.176614 -0.365556\n",
       "2020-04-17 -0.423923  0.564346 -2.318931  0.080931\n",
       "2020-04-16 -0.228084  0.712521  0.743378  0.526823"
      ]
     },
     "execution_count": 70,
     "metadata": {},
     "output_type": "execute_result"
    }
   ],
   "source": [
    "df.sort_index(axis=0, ascending=False)  # 以第0轴（行）来排序，降序"
   ]
  },
  {
   "cell_type": "markdown",
   "metadata": {},
   "source": [
    "按值进行排序，默认为升序"
   ]
  },
  {
   "cell_type": "code",
   "execution_count": 73,
   "metadata": {
    "scrolled": false
   },
   "outputs": [
    {
     "data": {
      "text/html": [
       "<div>\n",
       "<style scoped>\n",
       "    .dataframe tbody tr th:only-of-type {\n",
       "        vertical-align: middle;\n",
       "    }\n",
       "\n",
       "    .dataframe tbody tr th {\n",
       "        vertical-align: top;\n",
       "    }\n",
       "\n",
       "    .dataframe thead th {\n",
       "        text-align: right;\n",
       "    }\n",
       "</style>\n",
       "<table border=\"1\" class=\"dataframe\">\n",
       "  <thead>\n",
       "    <tr style=\"text-align: right;\">\n",
       "      <th></th>\n",
       "      <th>A</th>\n",
       "      <th>B</th>\n",
       "      <th>C</th>\n",
       "      <th>D</th>\n",
       "    </tr>\n",
       "  </thead>\n",
       "  <tbody>\n",
       "    <tr>\n",
       "      <th>2020-04-21</th>\n",
       "      <td>-0.614734</td>\n",
       "      <td>0.027143</td>\n",
       "      <td>-0.420875</td>\n",
       "      <td>-0.333819</td>\n",
       "    </tr>\n",
       "    <tr>\n",
       "      <th>2020-04-17</th>\n",
       "      <td>-0.423923</td>\n",
       "      <td>0.564346</td>\n",
       "      <td>-2.318931</td>\n",
       "      <td>0.080931</td>\n",
       "    </tr>\n",
       "    <tr>\n",
       "      <th>2020-04-16</th>\n",
       "      <td>-0.228084</td>\n",
       "      <td>0.712521</td>\n",
       "      <td>0.743378</td>\n",
       "      <td>0.526823</td>\n",
       "    </tr>\n",
       "    <tr>\n",
       "      <th>2020-04-19</th>\n",
       "      <td>-1.200005</td>\n",
       "      <td>1.109991</td>\n",
       "      <td>-1.527804</td>\n",
       "      <td>1.068642</td>\n",
       "    </tr>\n",
       "    <tr>\n",
       "      <th>2020-04-20</th>\n",
       "      <td>-0.535031</td>\n",
       "      <td>1.351420</td>\n",
       "      <td>0.907865</td>\n",
       "      <td>-1.074013</td>\n",
       "    </tr>\n",
       "    <tr>\n",
       "      <th>2020-04-18</th>\n",
       "      <td>-2.032243</td>\n",
       "      <td>2.046827</td>\n",
       "      <td>1.176614</td>\n",
       "      <td>-0.365556</td>\n",
       "    </tr>\n",
       "  </tbody>\n",
       "</table>\n",
       "</div>"
      ],
      "text/plain": [
       "                   A         B         C         D\n",
       "2020-04-21 -0.614734  0.027143 -0.420875 -0.333819\n",
       "2020-04-17 -0.423923  0.564346 -2.318931  0.080931\n",
       "2020-04-16 -0.228084  0.712521  0.743378  0.526823\n",
       "2020-04-19 -1.200005  1.109991 -1.527804  1.068642\n",
       "2020-04-20 -0.535031  1.351420  0.907865 -1.074013\n",
       "2020-04-18 -2.032243  2.046827  1.176614 -0.365556"
      ]
     },
     "execution_count": 73,
     "metadata": {},
     "output_type": "execute_result"
    }
   ],
   "source": [
    "df.sort_values(by='B')"
   ]
  },
  {
   "cell_type": "markdown",
   "metadata": {},
   "source": [
    "## 0x04 选择数据 Selection\n",
    "> **注意：** 虽然标准的 Python/Numpy 的选择和设置表达式都非常易懂且方便用于交互使用，但是作为工程使用的代码，推荐使用经过优化的 pandas 数据访问方法： `.at`, `.iat`, `.loc`, `.iloc` 和 `.ix`。"
   ]
  },
  {
   "cell_type": "markdown",
   "metadata": {},
   "source": [
    "### 0x04-1 获取 Getting\n",
    "选择一个单独的列，这将会返回一个 `Series`，等效于 `df.A`"
   ]
  },
  {
   "cell_type": "code",
   "execution_count": 75,
   "metadata": {},
   "outputs": [
    {
     "data": {
      "text/plain": [
       "2020-04-16   -0.228084\n",
       "2020-04-17   -0.423923\n",
       "2020-04-18   -2.032243\n",
       "2020-04-19   -1.200005\n",
       "2020-04-20   -0.535031\n",
       "2020-04-21   -0.614734\n",
       "Freq: D, Name: A, dtype: float64"
      ]
     },
     "execution_count": 75,
     "metadata": {},
     "output_type": "execute_result"
    }
   ],
   "source": [
    "df['A']"
   ]
  },
  {
   "cell_type": "markdown",
   "metadata": {},
   "source": [
    " 通过`[]`进行选择，可以用来行进行切片(slice)"
   ]
  },
  {
   "cell_type": "code",
   "execution_count": 77,
   "metadata": {},
   "outputs": [
    {
     "data": {
      "text/html": [
       "<div>\n",
       "<style scoped>\n",
       "    .dataframe tbody tr th:only-of-type {\n",
       "        vertical-align: middle;\n",
       "    }\n",
       "\n",
       "    .dataframe tbody tr th {\n",
       "        vertical-align: top;\n",
       "    }\n",
       "\n",
       "    .dataframe thead th {\n",
       "        text-align: right;\n",
       "    }\n",
       "</style>\n",
       "<table border=\"1\" class=\"dataframe\">\n",
       "  <thead>\n",
       "    <tr style=\"text-align: right;\">\n",
       "      <th></th>\n",
       "      <th>A</th>\n",
       "      <th>B</th>\n",
       "      <th>C</th>\n",
       "      <th>D</th>\n",
       "    </tr>\n",
       "  </thead>\n",
       "  <tbody>\n",
       "    <tr>\n",
       "      <th>2020-04-17</th>\n",
       "      <td>-0.423923</td>\n",
       "      <td>0.564346</td>\n",
       "      <td>-2.318931</td>\n",
       "      <td>0.080931</td>\n",
       "    </tr>\n",
       "    <tr>\n",
       "      <th>2020-04-18</th>\n",
       "      <td>-2.032243</td>\n",
       "      <td>2.046827</td>\n",
       "      <td>1.176614</td>\n",
       "      <td>-0.365556</td>\n",
       "    </tr>\n",
       "  </tbody>\n",
       "</table>\n",
       "</div>"
      ],
      "text/plain": [
       "                   A         B         C         D\n",
       "2020-04-17 -0.423923  0.564346 -2.318931  0.080931\n",
       "2020-04-18 -2.032243  2.046827  1.176614 -0.365556"
      ]
     },
     "execution_count": 77,
     "metadata": {},
     "output_type": "execute_result"
    }
   ],
   "source": [
    "df[1:3]"
   ]
  },
  {
   "cell_type": "code",
   "execution_count": 81,
   "metadata": {},
   "outputs": [
    {
     "data": {
      "text/html": [
       "<div>\n",
       "<style scoped>\n",
       "    .dataframe tbody tr th:only-of-type {\n",
       "        vertical-align: middle;\n",
       "    }\n",
       "\n",
       "    .dataframe tbody tr th {\n",
       "        vertical-align: top;\n",
       "    }\n",
       "\n",
       "    .dataframe thead th {\n",
       "        text-align: right;\n",
       "    }\n",
       "</style>\n",
       "<table border=\"1\" class=\"dataframe\">\n",
       "  <thead>\n",
       "    <tr style=\"text-align: right;\">\n",
       "      <th></th>\n",
       "      <th>A</th>\n",
       "      <th>B</th>\n",
       "      <th>C</th>\n",
       "      <th>D</th>\n",
       "    </tr>\n",
       "  </thead>\n",
       "  <tbody>\n",
       "    <tr>\n",
       "      <th>2020-04-18</th>\n",
       "      <td>-2.032243</td>\n",
       "      <td>2.046827</td>\n",
       "      <td>1.176614</td>\n",
       "      <td>-0.365556</td>\n",
       "    </tr>\n",
       "    <tr>\n",
       "      <th>2020-04-19</th>\n",
       "      <td>-1.200005</td>\n",
       "      <td>1.109991</td>\n",
       "      <td>-1.527804</td>\n",
       "      <td>1.068642</td>\n",
       "    </tr>\n",
       "    <tr>\n",
       "      <th>2020-04-20</th>\n",
       "      <td>-0.535031</td>\n",
       "      <td>1.351420</td>\n",
       "      <td>0.907865</td>\n",
       "      <td>-1.074013</td>\n",
       "    </tr>\n",
       "  </tbody>\n",
       "</table>\n",
       "</div>"
      ],
      "text/plain": [
       "                   A         B         C         D\n",
       "2020-04-18 -2.032243  2.046827  1.176614 -0.365556\n",
       "2020-04-19 -1.200005  1.109991 -1.527804  1.068642\n",
       "2020-04-20 -0.535031  1.351420  0.907865 -1.074013"
      ]
     },
     "execution_count": 81,
     "metadata": {},
     "output_type": "execute_result"
    }
   ],
   "source": [
    "df['20200418':'20200420']"
   ]
  },
  {
   "cell_type": "markdown",
   "metadata": {},
   "source": [
    "### 0x4-2 通过标签选择 Selection by Label\n",
    "**利用 pandas 的 `.loc`, `.at` 方法**"
   ]
  },
  {
   "cell_type": "markdown",
   "metadata": {},
   "source": [
    "使用标签来获取一个交叉的区域"
   ]
  },
  {
   "cell_type": "code",
   "execution_count": 85,
   "metadata": {},
   "outputs": [
    {
     "data": {
      "text/plain": [
       "Timestamp('2020-04-16 00:00:00', freq='D')"
      ]
     },
     "execution_count": 85,
     "metadata": {},
     "output_type": "execute_result"
    }
   ],
   "source": [
    "dates[0]"
   ]
  },
  {
   "cell_type": "code",
   "execution_count": 82,
   "metadata": {},
   "outputs": [
    {
     "data": {
      "text/plain": [
       "A   -0.228084\n",
       "B    0.712521\n",
       "C    0.743378\n",
       "D    0.526823\n",
       "Name: 2020-04-16 00:00:00, dtype: float64"
      ]
     },
     "execution_count": 82,
     "metadata": {},
     "output_type": "execute_result"
    }
   ],
   "source": [
    "df.loc[dates[0]]"
   ]
  },
  {
   "cell_type": "markdown",
   "metadata": {},
   "source": [
    "用标签来在多个轴上进行选择"
   ]
  },
  {
   "cell_type": "code",
   "execution_count": 86,
   "metadata": {},
   "outputs": [
    {
     "data": {
      "text/html": [
       "<div>\n",
       "<style scoped>\n",
       "    .dataframe tbody tr th:only-of-type {\n",
       "        vertical-align: middle;\n",
       "    }\n",
       "\n",
       "    .dataframe tbody tr th {\n",
       "        vertical-align: top;\n",
       "    }\n",
       "\n",
       "    .dataframe thead th {\n",
       "        text-align: right;\n",
       "    }\n",
       "</style>\n",
       "<table border=\"1\" class=\"dataframe\">\n",
       "  <thead>\n",
       "    <tr style=\"text-align: right;\">\n",
       "      <th></th>\n",
       "      <th>A</th>\n",
       "      <th>B</th>\n",
       "    </tr>\n",
       "  </thead>\n",
       "  <tbody>\n",
       "    <tr>\n",
       "      <th>2020-04-16</th>\n",
       "      <td>-0.228084</td>\n",
       "      <td>0.712521</td>\n",
       "    </tr>\n",
       "    <tr>\n",
       "      <th>2020-04-17</th>\n",
       "      <td>-0.423923</td>\n",
       "      <td>0.564346</td>\n",
       "    </tr>\n",
       "    <tr>\n",
       "      <th>2020-04-18</th>\n",
       "      <td>-2.032243</td>\n",
       "      <td>2.046827</td>\n",
       "    </tr>\n",
       "    <tr>\n",
       "      <th>2020-04-19</th>\n",
       "      <td>-1.200005</td>\n",
       "      <td>1.109991</td>\n",
       "    </tr>\n",
       "    <tr>\n",
       "      <th>2020-04-20</th>\n",
       "      <td>-0.535031</td>\n",
       "      <td>1.351420</td>\n",
       "    </tr>\n",
       "    <tr>\n",
       "      <th>2020-04-21</th>\n",
       "      <td>-0.614734</td>\n",
       "      <td>0.027143</td>\n",
       "    </tr>\n",
       "  </tbody>\n",
       "</table>\n",
       "</div>"
      ],
      "text/plain": [
       "                   A         B\n",
       "2020-04-16 -0.228084  0.712521\n",
       "2020-04-17 -0.423923  0.564346\n",
       "2020-04-18 -2.032243  2.046827\n",
       "2020-04-19 -1.200005  1.109991\n",
       "2020-04-20 -0.535031  1.351420\n",
       "2020-04-21 -0.614734  0.027143"
      ]
     },
     "execution_count": 86,
     "metadata": {},
     "output_type": "execute_result"
    }
   ],
   "source": [
    "df.loc[:,['A','B']]"
   ]
  },
  {
   "cell_type": "markdown",
   "metadata": {},
   "source": [
    "利用标签来切片\n",
    "\n",
    "注意此处的切片**两端都包含（左闭右闭）**"
   ]
  },
  {
   "cell_type": "code",
   "execution_count": 103,
   "metadata": {},
   "outputs": [
    {
     "data": {
      "text/html": [
       "<div>\n",
       "<style scoped>\n",
       "    .dataframe tbody tr th:only-of-type {\n",
       "        vertical-align: middle;\n",
       "    }\n",
       "\n",
       "    .dataframe tbody tr th {\n",
       "        vertical-align: top;\n",
       "    }\n",
       "\n",
       "    .dataframe thead th {\n",
       "        text-align: right;\n",
       "    }\n",
       "</style>\n",
       "<table border=\"1\" class=\"dataframe\">\n",
       "  <thead>\n",
       "    <tr style=\"text-align: right;\">\n",
       "      <th></th>\n",
       "      <th>A</th>\n",
       "      <th>B</th>\n",
       "    </tr>\n",
       "  </thead>\n",
       "  <tbody>\n",
       "    <tr>\n",
       "      <th>2020-04-18</th>\n",
       "      <td>-2.032243</td>\n",
       "      <td>2.046827</td>\n",
       "    </tr>\n",
       "    <tr>\n",
       "      <th>2020-04-19</th>\n",
       "      <td>-1.200005</td>\n",
       "      <td>1.109991</td>\n",
       "    </tr>\n",
       "    <tr>\n",
       "      <th>2020-04-20</th>\n",
       "      <td>-0.535031</td>\n",
       "      <td>1.351420</td>\n",
       "    </tr>\n",
       "  </tbody>\n",
       "</table>\n",
       "</div>"
      ],
      "text/plain": [
       "                   A         B\n",
       "2020-04-18 -2.032243  2.046827\n",
       "2020-04-19 -1.200005  1.109991\n",
       "2020-04-20 -0.535031  1.351420"
      ]
     },
     "execution_count": 103,
     "metadata": {},
     "output_type": "execute_result"
    }
   ],
   "source": [
    "df.loc['20200418':'20200420',['A','B']]"
   ]
  },
  {
   "cell_type": "code",
   "execution_count": 100,
   "metadata": {},
   "outputs": [
    {
     "data": {
      "text/html": [
       "<div>\n",
       "<style scoped>\n",
       "    .dataframe tbody tr th:only-of-type {\n",
       "        vertical-align: middle;\n",
       "    }\n",
       "\n",
       "    .dataframe tbody tr th {\n",
       "        vertical-align: top;\n",
       "    }\n",
       "\n",
       "    .dataframe thead th {\n",
       "        text-align: right;\n",
       "    }\n",
       "</style>\n",
       "<table border=\"1\" class=\"dataframe\">\n",
       "  <thead>\n",
       "    <tr style=\"text-align: right;\">\n",
       "      <th></th>\n",
       "      <th>A</th>\n",
       "      <th>B</th>\n",
       "      <th>C</th>\n",
       "    </tr>\n",
       "  </thead>\n",
       "  <tbody>\n",
       "    <tr>\n",
       "      <th>2020-04-18</th>\n",
       "      <td>-2.032243</td>\n",
       "      <td>2.046827</td>\n",
       "      <td>1.176614</td>\n",
       "    </tr>\n",
       "    <tr>\n",
       "      <th>2020-04-19</th>\n",
       "      <td>-1.200005</td>\n",
       "      <td>1.109991</td>\n",
       "      <td>-1.527804</td>\n",
       "    </tr>\n",
       "    <tr>\n",
       "      <th>2020-04-20</th>\n",
       "      <td>-0.535031</td>\n",
       "      <td>1.351420</td>\n",
       "      <td>0.907865</td>\n",
       "    </tr>\n",
       "    <tr>\n",
       "      <th>2020-04-21</th>\n",
       "      <td>-0.614734</td>\n",
       "      <td>0.027143</td>\n",
       "      <td>-0.420875</td>\n",
       "    </tr>\n",
       "  </tbody>\n",
       "</table>\n",
       "</div>"
      ],
      "text/plain": [
       "                   A         B         C\n",
       "2020-04-18 -2.032243  2.046827  1.176614\n",
       "2020-04-19 -1.200005  1.109991 -1.527804\n",
       "2020-04-20 -0.535031  1.351420  0.907865\n",
       "2020-04-21 -0.614734  0.027143 -0.420875"
      ]
     },
     "execution_count": 100,
     "metadata": {},
     "output_type": "execute_result"
    }
   ],
   "source": [
    "df.loc[dates[2]:,:'C']"
   ]
  },
  {
   "cell_type": "markdown",
   "metadata": {},
   "source": [
    "对于返回的对象进行维度缩减"
   ]
  },
  {
   "cell_type": "code",
   "execution_count": 106,
   "metadata": {},
   "outputs": [
    {
     "data": {
      "text/plain": [
       "A   -1.200005\n",
       "B    1.109991\n",
       "Name: 2020-04-19 00:00:00, dtype: float64"
      ]
     },
     "execution_count": 106,
     "metadata": {},
     "output_type": "execute_result"
    }
   ],
   "source": [
    "df.loc['20200419',['A','B']]"
   ]
  },
  {
   "cell_type": "markdown",
   "metadata": {},
   "source": [
    "获取一个标量"
   ]
  },
  {
   "cell_type": "code",
   "execution_count": 107,
   "metadata": {},
   "outputs": [
    {
     "data": {
      "text/plain": [
       "-2.0322429408627056"
      ]
     },
     "execution_count": 107,
     "metadata": {},
     "output_type": "execute_result"
    }
   ],
   "source": [
    "df.loc[dates[2],'A']"
   ]
  },
  {
   "cell_type": "markdown",
   "metadata": {},
   "source": [
    "快速访问一个标量（与上一个方法等价）"
   ]
  },
  {
   "cell_type": "code",
   "execution_count": 110,
   "metadata": {},
   "outputs": [
    {
     "data": {
      "text/plain": [
       "-2.0322429408627056"
      ]
     },
     "execution_count": 110,
     "metadata": {},
     "output_type": "execute_result"
    }
   ],
   "source": [
    "df.at[dates[2],'A']"
   ]
  },
  {
   "cell_type": "markdown",
   "metadata": {},
   "source": [
    "### 0x04-3 通过位置进行选择 Selection by Position\n",
    "**利用的是 pandas 里的 `.iloc`, `.iat` 方法**"
   ]
  },
  {
   "cell_type": "markdown",
   "metadata": {},
   "source": [
    "通过传递整数值进行位置选择"
   ]
  },
  {
   "cell_type": "code",
   "execution_count": 111,
   "metadata": {},
   "outputs": [
    {
     "data": {
      "text/plain": [
       "A   -1.200005\n",
       "B    1.109991\n",
       "C   -1.527804\n",
       "D    1.068642\n",
       "Name: 2020-04-19 00:00:00, dtype: float64"
      ]
     },
     "execution_count": 111,
     "metadata": {},
     "output_type": "execute_result"
    }
   ],
   "source": [
    "df.iloc[3] "
   ]
  },
  {
   "cell_type": "code",
   "execution_count": 116,
   "metadata": {},
   "outputs": [
    {
     "data": {
      "text/plain": [
       "2020-04-16    0.743378\n",
       "2020-04-17   -2.318931\n",
       "2020-04-18    1.176614\n",
       "2020-04-19   -1.527804\n",
       "2020-04-20    0.907865\n",
       "2020-04-21   -0.420875\n",
       "Freq: D, Name: C, dtype: float64"
      ]
     },
     "execution_count": 116,
     "metadata": {},
     "output_type": "execute_result"
    }
   ],
   "source": [
    "df.iloc[:,2]  # [行，列] 或 [第0维，第1维]"
   ]
  },
  {
   "cell_type": "markdown",
   "metadata": {},
   "source": [
    "利用数值进行切片，类似于 numpy/python\n",
    "\n",
    "**注意一下，这里的切片是普通的切片，即左闭右开。**"
   ]
  },
  {
   "cell_type": "code",
   "execution_count": 117,
   "metadata": {},
   "outputs": [
    {
     "data": {
      "text/html": [
       "<div>\n",
       "<style scoped>\n",
       "    .dataframe tbody tr th:only-of-type {\n",
       "        vertical-align: middle;\n",
       "    }\n",
       "\n",
       "    .dataframe tbody tr th {\n",
       "        vertical-align: top;\n",
       "    }\n",
       "\n",
       "    .dataframe thead th {\n",
       "        text-align: right;\n",
       "    }\n",
       "</style>\n",
       "<table border=\"1\" class=\"dataframe\">\n",
       "  <thead>\n",
       "    <tr style=\"text-align: right;\">\n",
       "      <th></th>\n",
       "      <th>A</th>\n",
       "      <th>B</th>\n",
       "    </tr>\n",
       "  </thead>\n",
       "  <tbody>\n",
       "    <tr>\n",
       "      <th>2020-04-19</th>\n",
       "      <td>-1.200005</td>\n",
       "      <td>1.109991</td>\n",
       "    </tr>\n",
       "    <tr>\n",
       "      <th>2020-04-20</th>\n",
       "      <td>-0.535031</td>\n",
       "      <td>1.351420</td>\n",
       "    </tr>\n",
       "  </tbody>\n",
       "</table>\n",
       "</div>"
      ],
      "text/plain": [
       "                   A         B\n",
       "2020-04-19 -1.200005  1.109991\n",
       "2020-04-20 -0.535031  1.351420"
      ]
     },
     "execution_count": 117,
     "metadata": {},
     "output_type": "execute_result"
    }
   ],
   "source": [
    "df.iloc[3:5,0:2]"
   ]
  },
  {
   "cell_type": "markdown",
   "metadata": {},
   "source": [
    "可以指定一个位置的列表来选择数据区域"
   ]
  },
  {
   "cell_type": "code",
   "execution_count": 118,
   "metadata": {},
   "outputs": [
    {
     "data": {
      "text/html": [
       "<div>\n",
       "<style scoped>\n",
       "    .dataframe tbody tr th:only-of-type {\n",
       "        vertical-align: middle;\n",
       "    }\n",
       "\n",
       "    .dataframe tbody tr th {\n",
       "        vertical-align: top;\n",
       "    }\n",
       "\n",
       "    .dataframe thead th {\n",
       "        text-align: right;\n",
       "    }\n",
       "</style>\n",
       "<table border=\"1\" class=\"dataframe\">\n",
       "  <thead>\n",
       "    <tr style=\"text-align: right;\">\n",
       "      <th></th>\n",
       "      <th>A</th>\n",
       "      <th>C</th>\n",
       "    </tr>\n",
       "  </thead>\n",
       "  <tbody>\n",
       "    <tr>\n",
       "      <th>2020-04-17</th>\n",
       "      <td>-0.423923</td>\n",
       "      <td>-2.318931</td>\n",
       "    </tr>\n",
       "    <tr>\n",
       "      <th>2020-04-18</th>\n",
       "      <td>-2.032243</td>\n",
       "      <td>1.176614</td>\n",
       "    </tr>\n",
       "    <tr>\n",
       "      <th>2020-04-20</th>\n",
       "      <td>-0.535031</td>\n",
       "      <td>0.907865</td>\n",
       "    </tr>\n",
       "  </tbody>\n",
       "</table>\n",
       "</div>"
      ],
      "text/plain": [
       "                   A         C\n",
       "2020-04-17 -0.423923 -2.318931\n",
       "2020-04-18 -2.032243  1.176614\n",
       "2020-04-20 -0.535031  0.907865"
      ]
     },
     "execution_count": 118,
     "metadata": {},
     "output_type": "execute_result"
    }
   ],
   "source": [
    "df.iloc[[1,2,4],[0,2]]"
   ]
  },
  {
   "cell_type": "markdown",
   "metadata": {},
   "source": [
    "对行进行切片"
   ]
  },
  {
   "cell_type": "code",
   "execution_count": 119,
   "metadata": {},
   "outputs": [
    {
     "data": {
      "text/html": [
       "<div>\n",
       "<style scoped>\n",
       "    .dataframe tbody tr th:only-of-type {\n",
       "        vertical-align: middle;\n",
       "    }\n",
       "\n",
       "    .dataframe tbody tr th {\n",
       "        vertical-align: top;\n",
       "    }\n",
       "\n",
       "    .dataframe thead th {\n",
       "        text-align: right;\n",
       "    }\n",
       "</style>\n",
       "<table border=\"1\" class=\"dataframe\">\n",
       "  <thead>\n",
       "    <tr style=\"text-align: right;\">\n",
       "      <th></th>\n",
       "      <th>A</th>\n",
       "      <th>B</th>\n",
       "      <th>C</th>\n",
       "      <th>D</th>\n",
       "    </tr>\n",
       "  </thead>\n",
       "  <tbody>\n",
       "    <tr>\n",
       "      <th>2020-04-17</th>\n",
       "      <td>-0.423923</td>\n",
       "      <td>0.564346</td>\n",
       "      <td>-2.318931</td>\n",
       "      <td>0.080931</td>\n",
       "    </tr>\n",
       "    <tr>\n",
       "      <th>2020-04-18</th>\n",
       "      <td>-2.032243</td>\n",
       "      <td>2.046827</td>\n",
       "      <td>1.176614</td>\n",
       "      <td>-0.365556</td>\n",
       "    </tr>\n",
       "  </tbody>\n",
       "</table>\n",
       "</div>"
      ],
      "text/plain": [
       "                   A         B         C         D\n",
       "2020-04-17 -0.423923  0.564346 -2.318931  0.080931\n",
       "2020-04-18 -2.032243  2.046827  1.176614 -0.365556"
      ]
     },
     "execution_count": 119,
     "metadata": {},
     "output_type": "execute_result"
    }
   ],
   "source": [
    "df.iloc[1:3,:]"
   ]
  },
  {
   "cell_type": "markdown",
   "metadata": {},
   "source": [
    "对列进行切片"
   ]
  },
  {
   "cell_type": "code",
   "execution_count": 123,
   "metadata": {},
   "outputs": [
    {
     "data": {
      "text/html": [
       "<div>\n",
       "<style scoped>\n",
       "    .dataframe tbody tr th:only-of-type {\n",
       "        vertical-align: middle;\n",
       "    }\n",
       "\n",
       "    .dataframe tbody tr th {\n",
       "        vertical-align: top;\n",
       "    }\n",
       "\n",
       "    .dataframe thead th {\n",
       "        text-align: right;\n",
       "    }\n",
       "</style>\n",
       "<table border=\"1\" class=\"dataframe\">\n",
       "  <thead>\n",
       "    <tr style=\"text-align: right;\">\n",
       "      <th></th>\n",
       "      <th>B</th>\n",
       "      <th>C</th>\n",
       "    </tr>\n",
       "  </thead>\n",
       "  <tbody>\n",
       "    <tr>\n",
       "      <th>2020-04-16</th>\n",
       "      <td>0.712521</td>\n",
       "      <td>0.743378</td>\n",
       "    </tr>\n",
       "    <tr>\n",
       "      <th>2020-04-17</th>\n",
       "      <td>0.564346</td>\n",
       "      <td>-2.318931</td>\n",
       "    </tr>\n",
       "    <tr>\n",
       "      <th>2020-04-18</th>\n",
       "      <td>2.046827</td>\n",
       "      <td>1.176614</td>\n",
       "    </tr>\n",
       "    <tr>\n",
       "      <th>2020-04-19</th>\n",
       "      <td>1.109991</td>\n",
       "      <td>-1.527804</td>\n",
       "    </tr>\n",
       "    <tr>\n",
       "      <th>2020-04-20</th>\n",
       "      <td>1.351420</td>\n",
       "      <td>0.907865</td>\n",
       "    </tr>\n",
       "    <tr>\n",
       "      <th>2020-04-21</th>\n",
       "      <td>0.027143</td>\n",
       "      <td>-0.420875</td>\n",
       "    </tr>\n",
       "  </tbody>\n",
       "</table>\n",
       "</div>"
      ],
      "text/plain": [
       "                   B         C\n",
       "2020-04-16  0.712521  0.743378\n",
       "2020-04-17  0.564346 -2.318931\n",
       "2020-04-18  2.046827  1.176614\n",
       "2020-04-19  1.109991 -1.527804\n",
       "2020-04-20  1.351420  0.907865\n",
       "2020-04-21  0.027143 -0.420875"
      ]
     },
     "execution_count": 123,
     "metadata": {},
     "output_type": "execute_result"
    }
   ],
   "source": [
    "df.iloc[:,1:3]"
   ]
  },
  {
   "cell_type": "markdown",
   "metadata": {},
   "source": [
    "利用位置快速得到一个位置对应的值"
   ]
  },
  {
   "cell_type": "code",
   "execution_count": 124,
   "metadata": {},
   "outputs": [
    {
     "data": {
      "text/plain": [
       "0.5643462917985026"
      ]
     },
     "execution_count": 124,
     "metadata": {},
     "output_type": "execute_result"
    }
   ],
   "source": [
    "df.iloc[1,1]"
   ]
  },
  {
   "cell_type": "code",
   "execution_count": 125,
   "metadata": {},
   "outputs": [
    {
     "data": {
      "text/plain": [
       "0.5643462917985026"
      ]
     },
     "execution_count": 125,
     "metadata": {},
     "output_type": "execute_result"
    }
   ],
   "source": [
    "df.iat[1,1]"
   ]
  },
  {
   "cell_type": "markdown",
   "metadata": {},
   "source": [
    "### .ix 用法（Deprecated）"
   ]
  },
  {
   "cell_type": "markdown",
   "metadata": {},
   "source": [
    "`df.ix[]` 既可以通过整数索引进行数据选取，也可以通过标签索引进行数据选取。\n",
    "\n",
    "也就是说，`df.ix[]` 是 `df.loc[]` 和 `df.iloc[]` 的功能集合，且在同义词选取中，可以同时使用整数索引和标签索引。\n",
    "\n",
    "这个方法在官方的 *10 Minutes to pandas* 中没有专门说明，**不建议用这一方法，请用`.loc`和`.iloc`来索引**，那这里就提一下好了。"
   ]
  },
  {
   "cell_type": "code",
   "execution_count": 305,
   "metadata": {},
   "outputs": [
    {
     "name": "stderr",
     "output_type": "stream",
     "text": [
      "D:\\Programs\\Anaconda\\lib\\site-packages\\ipykernel_launcher.py:1: DeprecationWarning: \n",
      ".ix is deprecated. Please use\n",
      ".loc for label based indexing or\n",
      ".iloc for positional indexing\n",
      "\n",
      "See the documentation here:\n",
      "http://pandas.pydata.org/pandas-docs/stable/indexing.html#ix-indexer-is-deprecated\n",
      "  \"\"\"Entry point for launching an IPython kernel.\n"
     ]
    },
    {
     "data": {
      "text/plain": [
       "-1.363418018143355"
      ]
     },
     "execution_count": 305,
     "metadata": {},
     "output_type": "execute_result"
    }
   ],
   "source": [
    "df.ix[1,'A']"
   ]
  },
  {
   "cell_type": "code",
   "execution_count": 311,
   "metadata": {
    "scrolled": true
   },
   "outputs": [
    {
     "name": "stderr",
     "output_type": "stream",
     "text": [
      "D:\\Programs\\Anaconda\\lib\\site-packages\\ipykernel_launcher.py:1: DeprecationWarning: \n",
      ".ix is deprecated. Please use\n",
      ".loc for label based indexing or\n",
      ".iloc for positional indexing\n",
      "\n",
      "See the documentation here:\n",
      "http://pandas.pydata.org/pandas-docs/stable/indexing.html#ix-indexer-is-deprecated\n",
      "  \"\"\"Entry point for launching an IPython kernel.\n"
     ]
    },
    {
     "data": {
      "text/html": [
       "<div>\n",
       "<style scoped>\n",
       "    .dataframe tbody tr th:only-of-type {\n",
       "        vertical-align: middle;\n",
       "    }\n",
       "\n",
       "    .dataframe tbody tr th {\n",
       "        vertical-align: top;\n",
       "    }\n",
       "\n",
       "    .dataframe thead th {\n",
       "        text-align: right;\n",
       "    }\n",
       "</style>\n",
       "<table border=\"1\" class=\"dataframe\">\n",
       "  <thead>\n",
       "    <tr style=\"text-align: right;\">\n",
       "      <th></th>\n",
       "      <th>A</th>\n",
       "      <th>C</th>\n",
       "      <th>D</th>\n",
       "    </tr>\n",
       "  </thead>\n",
       "  <tbody>\n",
       "    <tr>\n",
       "      <th>2020-04-17</th>\n",
       "      <td>-11.332834</td>\n",
       "      <td>7.659436</td>\n",
       "      <td>-20.925183</td>\n",
       "    </tr>\n",
       "    <tr>\n",
       "      <th>2020-04-18</th>\n",
       "      <td>-11.040688</td>\n",
       "      <td>6.867701</td>\n",
       "      <td>-20.157355</td>\n",
       "    </tr>\n",
       "  </tbody>\n",
       "</table>\n",
       "</div>"
      ],
      "text/plain": [
       "                    A         C          D\n",
       "2020-04-17 -11.332834  7.659436 -20.925183\n",
       "2020-04-18 -11.040688  6.867701 -20.157355"
      ]
     },
     "execution_count": 311,
     "metadata": {},
     "output_type": "execute_result"
    }
   ],
   "source": [
    "df.ix[dates[1:3],[0,2,3]]"
   ]
  },
  {
   "cell_type": "markdown",
   "metadata": {},
   "source": [
    "从 DeprecationWarning 看来的确已经 **deprecated** 了，那就不要用了！"
   ]
  },
  {
   "cell_type": "markdown",
   "metadata": {},
   "source": [
    "### 0x04-4 布尔索引 Boolean Indexing"
   ]
  },
  {
   "cell_type": "markdown",
   "metadata": {},
   "source": [
    "使用一个单独列的值来选择数据"
   ]
  },
  {
   "cell_type": "code",
   "execution_count": 127,
   "metadata": {},
   "outputs": [
    {
     "data": {
      "text/html": [
       "<div>\n",
       "<style scoped>\n",
       "    .dataframe tbody tr th:only-of-type {\n",
       "        vertical-align: middle;\n",
       "    }\n",
       "\n",
       "    .dataframe tbody tr th {\n",
       "        vertical-align: top;\n",
       "    }\n",
       "\n",
       "    .dataframe thead th {\n",
       "        text-align: right;\n",
       "    }\n",
       "</style>\n",
       "<table border=\"1\" class=\"dataframe\">\n",
       "  <thead>\n",
       "    <tr style=\"text-align: right;\">\n",
       "      <th></th>\n",
       "      <th>A</th>\n",
       "      <th>B</th>\n",
       "      <th>C</th>\n",
       "      <th>D</th>\n",
       "    </tr>\n",
       "  </thead>\n",
       "  <tbody>\n",
       "    <tr>\n",
       "      <th>2020-04-16</th>\n",
       "      <td>-0.228084</td>\n",
       "      <td>0.712521</td>\n",
       "      <td>0.743378</td>\n",
       "      <td>0.526823</td>\n",
       "    </tr>\n",
       "    <tr>\n",
       "      <th>2020-04-17</th>\n",
       "      <td>-0.423923</td>\n",
       "      <td>0.564346</td>\n",
       "      <td>-2.318931</td>\n",
       "      <td>0.080931</td>\n",
       "    </tr>\n",
       "    <tr>\n",
       "      <th>2020-04-19</th>\n",
       "      <td>-1.200005</td>\n",
       "      <td>1.109991</td>\n",
       "      <td>-1.527804</td>\n",
       "      <td>1.068642</td>\n",
       "    </tr>\n",
       "  </tbody>\n",
       "</table>\n",
       "</div>"
      ],
      "text/plain": [
       "                   A         B         C         D\n",
       "2020-04-16 -0.228084  0.712521  0.743378  0.526823\n",
       "2020-04-17 -0.423923  0.564346 -2.318931  0.080931\n",
       "2020-04-19 -1.200005  1.109991 -1.527804  1.068642"
      ]
     },
     "execution_count": 127,
     "metadata": {},
     "output_type": "execute_result"
    }
   ],
   "source": [
    "df[df.D > 0]"
   ]
  },
  {
   "cell_type": "markdown",
   "metadata": {},
   "source": [
    "利用**布尔条件**从一个 DataFrame 中选择数据"
   ]
  },
  {
   "cell_type": "code",
   "execution_count": 129,
   "metadata": {
    "scrolled": true
   },
   "outputs": [
    {
     "data": {
      "text/html": [
       "<div>\n",
       "<style scoped>\n",
       "    .dataframe tbody tr th:only-of-type {\n",
       "        vertical-align: middle;\n",
       "    }\n",
       "\n",
       "    .dataframe tbody tr th {\n",
       "        vertical-align: top;\n",
       "    }\n",
       "\n",
       "    .dataframe thead th {\n",
       "        text-align: right;\n",
       "    }\n",
       "</style>\n",
       "<table border=\"1\" class=\"dataframe\">\n",
       "  <thead>\n",
       "    <tr style=\"text-align: right;\">\n",
       "      <th></th>\n",
       "      <th>A</th>\n",
       "      <th>B</th>\n",
       "      <th>C</th>\n",
       "      <th>D</th>\n",
       "    </tr>\n",
       "  </thead>\n",
       "  <tbody>\n",
       "    <tr>\n",
       "      <th>2020-04-16</th>\n",
       "      <td>False</td>\n",
       "      <td>True</td>\n",
       "      <td>True</td>\n",
       "      <td>True</td>\n",
       "    </tr>\n",
       "    <tr>\n",
       "      <th>2020-04-17</th>\n",
       "      <td>False</td>\n",
       "      <td>True</td>\n",
       "      <td>False</td>\n",
       "      <td>True</td>\n",
       "    </tr>\n",
       "    <tr>\n",
       "      <th>2020-04-18</th>\n",
       "      <td>False</td>\n",
       "      <td>True</td>\n",
       "      <td>True</td>\n",
       "      <td>False</td>\n",
       "    </tr>\n",
       "    <tr>\n",
       "      <th>2020-04-19</th>\n",
       "      <td>False</td>\n",
       "      <td>True</td>\n",
       "      <td>False</td>\n",
       "      <td>True</td>\n",
       "    </tr>\n",
       "    <tr>\n",
       "      <th>2020-04-20</th>\n",
       "      <td>False</td>\n",
       "      <td>True</td>\n",
       "      <td>True</td>\n",
       "      <td>False</td>\n",
       "    </tr>\n",
       "    <tr>\n",
       "      <th>2020-04-21</th>\n",
       "      <td>False</td>\n",
       "      <td>True</td>\n",
       "      <td>False</td>\n",
       "      <td>False</td>\n",
       "    </tr>\n",
       "  </tbody>\n",
       "</table>\n",
       "</div>"
      ],
      "text/plain": [
       "                A     B      C      D\n",
       "2020-04-16  False  True   True   True\n",
       "2020-04-17  False  True  False   True\n",
       "2020-04-18  False  True   True  False\n",
       "2020-04-19  False  True  False   True\n",
       "2020-04-20  False  True   True  False\n",
       "2020-04-21  False  True  False  False"
      ]
     },
     "execution_count": 129,
     "metadata": {},
     "output_type": "execute_result"
    }
   ],
   "source": [
    "df>0"
   ]
  },
  {
   "cell_type": "code",
   "execution_count": 130,
   "metadata": {},
   "outputs": [
    {
     "data": {
      "text/html": [
       "<div>\n",
       "<style scoped>\n",
       "    .dataframe tbody tr th:only-of-type {\n",
       "        vertical-align: middle;\n",
       "    }\n",
       "\n",
       "    .dataframe tbody tr th {\n",
       "        vertical-align: top;\n",
       "    }\n",
       "\n",
       "    .dataframe thead th {\n",
       "        text-align: right;\n",
       "    }\n",
       "</style>\n",
       "<table border=\"1\" class=\"dataframe\">\n",
       "  <thead>\n",
       "    <tr style=\"text-align: right;\">\n",
       "      <th></th>\n",
       "      <th>A</th>\n",
       "      <th>B</th>\n",
       "      <th>C</th>\n",
       "      <th>D</th>\n",
       "    </tr>\n",
       "  </thead>\n",
       "  <tbody>\n",
       "    <tr>\n",
       "      <th>2020-04-16</th>\n",
       "      <td>NaN</td>\n",
       "      <td>0.712521</td>\n",
       "      <td>0.743378</td>\n",
       "      <td>0.526823</td>\n",
       "    </tr>\n",
       "    <tr>\n",
       "      <th>2020-04-17</th>\n",
       "      <td>NaN</td>\n",
       "      <td>0.564346</td>\n",
       "      <td>NaN</td>\n",
       "      <td>0.080931</td>\n",
       "    </tr>\n",
       "    <tr>\n",
       "      <th>2020-04-18</th>\n",
       "      <td>NaN</td>\n",
       "      <td>2.046827</td>\n",
       "      <td>1.176614</td>\n",
       "      <td>NaN</td>\n",
       "    </tr>\n",
       "    <tr>\n",
       "      <th>2020-04-19</th>\n",
       "      <td>NaN</td>\n",
       "      <td>1.109991</td>\n",
       "      <td>NaN</td>\n",
       "      <td>1.068642</td>\n",
       "    </tr>\n",
       "    <tr>\n",
       "      <th>2020-04-20</th>\n",
       "      <td>NaN</td>\n",
       "      <td>1.351420</td>\n",
       "      <td>0.907865</td>\n",
       "      <td>NaN</td>\n",
       "    </tr>\n",
       "    <tr>\n",
       "      <th>2020-04-21</th>\n",
       "      <td>NaN</td>\n",
       "      <td>0.027143</td>\n",
       "      <td>NaN</td>\n",
       "      <td>NaN</td>\n",
       "    </tr>\n",
       "  </tbody>\n",
       "</table>\n",
       "</div>"
      ],
      "text/plain": [
       "             A         B         C         D\n",
       "2020-04-16 NaN  0.712521  0.743378  0.526823\n",
       "2020-04-17 NaN  0.564346       NaN  0.080931\n",
       "2020-04-18 NaN  2.046827  1.176614       NaN\n",
       "2020-04-19 NaN  1.109991       NaN  1.068642\n",
       "2020-04-20 NaN  1.351420  0.907865       NaN\n",
       "2020-04-21 NaN  0.027143       NaN       NaN"
      ]
     },
     "execution_count": 130,
     "metadata": {},
     "output_type": "execute_result"
    }
   ],
   "source": [
    "df[df > 0]"
   ]
  },
  {
   "cell_type": "markdown",
   "metadata": {},
   "source": [
    "使用 `isin()` 方法来过滤数据\n",
    "\n",
    "(is in)"
   ]
  },
  {
   "cell_type": "code",
   "execution_count": 131,
   "metadata": {},
   "outputs": [
    {
     "data": {
      "text/html": [
       "<div>\n",
       "<style scoped>\n",
       "    .dataframe tbody tr th:only-of-type {\n",
       "        vertical-align: middle;\n",
       "    }\n",
       "\n",
       "    .dataframe tbody tr th {\n",
       "        vertical-align: top;\n",
       "    }\n",
       "\n",
       "    .dataframe thead th {\n",
       "        text-align: right;\n",
       "    }\n",
       "</style>\n",
       "<table border=\"1\" class=\"dataframe\">\n",
       "  <thead>\n",
       "    <tr style=\"text-align: right;\">\n",
       "      <th></th>\n",
       "      <th>A</th>\n",
       "      <th>B</th>\n",
       "      <th>C</th>\n",
       "      <th>D</th>\n",
       "      <th>E</th>\n",
       "    </tr>\n",
       "  </thead>\n",
       "  <tbody>\n",
       "    <tr>\n",
       "      <th>2020-04-16</th>\n",
       "      <td>-0.228084</td>\n",
       "      <td>0.712521</td>\n",
       "      <td>0.743378</td>\n",
       "      <td>0.526823</td>\n",
       "      <td>one</td>\n",
       "    </tr>\n",
       "    <tr>\n",
       "      <th>2020-04-17</th>\n",
       "      <td>-0.423923</td>\n",
       "      <td>0.564346</td>\n",
       "      <td>-2.318931</td>\n",
       "      <td>0.080931</td>\n",
       "      <td>one</td>\n",
       "    </tr>\n",
       "    <tr>\n",
       "      <th>2020-04-18</th>\n",
       "      <td>-2.032243</td>\n",
       "      <td>2.046827</td>\n",
       "      <td>1.176614</td>\n",
       "      <td>-0.365556</td>\n",
       "      <td>two</td>\n",
       "    </tr>\n",
       "    <tr>\n",
       "      <th>2020-04-19</th>\n",
       "      <td>-1.200005</td>\n",
       "      <td>1.109991</td>\n",
       "      <td>-1.527804</td>\n",
       "      <td>1.068642</td>\n",
       "      <td>three</td>\n",
       "    </tr>\n",
       "    <tr>\n",
       "      <th>2020-04-20</th>\n",
       "      <td>-0.535031</td>\n",
       "      <td>1.351420</td>\n",
       "      <td>0.907865</td>\n",
       "      <td>-1.074013</td>\n",
       "      <td>four</td>\n",
       "    </tr>\n",
       "    <tr>\n",
       "      <th>2020-04-21</th>\n",
       "      <td>-0.614734</td>\n",
       "      <td>0.027143</td>\n",
       "      <td>-0.420875</td>\n",
       "      <td>-0.333819</td>\n",
       "      <td>three</td>\n",
       "    </tr>\n",
       "  </tbody>\n",
       "</table>\n",
       "</div>"
      ],
      "text/plain": [
       "                   A         B         C         D      E\n",
       "2020-04-16 -0.228084  0.712521  0.743378  0.526823    one\n",
       "2020-04-17 -0.423923  0.564346 -2.318931  0.080931    one\n",
       "2020-04-18 -2.032243  2.046827  1.176614 -0.365556    two\n",
       "2020-04-19 -1.200005  1.109991 -1.527804  1.068642  three\n",
       "2020-04-20 -0.535031  1.351420  0.907865 -1.074013   four\n",
       "2020-04-21 -0.614734  0.027143 -0.420875 -0.333819  three"
      ]
     },
     "execution_count": 131,
     "metadata": {},
     "output_type": "execute_result"
    }
   ],
   "source": [
    "df3 = df.copy()\n",
    "df3['E'] = ['one', 'one','two','three','four','three']\n",
    "df3"
   ]
  },
  {
   "cell_type": "code",
   "execution_count": 133,
   "metadata": {
    "scrolled": true
   },
   "outputs": [
    {
     "data": {
      "text/html": [
       "<div>\n",
       "<style scoped>\n",
       "    .dataframe tbody tr th:only-of-type {\n",
       "        vertical-align: middle;\n",
       "    }\n",
       "\n",
       "    .dataframe tbody tr th {\n",
       "        vertical-align: top;\n",
       "    }\n",
       "\n",
       "    .dataframe thead th {\n",
       "        text-align: right;\n",
       "    }\n",
       "</style>\n",
       "<table border=\"1\" class=\"dataframe\">\n",
       "  <thead>\n",
       "    <tr style=\"text-align: right;\">\n",
       "      <th></th>\n",
       "      <th>A</th>\n",
       "      <th>B</th>\n",
       "      <th>C</th>\n",
       "      <th>D</th>\n",
       "      <th>E</th>\n",
       "    </tr>\n",
       "  </thead>\n",
       "  <tbody>\n",
       "    <tr>\n",
       "      <th>2020-04-18</th>\n",
       "      <td>-2.032243</td>\n",
       "      <td>2.046827</td>\n",
       "      <td>1.176614</td>\n",
       "      <td>-0.365556</td>\n",
       "      <td>two</td>\n",
       "    </tr>\n",
       "    <tr>\n",
       "      <th>2020-04-20</th>\n",
       "      <td>-0.535031</td>\n",
       "      <td>1.351420</td>\n",
       "      <td>0.907865</td>\n",
       "      <td>-1.074013</td>\n",
       "      <td>four</td>\n",
       "    </tr>\n",
       "  </tbody>\n",
       "</table>\n",
       "</div>"
      ],
      "text/plain": [
       "                   A         B         C         D     E\n",
       "2020-04-18 -2.032243  2.046827  1.176614 -0.365556   two\n",
       "2020-04-20 -0.535031  1.351420  0.907865 -1.074013  four"
      ]
     },
     "execution_count": 133,
     "metadata": {},
     "output_type": "execute_result"
    }
   ],
   "source": [
    "df3[df3['E'].isin(['two','four'])]"
   ]
  },
  {
   "cell_type": "markdown",
   "metadata": {},
   "source": [
    "## 0x05 设置数据 Setting"
   ]
  },
  {
   "cell_type": "markdown",
   "metadata": {},
   "source": [
    "设置一个新的列，自动按照索引来对其数据"
   ]
  },
  {
   "cell_type": "code",
   "execution_count": 135,
   "metadata": {},
   "outputs": [
    {
     "data": {
      "text/plain": [
       "2020-04-16    1\n",
       "2020-04-17    2\n",
       "2020-04-18    3\n",
       "2020-04-19    4\n",
       "2020-04-20    5\n",
       "2020-04-21    6\n",
       "Freq: D, dtype: int64"
      ]
     },
     "execution_count": 135,
     "metadata": {},
     "output_type": "execute_result"
    }
   ],
   "source": [
    "s1 = pd.Series([1,2,3,4,5,6], index=pd.date_range('20200416', periods=6))\n",
    "s1"
   ]
  },
  {
   "cell_type": "code",
   "execution_count": 137,
   "metadata": {},
   "outputs": [],
   "source": [
    "df['F'] = s1"
   ]
  },
  {
   "cell_type": "markdown",
   "metadata": {},
   "source": [
    "通过标签设置新的值"
   ]
  },
  {
   "cell_type": "code",
   "execution_count": 145,
   "metadata": {},
   "outputs": [],
   "source": [
    "df.at[dates[0],'A'] = 0"
   ]
  },
  {
   "cell_type": "markdown",
   "metadata": {},
   "source": [
    "通过标签设置新的值"
   ]
  },
  {
   "cell_type": "code",
   "execution_count": 146,
   "metadata": {},
   "outputs": [],
   "source": [
    "df.iat[0,1] = 0"
   ]
  },
  {
   "cell_type": "markdown",
   "metadata": {},
   "source": [
    "通过一个 numpy 数组设置一组新值"
   ]
  },
  {
   "cell_type": "code",
   "execution_count": 148,
   "metadata": {},
   "outputs": [],
   "source": [
    "df.loc[:,'D'] = np.array([5] * len(df))"
   ]
  },
  {
   "cell_type": "markdown",
   "metadata": {},
   "source": [
    "上述操作结果如下"
   ]
  },
  {
   "cell_type": "code",
   "execution_count": 149,
   "metadata": {},
   "outputs": [
    {
     "data": {
      "text/html": [
       "<div>\n",
       "<style scoped>\n",
       "    .dataframe tbody tr th:only-of-type {\n",
       "        vertical-align: middle;\n",
       "    }\n",
       "\n",
       "    .dataframe tbody tr th {\n",
       "        vertical-align: top;\n",
       "    }\n",
       "\n",
       "    .dataframe thead th {\n",
       "        text-align: right;\n",
       "    }\n",
       "</style>\n",
       "<table border=\"1\" class=\"dataframe\">\n",
       "  <thead>\n",
       "    <tr style=\"text-align: right;\">\n",
       "      <th></th>\n",
       "      <th>A</th>\n",
       "      <th>B</th>\n",
       "      <th>C</th>\n",
       "      <th>D</th>\n",
       "      <th>F</th>\n",
       "    </tr>\n",
       "  </thead>\n",
       "  <tbody>\n",
       "    <tr>\n",
       "      <th>2020-04-16</th>\n",
       "      <td>0.000000</td>\n",
       "      <td>0.000000</td>\n",
       "      <td>0.743378</td>\n",
       "      <td>5</td>\n",
       "      <td>1</td>\n",
       "    </tr>\n",
       "    <tr>\n",
       "      <th>2020-04-17</th>\n",
       "      <td>-0.423923</td>\n",
       "      <td>0.564346</td>\n",
       "      <td>-2.318931</td>\n",
       "      <td>5</td>\n",
       "      <td>2</td>\n",
       "    </tr>\n",
       "    <tr>\n",
       "      <th>2020-04-18</th>\n",
       "      <td>-2.032243</td>\n",
       "      <td>2.046827</td>\n",
       "      <td>1.176614</td>\n",
       "      <td>5</td>\n",
       "      <td>3</td>\n",
       "    </tr>\n",
       "    <tr>\n",
       "      <th>2020-04-19</th>\n",
       "      <td>-1.200005</td>\n",
       "      <td>1.109991</td>\n",
       "      <td>-1.527804</td>\n",
       "      <td>5</td>\n",
       "      <td>4</td>\n",
       "    </tr>\n",
       "    <tr>\n",
       "      <th>2020-04-20</th>\n",
       "      <td>-0.535031</td>\n",
       "      <td>1.351420</td>\n",
       "      <td>0.907865</td>\n",
       "      <td>5</td>\n",
       "      <td>5</td>\n",
       "    </tr>\n",
       "    <tr>\n",
       "      <th>2020-04-21</th>\n",
       "      <td>-0.614734</td>\n",
       "      <td>0.027143</td>\n",
       "      <td>-0.420875</td>\n",
       "      <td>5</td>\n",
       "      <td>6</td>\n",
       "    </tr>\n",
       "  </tbody>\n",
       "</table>\n",
       "</div>"
      ],
      "text/plain": [
       "                   A         B         C  D  F\n",
       "2020-04-16  0.000000  0.000000  0.743378  5  1\n",
       "2020-04-17 -0.423923  0.564346 -2.318931  5  2\n",
       "2020-04-18 -2.032243  2.046827  1.176614  5  3\n",
       "2020-04-19 -1.200005  1.109991 -1.527804  5  4\n",
       "2020-04-20 -0.535031  1.351420  0.907865  5  5\n",
       "2020-04-21 -0.614734  0.027143 -0.420875  5  6"
      ]
     },
     "execution_count": 149,
     "metadata": {},
     "output_type": "execute_result"
    }
   ],
   "source": [
    "df"
   ]
  },
  {
   "cell_type": "markdown",
   "metadata": {},
   "source": [
    "通过 where 操作来设置新的值"
   ]
  },
  {
   "cell_type": "code",
   "execution_count": 151,
   "metadata": {},
   "outputs": [
    {
     "data": {
      "text/html": [
       "<div>\n",
       "<style scoped>\n",
       "    .dataframe tbody tr th:only-of-type {\n",
       "        vertical-align: middle;\n",
       "    }\n",
       "\n",
       "    .dataframe tbody tr th {\n",
       "        vertical-align: top;\n",
       "    }\n",
       "\n",
       "    .dataframe thead th {\n",
       "        text-align: right;\n",
       "    }\n",
       "</style>\n",
       "<table border=\"1\" class=\"dataframe\">\n",
       "  <thead>\n",
       "    <tr style=\"text-align: right;\">\n",
       "      <th></th>\n",
       "      <th>A</th>\n",
       "      <th>B</th>\n",
       "      <th>C</th>\n",
       "      <th>D</th>\n",
       "      <th>F</th>\n",
       "    </tr>\n",
       "  </thead>\n",
       "  <tbody>\n",
       "    <tr>\n",
       "      <th>2020-04-16</th>\n",
       "      <td>0.000000</td>\n",
       "      <td>0.000000</td>\n",
       "      <td>-0.743378</td>\n",
       "      <td>-5</td>\n",
       "      <td>-1</td>\n",
       "    </tr>\n",
       "    <tr>\n",
       "      <th>2020-04-17</th>\n",
       "      <td>-0.423923</td>\n",
       "      <td>-0.564346</td>\n",
       "      <td>-2.318931</td>\n",
       "      <td>-5</td>\n",
       "      <td>-2</td>\n",
       "    </tr>\n",
       "    <tr>\n",
       "      <th>2020-04-18</th>\n",
       "      <td>-2.032243</td>\n",
       "      <td>-2.046827</td>\n",
       "      <td>-1.176614</td>\n",
       "      <td>-5</td>\n",
       "      <td>-3</td>\n",
       "    </tr>\n",
       "    <tr>\n",
       "      <th>2020-04-19</th>\n",
       "      <td>-1.200005</td>\n",
       "      <td>-1.109991</td>\n",
       "      <td>-1.527804</td>\n",
       "      <td>-5</td>\n",
       "      <td>-4</td>\n",
       "    </tr>\n",
       "    <tr>\n",
       "      <th>2020-04-20</th>\n",
       "      <td>-0.535031</td>\n",
       "      <td>-1.351420</td>\n",
       "      <td>-0.907865</td>\n",
       "      <td>-5</td>\n",
       "      <td>-5</td>\n",
       "    </tr>\n",
       "    <tr>\n",
       "      <th>2020-04-21</th>\n",
       "      <td>-0.614734</td>\n",
       "      <td>-0.027143</td>\n",
       "      <td>-0.420875</td>\n",
       "      <td>-5</td>\n",
       "      <td>-6</td>\n",
       "    </tr>\n",
       "  </tbody>\n",
       "</table>\n",
       "</div>"
      ],
      "text/plain": [
       "                   A         B         C  D  F\n",
       "2020-04-16  0.000000  0.000000 -0.743378 -5 -1\n",
       "2020-04-17 -0.423923 -0.564346 -2.318931 -5 -2\n",
       "2020-04-18 -2.032243 -2.046827 -1.176614 -5 -3\n",
       "2020-04-19 -1.200005 -1.109991 -1.527804 -5 -4\n",
       "2020-04-20 -0.535031 -1.351420 -0.907865 -5 -5\n",
       "2020-04-21 -0.614734 -0.027143 -0.420875 -5 -6"
      ]
     },
     "execution_count": 151,
     "metadata": {},
     "output_type": "execute_result"
    }
   ],
   "source": [
    "df2 = df.copy()\n",
    "df2[df2 > 0] = -df2\n",
    "df2"
   ]
  },
  {
   "cell_type": "markdown",
   "metadata": {},
   "source": [
    "## 0x06 缺失值处理 Missing Data"
   ]
  },
  {
   "cell_type": "markdown",
   "metadata": {},
   "source": [
    "在pandas中，使用`np.nan`来代替缺失值，这些值将默认不会包含在计算中。\n"
   ]
  },
  {
   "cell_type": "markdown",
   "metadata": {},
   "source": [
    "`reindex()`方法可以对指定轴上的索引进行改变/增加/删除操作，返回原始数据的一个拷贝。"
   ]
  },
  {
   "cell_type": "code",
   "execution_count": 153,
   "metadata": {},
   "outputs": [
    {
     "data": {
      "text/html": [
       "<div>\n",
       "<style scoped>\n",
       "    .dataframe tbody tr th:only-of-type {\n",
       "        vertical-align: middle;\n",
       "    }\n",
       "\n",
       "    .dataframe tbody tr th {\n",
       "        vertical-align: top;\n",
       "    }\n",
       "\n",
       "    .dataframe thead th {\n",
       "        text-align: right;\n",
       "    }\n",
       "</style>\n",
       "<table border=\"1\" class=\"dataframe\">\n",
       "  <thead>\n",
       "    <tr style=\"text-align: right;\">\n",
       "      <th></th>\n",
       "      <th>A</th>\n",
       "      <th>B</th>\n",
       "      <th>C</th>\n",
       "      <th>D</th>\n",
       "      <th>F</th>\n",
       "      <th>E</th>\n",
       "    </tr>\n",
       "  </thead>\n",
       "  <tbody>\n",
       "    <tr>\n",
       "      <th>2020-04-16</th>\n",
       "      <td>0.000000</td>\n",
       "      <td>0.000000</td>\n",
       "      <td>0.743378</td>\n",
       "      <td>5</td>\n",
       "      <td>1</td>\n",
       "      <td>NaN</td>\n",
       "    </tr>\n",
       "    <tr>\n",
       "      <th>2020-04-17</th>\n",
       "      <td>-0.423923</td>\n",
       "      <td>0.564346</td>\n",
       "      <td>-2.318931</td>\n",
       "      <td>5</td>\n",
       "      <td>2</td>\n",
       "      <td>NaN</td>\n",
       "    </tr>\n",
       "    <tr>\n",
       "      <th>2020-04-18</th>\n",
       "      <td>-2.032243</td>\n",
       "      <td>2.046827</td>\n",
       "      <td>1.176614</td>\n",
       "      <td>5</td>\n",
       "      <td>3</td>\n",
       "      <td>NaN</td>\n",
       "    </tr>\n",
       "    <tr>\n",
       "      <th>2020-04-19</th>\n",
       "      <td>-1.200005</td>\n",
       "      <td>1.109991</td>\n",
       "      <td>-1.527804</td>\n",
       "      <td>5</td>\n",
       "      <td>4</td>\n",
       "      <td>NaN</td>\n",
       "    </tr>\n",
       "  </tbody>\n",
       "</table>\n",
       "</div>"
      ],
      "text/plain": [
       "                   A         B         C  D  F   E\n",
       "2020-04-16  0.000000  0.000000  0.743378  5  1 NaN\n",
       "2020-04-17 -0.423923  0.564346 -2.318931  5  2 NaN\n",
       "2020-04-18 -2.032243  2.046827  1.176614  5  3 NaN\n",
       "2020-04-19 -1.200005  1.109991 -1.527804  5  4 NaN"
      ]
     },
     "execution_count": 153,
     "metadata": {},
     "output_type": "execute_result"
    }
   ],
   "source": [
    "df1 = df.reindex(index=dates[0:4], columns=list(df.columns) + ['E'])\n",
    "df1"
   ]
  },
  {
   "cell_type": "code",
   "execution_count": 154,
   "metadata": {},
   "outputs": [
    {
     "data": {
      "text/html": [
       "<div>\n",
       "<style scoped>\n",
       "    .dataframe tbody tr th:only-of-type {\n",
       "        vertical-align: middle;\n",
       "    }\n",
       "\n",
       "    .dataframe tbody tr th {\n",
       "        vertical-align: top;\n",
       "    }\n",
       "\n",
       "    .dataframe thead th {\n",
       "        text-align: right;\n",
       "    }\n",
       "</style>\n",
       "<table border=\"1\" class=\"dataframe\">\n",
       "  <thead>\n",
       "    <tr style=\"text-align: right;\">\n",
       "      <th></th>\n",
       "      <th>A</th>\n",
       "      <th>B</th>\n",
       "      <th>C</th>\n",
       "      <th>D</th>\n",
       "      <th>F</th>\n",
       "      <th>E</th>\n",
       "    </tr>\n",
       "  </thead>\n",
       "  <tbody>\n",
       "    <tr>\n",
       "      <th>2020-04-16</th>\n",
       "      <td>0.000000</td>\n",
       "      <td>0.000000</td>\n",
       "      <td>0.743378</td>\n",
       "      <td>5</td>\n",
       "      <td>1</td>\n",
       "      <td>1.0</td>\n",
       "    </tr>\n",
       "    <tr>\n",
       "      <th>2020-04-17</th>\n",
       "      <td>-0.423923</td>\n",
       "      <td>0.564346</td>\n",
       "      <td>-2.318931</td>\n",
       "      <td>5</td>\n",
       "      <td>2</td>\n",
       "      <td>1.0</td>\n",
       "    </tr>\n",
       "    <tr>\n",
       "      <th>2020-04-18</th>\n",
       "      <td>-2.032243</td>\n",
       "      <td>2.046827</td>\n",
       "      <td>1.176614</td>\n",
       "      <td>5</td>\n",
       "      <td>3</td>\n",
       "      <td>NaN</td>\n",
       "    </tr>\n",
       "    <tr>\n",
       "      <th>2020-04-19</th>\n",
       "      <td>-1.200005</td>\n",
       "      <td>1.109991</td>\n",
       "      <td>-1.527804</td>\n",
       "      <td>5</td>\n",
       "      <td>4</td>\n",
       "      <td>NaN</td>\n",
       "    </tr>\n",
       "  </tbody>\n",
       "</table>\n",
       "</div>"
      ],
      "text/plain": [
       "                   A         B         C  D  F    E\n",
       "2020-04-16  0.000000  0.000000  0.743378  5  1  1.0\n",
       "2020-04-17 -0.423923  0.564346 -2.318931  5  2  1.0\n",
       "2020-04-18 -2.032243  2.046827  1.176614  5  3  NaN\n",
       "2020-04-19 -1.200005  1.109991 -1.527804  5  4  NaN"
      ]
     },
     "execution_count": 154,
     "metadata": {},
     "output_type": "execute_result"
    }
   ],
   "source": [
    "df1.loc[dates[0]:dates[1],'E'] = 1\n",
    "df1"
   ]
  },
  {
   "cell_type": "markdown",
   "metadata": {},
   "source": [
    "去掉包含缺失值的行"
   ]
  },
  {
   "cell_type": "code",
   "execution_count": 155,
   "metadata": {},
   "outputs": [
    {
     "data": {
      "text/html": [
       "<div>\n",
       "<style scoped>\n",
       "    .dataframe tbody tr th:only-of-type {\n",
       "        vertical-align: middle;\n",
       "    }\n",
       "\n",
       "    .dataframe tbody tr th {\n",
       "        vertical-align: top;\n",
       "    }\n",
       "\n",
       "    .dataframe thead th {\n",
       "        text-align: right;\n",
       "    }\n",
       "</style>\n",
       "<table border=\"1\" class=\"dataframe\">\n",
       "  <thead>\n",
       "    <tr style=\"text-align: right;\">\n",
       "      <th></th>\n",
       "      <th>A</th>\n",
       "      <th>B</th>\n",
       "      <th>C</th>\n",
       "      <th>D</th>\n",
       "      <th>F</th>\n",
       "      <th>E</th>\n",
       "    </tr>\n",
       "  </thead>\n",
       "  <tbody>\n",
       "    <tr>\n",
       "      <th>2020-04-16</th>\n",
       "      <td>0.000000</td>\n",
       "      <td>0.000000</td>\n",
       "      <td>0.743378</td>\n",
       "      <td>5</td>\n",
       "      <td>1</td>\n",
       "      <td>1.0</td>\n",
       "    </tr>\n",
       "    <tr>\n",
       "      <th>2020-04-17</th>\n",
       "      <td>-0.423923</td>\n",
       "      <td>0.564346</td>\n",
       "      <td>-2.318931</td>\n",
       "      <td>5</td>\n",
       "      <td>2</td>\n",
       "      <td>1.0</td>\n",
       "    </tr>\n",
       "  </tbody>\n",
       "</table>\n",
       "</div>"
      ],
      "text/plain": [
       "                   A         B         C  D  F    E\n",
       "2020-04-16  0.000000  0.000000  0.743378  5  1  1.0\n",
       "2020-04-17 -0.423923  0.564346 -2.318931  5  2  1.0"
      ]
     },
     "execution_count": 155,
     "metadata": {},
     "output_type": "execute_result"
    }
   ],
   "source": [
    "df1.dropna(how='any')"
   ]
  },
  {
   "cell_type": "markdown",
   "metadata": {},
   "source": [
    "填充缺失的值，利用`value`来指定"
   ]
  },
  {
   "cell_type": "code",
   "execution_count": 158,
   "metadata": {},
   "outputs": [
    {
     "name": "stdout",
     "output_type": "stream",
     "text": [
      "                   A         B         C  D  F    E\n",
      "2020-04-16  0.000000  0.000000  0.743378  5  1  1.0\n",
      "2020-04-17 -0.423923  0.564346 -2.318931  5  2  1.0\n",
      "2020-04-18 -2.032243  2.046827  1.176614  5  3  NaN\n",
      "2020-04-19 -1.200005  1.109991 -1.527804  5  4  NaN\n"
     ]
    },
    {
     "data": {
      "text/html": [
       "<div>\n",
       "<style scoped>\n",
       "    .dataframe tbody tr th:only-of-type {\n",
       "        vertical-align: middle;\n",
       "    }\n",
       "\n",
       "    .dataframe tbody tr th {\n",
       "        vertical-align: top;\n",
       "    }\n",
       "\n",
       "    .dataframe thead th {\n",
       "        text-align: right;\n",
       "    }\n",
       "</style>\n",
       "<table border=\"1\" class=\"dataframe\">\n",
       "  <thead>\n",
       "    <tr style=\"text-align: right;\">\n",
       "      <th></th>\n",
       "      <th>A</th>\n",
       "      <th>B</th>\n",
       "      <th>C</th>\n",
       "      <th>D</th>\n",
       "      <th>F</th>\n",
       "      <th>E</th>\n",
       "    </tr>\n",
       "  </thead>\n",
       "  <tbody>\n",
       "    <tr>\n",
       "      <th>2020-04-16</th>\n",
       "      <td>0.000000</td>\n",
       "      <td>0.000000</td>\n",
       "      <td>0.743378</td>\n",
       "      <td>5</td>\n",
       "      <td>1</td>\n",
       "      <td>1.0</td>\n",
       "    </tr>\n",
       "    <tr>\n",
       "      <th>2020-04-17</th>\n",
       "      <td>-0.423923</td>\n",
       "      <td>0.564346</td>\n",
       "      <td>-2.318931</td>\n",
       "      <td>5</td>\n",
       "      <td>2</td>\n",
       "      <td>1.0</td>\n",
       "    </tr>\n",
       "    <tr>\n",
       "      <th>2020-04-18</th>\n",
       "      <td>-2.032243</td>\n",
       "      <td>2.046827</td>\n",
       "      <td>1.176614</td>\n",
       "      <td>5</td>\n",
       "      <td>3</td>\n",
       "      <td>5.0</td>\n",
       "    </tr>\n",
       "    <tr>\n",
       "      <th>2020-04-19</th>\n",
       "      <td>-1.200005</td>\n",
       "      <td>1.109991</td>\n",
       "      <td>-1.527804</td>\n",
       "      <td>5</td>\n",
       "      <td>4</td>\n",
       "      <td>5.0</td>\n",
       "    </tr>\n",
       "  </tbody>\n",
       "</table>\n",
       "</div>"
      ],
      "text/plain": [
       "                   A         B         C  D  F    E\n",
       "2020-04-16  0.000000  0.000000  0.743378  5  1  1.0\n",
       "2020-04-17 -0.423923  0.564346 -2.318931  5  2  1.0\n",
       "2020-04-18 -2.032243  2.046827  1.176614  5  3  5.0\n",
       "2020-04-19 -1.200005  1.109991 -1.527804  5  4  5.0"
      ]
     },
     "execution_count": 158,
     "metadata": {},
     "output_type": "execute_result"
    }
   ],
   "source": [
    "print(df1)\n",
    "df1.fillna(value=5)"
   ]
  },
  {
   "cell_type": "markdown",
   "metadata": {},
   "source": [
    "获取值为`nan`的布尔值(boolean mask)"
   ]
  },
  {
   "cell_type": "code",
   "execution_count": 159,
   "metadata": {},
   "outputs": [
    {
     "data": {
      "text/html": [
       "<div>\n",
       "<style scoped>\n",
       "    .dataframe tbody tr th:only-of-type {\n",
       "        vertical-align: middle;\n",
       "    }\n",
       "\n",
       "    .dataframe tbody tr th {\n",
       "        vertical-align: top;\n",
       "    }\n",
       "\n",
       "    .dataframe thead th {\n",
       "        text-align: right;\n",
       "    }\n",
       "</style>\n",
       "<table border=\"1\" class=\"dataframe\">\n",
       "  <thead>\n",
       "    <tr style=\"text-align: right;\">\n",
       "      <th></th>\n",
       "      <th>A</th>\n",
       "      <th>B</th>\n",
       "      <th>C</th>\n",
       "      <th>D</th>\n",
       "      <th>F</th>\n",
       "      <th>E</th>\n",
       "    </tr>\n",
       "  </thead>\n",
       "  <tbody>\n",
       "    <tr>\n",
       "      <th>2020-04-16</th>\n",
       "      <td>False</td>\n",
       "      <td>False</td>\n",
       "      <td>False</td>\n",
       "      <td>False</td>\n",
       "      <td>False</td>\n",
       "      <td>False</td>\n",
       "    </tr>\n",
       "    <tr>\n",
       "      <th>2020-04-17</th>\n",
       "      <td>False</td>\n",
       "      <td>False</td>\n",
       "      <td>False</td>\n",
       "      <td>False</td>\n",
       "      <td>False</td>\n",
       "      <td>False</td>\n",
       "    </tr>\n",
       "    <tr>\n",
       "      <th>2020-04-18</th>\n",
       "      <td>False</td>\n",
       "      <td>False</td>\n",
       "      <td>False</td>\n",
       "      <td>False</td>\n",
       "      <td>False</td>\n",
       "      <td>True</td>\n",
       "    </tr>\n",
       "    <tr>\n",
       "      <th>2020-04-19</th>\n",
       "      <td>False</td>\n",
       "      <td>False</td>\n",
       "      <td>False</td>\n",
       "      <td>False</td>\n",
       "      <td>False</td>\n",
       "      <td>True</td>\n",
       "    </tr>\n",
       "  </tbody>\n",
       "</table>\n",
       "</div>"
      ],
      "text/plain": [
       "                A      B      C      D      F      E\n",
       "2020-04-16  False  False  False  False  False  False\n",
       "2020-04-17  False  False  False  False  False  False\n",
       "2020-04-18  False  False  False  False  False   True\n",
       "2020-04-19  False  False  False  False  False   True"
      ]
     },
     "execution_count": 159,
     "metadata": {},
     "output_type": "execute_result"
    }
   ],
   "source": [
    "pd.isna(df1)"
   ]
  },
  {
   "cell_type": "markdown",
   "metadata": {},
   "source": [
    "## 0x07 一些常用的操作 Operations\n"
   ]
  },
  {
   "cell_type": "markdown",
   "metadata": {},
   "source": [
    "### 0x07-1 统计 Stats\n",
    "这些操作**不包括缺失数据**"
   ]
  },
  {
   "cell_type": "markdown",
   "metadata": {},
   "source": [
    "执行描述性统计："
   ]
  },
  {
   "cell_type": "code",
   "execution_count": 160,
   "metadata": {},
   "outputs": [
    {
     "data": {
      "text/plain": [
       "A   -0.800989\n",
       "B    0.849955\n",
       "C   -0.239959\n",
       "D    5.000000\n",
       "F    3.500000\n",
       "dtype: float64"
      ]
     },
     "execution_count": 160,
     "metadata": {},
     "output_type": "execute_result"
    }
   ],
   "source": [
    "df.mean()  # 均值，默认为列的"
   ]
  },
  {
   "cell_type": "code",
   "execution_count": 163,
   "metadata": {},
   "outputs": [
    {
     "data": {
      "text/plain": [
       "2020-04-16    1.348676\n",
       "2020-04-17    0.964299\n",
       "2020-04-18    1.838240\n",
       "2020-04-19    1.476436\n",
       "2020-04-20    2.344851\n",
       "2020-04-21    1.998307\n",
       "Freq: D, dtype: float64"
      ]
     },
     "execution_count": 163,
     "metadata": {},
     "output_type": "execute_result"
    }
   ],
   "source": [
    "df.mean(1)  # 指定坐标轴（此处为行）"
   ]
  },
  {
   "cell_type": "markdown",
   "metadata": {},
   "source": [
    "对于拥有不同维度，需要对齐对象再进行操作。\n",
    "\n",
    "Pandas 会自动的沿着指定的维度进行广播。"
   ]
  },
  {
   "cell_type": "code",
   "execution_count": 173,
   "metadata": {},
   "outputs": [
    {
     "data": {
      "text/plain": [
       "2020-04-16    NaN\n",
       "2020-04-17    NaN\n",
       "2020-04-18    1.0\n",
       "2020-04-19    3.0\n",
       "2020-04-20    5.0\n",
       "2020-04-21    NaN\n",
       "Freq: D, dtype: float64"
      ]
     },
     "execution_count": 173,
     "metadata": {},
     "output_type": "execute_result"
    }
   ],
   "source": [
    "s = pd.Series([1,3,5,np.nan,6,8], index=dates).shift(2)\n",
    "s"
   ]
  },
  {
   "cell_type": "code",
   "execution_count": 174,
   "metadata": {},
   "outputs": [
    {
     "name": "stdout",
     "output_type": "stream",
     "text": [
      "                   A         B         C  D  F\n",
      "2020-04-16  0.000000  0.000000  0.743378  5  1\n",
      "2020-04-17 -0.423923  0.564346 -2.318931  5  2\n",
      "2020-04-18 -2.032243  2.046827  1.176614  5  3\n",
      "2020-04-19 -1.200005  1.109991 -1.527804  5  4\n",
      "2020-04-20 -0.535031  1.351420  0.907865  5  5\n",
      "2020-04-21 -0.614734  0.027143 -0.420875  5  6\n"
     ]
    },
    {
     "data": {
      "text/html": [
       "<div>\n",
       "<style scoped>\n",
       "    .dataframe tbody tr th:only-of-type {\n",
       "        vertical-align: middle;\n",
       "    }\n",
       "\n",
       "    .dataframe tbody tr th {\n",
       "        vertical-align: top;\n",
       "    }\n",
       "\n",
       "    .dataframe thead th {\n",
       "        text-align: right;\n",
       "    }\n",
       "</style>\n",
       "<table border=\"1\" class=\"dataframe\">\n",
       "  <thead>\n",
       "    <tr style=\"text-align: right;\">\n",
       "      <th></th>\n",
       "      <th>A</th>\n",
       "      <th>B</th>\n",
       "      <th>C</th>\n",
       "      <th>D</th>\n",
       "      <th>F</th>\n",
       "    </tr>\n",
       "  </thead>\n",
       "  <tbody>\n",
       "    <tr>\n",
       "      <th>2020-04-16</th>\n",
       "      <td>NaN</td>\n",
       "      <td>NaN</td>\n",
       "      <td>NaN</td>\n",
       "      <td>NaN</td>\n",
       "      <td>NaN</td>\n",
       "    </tr>\n",
       "    <tr>\n",
       "      <th>2020-04-17</th>\n",
       "      <td>NaN</td>\n",
       "      <td>NaN</td>\n",
       "      <td>NaN</td>\n",
       "      <td>NaN</td>\n",
       "      <td>NaN</td>\n",
       "    </tr>\n",
       "    <tr>\n",
       "      <th>2020-04-18</th>\n",
       "      <td>-3.032243</td>\n",
       "      <td>1.046827</td>\n",
       "      <td>0.176614</td>\n",
       "      <td>4.0</td>\n",
       "      <td>2.0</td>\n",
       "    </tr>\n",
       "    <tr>\n",
       "      <th>2020-04-19</th>\n",
       "      <td>-4.200005</td>\n",
       "      <td>-1.890009</td>\n",
       "      <td>-4.527804</td>\n",
       "      <td>2.0</td>\n",
       "      <td>1.0</td>\n",
       "    </tr>\n",
       "    <tr>\n",
       "      <th>2020-04-20</th>\n",
       "      <td>-5.535031</td>\n",
       "      <td>-3.648580</td>\n",
       "      <td>-4.092135</td>\n",
       "      <td>0.0</td>\n",
       "      <td>0.0</td>\n",
       "    </tr>\n",
       "    <tr>\n",
       "      <th>2020-04-21</th>\n",
       "      <td>NaN</td>\n",
       "      <td>NaN</td>\n",
       "      <td>NaN</td>\n",
       "      <td>NaN</td>\n",
       "      <td>NaN</td>\n",
       "    </tr>\n",
       "  </tbody>\n",
       "</table>\n",
       "</div>"
      ],
      "text/plain": [
       "                   A         B         C    D    F\n",
       "2020-04-16       NaN       NaN       NaN  NaN  NaN\n",
       "2020-04-17       NaN       NaN       NaN  NaN  NaN\n",
       "2020-04-18 -3.032243  1.046827  0.176614  4.0  2.0\n",
       "2020-04-19 -4.200005 -1.890009 -4.527804  2.0  1.0\n",
       "2020-04-20 -5.535031 -3.648580 -4.092135  0.0  0.0\n",
       "2020-04-21       NaN       NaN       NaN  NaN  NaN"
      ]
     },
     "execution_count": 174,
     "metadata": {},
     "output_type": "execute_result"
    }
   ],
   "source": [
    "print(df)\n",
    "df.sub(s, axis='index')  # df-s"
   ]
  },
  {
   "cell_type": "markdown",
   "metadata": {},
   "source": [
    "### 0x07-2 应用方法到数据 Apply\n",
    "Applying functions to the data"
   ]
  },
  {
   "cell_type": "code",
   "execution_count": 175,
   "metadata": {},
   "outputs": [
    {
     "data": {
      "text/html": [
       "<div>\n",
       "<style scoped>\n",
       "    .dataframe tbody tr th:only-of-type {\n",
       "        vertical-align: middle;\n",
       "    }\n",
       "\n",
       "    .dataframe tbody tr th {\n",
       "        vertical-align: top;\n",
       "    }\n",
       "\n",
       "    .dataframe thead th {\n",
       "        text-align: right;\n",
       "    }\n",
       "</style>\n",
       "<table border=\"1\" class=\"dataframe\">\n",
       "  <thead>\n",
       "    <tr style=\"text-align: right;\">\n",
       "      <th></th>\n",
       "      <th>A</th>\n",
       "      <th>B</th>\n",
       "      <th>C</th>\n",
       "      <th>D</th>\n",
       "      <th>F</th>\n",
       "    </tr>\n",
       "  </thead>\n",
       "  <tbody>\n",
       "    <tr>\n",
       "      <th>2020-04-16</th>\n",
       "      <td>0.000000</td>\n",
       "      <td>0.000000</td>\n",
       "      <td>0.743378</td>\n",
       "      <td>5</td>\n",
       "      <td>1</td>\n",
       "    </tr>\n",
       "    <tr>\n",
       "      <th>2020-04-17</th>\n",
       "      <td>-0.423923</td>\n",
       "      <td>0.564346</td>\n",
       "      <td>-1.575552</td>\n",
       "      <td>10</td>\n",
       "      <td>3</td>\n",
       "    </tr>\n",
       "    <tr>\n",
       "      <th>2020-04-18</th>\n",
       "      <td>-2.456166</td>\n",
       "      <td>2.611174</td>\n",
       "      <td>-0.398938</td>\n",
       "      <td>15</td>\n",
       "      <td>6</td>\n",
       "    </tr>\n",
       "    <tr>\n",
       "      <th>2020-04-19</th>\n",
       "      <td>-3.656170</td>\n",
       "      <td>3.721165</td>\n",
       "      <td>-1.926743</td>\n",
       "      <td>20</td>\n",
       "      <td>10</td>\n",
       "    </tr>\n",
       "    <tr>\n",
       "      <th>2020-04-20</th>\n",
       "      <td>-4.191201</td>\n",
       "      <td>5.072585</td>\n",
       "      <td>-1.018877</td>\n",
       "      <td>25</td>\n",
       "      <td>15</td>\n",
       "    </tr>\n",
       "    <tr>\n",
       "      <th>2020-04-21</th>\n",
       "      <td>-4.805935</td>\n",
       "      <td>5.099728</td>\n",
       "      <td>-1.439752</td>\n",
       "      <td>30</td>\n",
       "      <td>21</td>\n",
       "    </tr>\n",
       "  </tbody>\n",
       "</table>\n",
       "</div>"
      ],
      "text/plain": [
       "                   A         B         C   D   F\n",
       "2020-04-16  0.000000  0.000000  0.743378   5   1\n",
       "2020-04-17 -0.423923  0.564346 -1.575552  10   3\n",
       "2020-04-18 -2.456166  2.611174 -0.398938  15   6\n",
       "2020-04-19 -3.656170  3.721165 -1.926743  20  10\n",
       "2020-04-20 -4.191201  5.072585 -1.018877  25  15\n",
       "2020-04-21 -4.805935  5.099728 -1.439752  30  21"
      ]
     },
     "execution_count": 175,
     "metadata": {},
     "output_type": "execute_result"
    }
   ],
   "source": [
    "df.apply(np.cumsum)  # cumsum 默认按照行累加"
   ]
  },
  {
   "cell_type": "code",
   "execution_count": 178,
   "metadata": {},
   "outputs": [
    {
     "data": {
      "text/html": [
       "<div>\n",
       "<style scoped>\n",
       "    .dataframe tbody tr th:only-of-type {\n",
       "        vertical-align: middle;\n",
       "    }\n",
       "\n",
       "    .dataframe tbody tr th {\n",
       "        vertical-align: top;\n",
       "    }\n",
       "\n",
       "    .dataframe thead th {\n",
       "        text-align: right;\n",
       "    }\n",
       "</style>\n",
       "<table border=\"1\" class=\"dataframe\">\n",
       "  <thead>\n",
       "    <tr style=\"text-align: right;\">\n",
       "      <th></th>\n",
       "      <th>A</th>\n",
       "      <th>B</th>\n",
       "      <th>C</th>\n",
       "      <th>D</th>\n",
       "      <th>F</th>\n",
       "    </tr>\n",
       "  </thead>\n",
       "  <tbody>\n",
       "    <tr>\n",
       "      <th>2020-04-16</th>\n",
       "      <td>0.000000</td>\n",
       "      <td>0.000000</td>\n",
       "      <td>0.743378</td>\n",
       "      <td>5.743378</td>\n",
       "      <td>6.743378</td>\n",
       "    </tr>\n",
       "    <tr>\n",
       "      <th>2020-04-17</th>\n",
       "      <td>-0.423923</td>\n",
       "      <td>0.140424</td>\n",
       "      <td>-2.178507</td>\n",
       "      <td>2.821493</td>\n",
       "      <td>4.821493</td>\n",
       "    </tr>\n",
       "    <tr>\n",
       "      <th>2020-04-18</th>\n",
       "      <td>-2.032243</td>\n",
       "      <td>0.014584</td>\n",
       "      <td>1.191198</td>\n",
       "      <td>6.191198</td>\n",
       "      <td>9.191198</td>\n",
       "    </tr>\n",
       "    <tr>\n",
       "      <th>2020-04-19</th>\n",
       "      <td>-1.200005</td>\n",
       "      <td>-0.090013</td>\n",
       "      <td>-1.617818</td>\n",
       "      <td>3.382182</td>\n",
       "      <td>7.382182</td>\n",
       "    </tr>\n",
       "    <tr>\n",
       "      <th>2020-04-20</th>\n",
       "      <td>-0.535031</td>\n",
       "      <td>0.816389</td>\n",
       "      <td>1.724255</td>\n",
       "      <td>6.724255</td>\n",
       "      <td>11.724255</td>\n",
       "    </tr>\n",
       "    <tr>\n",
       "      <th>2020-04-21</th>\n",
       "      <td>-0.614734</td>\n",
       "      <td>-0.587591</td>\n",
       "      <td>-1.008466</td>\n",
       "      <td>3.991534</td>\n",
       "      <td>9.991534</td>\n",
       "    </tr>\n",
       "  </tbody>\n",
       "</table>\n",
       "</div>"
      ],
      "text/plain": [
       "                   A         B         C         D          F\n",
       "2020-04-16  0.000000  0.000000  0.743378  5.743378   6.743378\n",
       "2020-04-17 -0.423923  0.140424 -2.178507  2.821493   4.821493\n",
       "2020-04-18 -2.032243  0.014584  1.191198  6.191198   9.191198\n",
       "2020-04-19 -1.200005 -0.090013 -1.617818  3.382182   7.382182\n",
       "2020-04-20 -0.535031  0.816389  1.724255  6.724255  11.724255\n",
       "2020-04-21 -0.614734 -0.587591 -1.008466  3.991534   9.991534"
      ]
     },
     "execution_count": 178,
     "metadata": {},
     "output_type": "execute_result"
    }
   ],
   "source": [
    "df.apply(np.cumsum,axis=1)  # 指定 cumsum 的 axis 参数，按照列累加"
   ]
  },
  {
   "cell_type": "code",
   "execution_count": 176,
   "metadata": {},
   "outputs": [
    {
     "data": {
      "text/plain": [
       "A    2.032243\n",
       "B    2.046827\n",
       "C    3.495545\n",
       "D    0.000000\n",
       "F    5.000000\n",
       "dtype: float64"
      ]
     },
     "execution_count": 176,
     "metadata": {},
     "output_type": "execute_result"
    }
   ],
   "source": [
    "df.apply(lambda x: x.max() - x.min())"
   ]
  },
  {
   "cell_type": "markdown",
   "metadata": {},
   "source": [
    "### 0x07-3 直方图 Histogramming"
   ]
  },
  {
   "cell_type": "code",
   "execution_count": 179,
   "metadata": {},
   "outputs": [
    {
     "data": {
      "text/plain": [
       "0    0\n",
       "1    4\n",
       "2    5\n",
       "3    0\n",
       "4    3\n",
       "5    2\n",
       "6    2\n",
       "7    0\n",
       "8    5\n",
       "9    1\n",
       "dtype: int32"
      ]
     },
     "execution_count": 179,
     "metadata": {},
     "output_type": "execute_result"
    }
   ],
   "source": [
    "s = pd.Series(np.random.randint(0, 7, size=10))\n",
    "s"
   ]
  },
  {
   "cell_type": "code",
   "execution_count": 180,
   "metadata": {
    "scrolled": true
   },
   "outputs": [
    {
     "data": {
      "text/plain": [
       "0    3\n",
       "5    2\n",
       "2    2\n",
       "4    1\n",
       "3    1\n",
       "1    1\n",
       "dtype: int64"
      ]
     },
     "execution_count": 180,
     "metadata": {},
     "output_type": "execute_result"
    }
   ],
   "source": [
    "s.value_counts()"
   ]
  },
  {
   "cell_type": "markdown",
   "metadata": {},
   "source": [
    "### 0x07-4 字符串方法 String Methods"
   ]
  },
  {
   "cell_type": "markdown",
   "metadata": {},
   "source": [
    "Series 在`str`属性中准备了一组字符串处理方法，可以方便地对数组的每个元素进行操作，如下面的代码片段所示。\n",
    "\n",
    "注意`str`中的模式匹配通常默认使用'**正则表达式**（在某些情况下总是使用它们）。"
   ]
  },
  {
   "cell_type": "code",
   "execution_count": 181,
   "metadata": {},
   "outputs": [
    {
     "data": {
      "text/plain": [
       "0       a\n",
       "1       b\n",
       "2       c\n",
       "3    aaba\n",
       "4    baca\n",
       "5     NaN\n",
       "6    caba\n",
       "7     dog\n",
       "8     cat\n",
       "dtype: object"
      ]
     },
     "execution_count": 181,
     "metadata": {},
     "output_type": "execute_result"
    }
   ],
   "source": [
    "s = pd.Series(['A', 'B', 'C', 'Aaba', 'Baca', np.nan, 'CABA', 'dog', 'cat'])\n",
    "s.str.lower()"
   ]
  },
  {
   "cell_type": "markdown",
   "metadata": {},
   "source": [
    "## 0x08 合并 Merge"
   ]
  },
  {
   "cell_type": "markdown",
   "metadata": {},
   "source": [
    "pandas 提供了一系列的方法，在 join/merge 操作中，可以轻松地对`Series`, `DataFrame`和`Panel`对象进行各种集合逻辑以及关系代数的操作。"
   ]
  },
  {
   "cell_type": "markdown",
   "metadata": {},
   "source": [
    "### 0x08-1 Concat"
   ]
  },
  {
   "cell_type": "code",
   "execution_count": 182,
   "metadata": {},
   "outputs": [
    {
     "data": {
      "text/html": [
       "<div>\n",
       "<style scoped>\n",
       "    .dataframe tbody tr th:only-of-type {\n",
       "        vertical-align: middle;\n",
       "    }\n",
       "\n",
       "    .dataframe tbody tr th {\n",
       "        vertical-align: top;\n",
       "    }\n",
       "\n",
       "    .dataframe thead th {\n",
       "        text-align: right;\n",
       "    }\n",
       "</style>\n",
       "<table border=\"1\" class=\"dataframe\">\n",
       "  <thead>\n",
       "    <tr style=\"text-align: right;\">\n",
       "      <th></th>\n",
       "      <th>0</th>\n",
       "      <th>1</th>\n",
       "      <th>2</th>\n",
       "      <th>3</th>\n",
       "    </tr>\n",
       "  </thead>\n",
       "  <tbody>\n",
       "    <tr>\n",
       "      <th>0</th>\n",
       "      <td>-0.089143</td>\n",
       "      <td>0.087569</td>\n",
       "      <td>0.218078</td>\n",
       "      <td>-0.336815</td>\n",
       "    </tr>\n",
       "    <tr>\n",
       "      <th>1</th>\n",
       "      <td>-0.694835</td>\n",
       "      <td>0.108324</td>\n",
       "      <td>-1.882762</td>\n",
       "      <td>-0.220210</td>\n",
       "    </tr>\n",
       "    <tr>\n",
       "      <th>2</th>\n",
       "      <td>-2.069784</td>\n",
       "      <td>-0.788424</td>\n",
       "      <td>-1.694595</td>\n",
       "      <td>0.569263</td>\n",
       "    </tr>\n",
       "    <tr>\n",
       "      <th>3</th>\n",
       "      <td>2.433036</td>\n",
       "      <td>0.719851</td>\n",
       "      <td>-0.109935</td>\n",
       "      <td>0.177864</td>\n",
       "    </tr>\n",
       "    <tr>\n",
       "      <th>4</th>\n",
       "      <td>-0.838252</td>\n",
       "      <td>1.117676</td>\n",
       "      <td>0.880839</td>\n",
       "      <td>-1.118529</td>\n",
       "    </tr>\n",
       "    <tr>\n",
       "      <th>5</th>\n",
       "      <td>1.706060</td>\n",
       "      <td>0.290877</td>\n",
       "      <td>-0.907941</td>\n",
       "      <td>-0.532450</td>\n",
       "    </tr>\n",
       "    <tr>\n",
       "      <th>6</th>\n",
       "      <td>0.118169</td>\n",
       "      <td>-0.496975</td>\n",
       "      <td>-0.190422</td>\n",
       "      <td>0.783875</td>\n",
       "    </tr>\n",
       "    <tr>\n",
       "      <th>7</th>\n",
       "      <td>-1.213645</td>\n",
       "      <td>-0.489622</td>\n",
       "      <td>-0.798443</td>\n",
       "      <td>-0.471611</td>\n",
       "    </tr>\n",
       "    <tr>\n",
       "      <th>8</th>\n",
       "      <td>-0.314598</td>\n",
       "      <td>-2.658906</td>\n",
       "      <td>-1.139778</td>\n",
       "      <td>0.374437</td>\n",
       "    </tr>\n",
       "    <tr>\n",
       "      <th>9</th>\n",
       "      <td>0.229281</td>\n",
       "      <td>-1.372309</td>\n",
       "      <td>0.996916</td>\n",
       "      <td>-1.013462</td>\n",
       "    </tr>\n",
       "  </tbody>\n",
       "</table>\n",
       "</div>"
      ],
      "text/plain": [
       "          0         1         2         3\n",
       "0 -0.089143  0.087569  0.218078 -0.336815\n",
       "1 -0.694835  0.108324 -1.882762 -0.220210\n",
       "2 -2.069784 -0.788424 -1.694595  0.569263\n",
       "3  2.433036  0.719851 -0.109935  0.177864\n",
       "4 -0.838252  1.117676  0.880839 -1.118529\n",
       "5  1.706060  0.290877 -0.907941 -0.532450\n",
       "6  0.118169 -0.496975 -0.190422  0.783875\n",
       "7 -1.213645 -0.489622 -0.798443 -0.471611\n",
       "8 -0.314598 -2.658906 -1.139778  0.374437\n",
       "9  0.229281 -1.372309  0.996916 -1.013462"
      ]
     },
     "execution_count": 182,
     "metadata": {},
     "output_type": "execute_result"
    }
   ],
   "source": [
    "df = pd.DataFrame(np.random.randn(10, 4))\n",
    "df"
   ]
  },
  {
   "cell_type": "code",
   "execution_count": 184,
   "metadata": {},
   "outputs": [
    {
     "data": {
      "text/plain": [
       "[          0         1         2         3\n",
       " 0 -0.089143  0.087569  0.218078 -0.336815\n",
       " 1 -0.694835  0.108324 -1.882762 -0.220210\n",
       " 2 -2.069784 -0.788424 -1.694595  0.569263,\n",
       "           0         1         2         3\n",
       " 3  2.433036  0.719851 -0.109935  0.177864\n",
       " 4 -0.838252  1.117676  0.880839 -1.118529\n",
       " 5  1.706060  0.290877 -0.907941 -0.532450\n",
       " 6  0.118169 -0.496975 -0.190422  0.783875,\n",
       "           0         1         2         3\n",
       " 7 -1.213645 -0.489622 -0.798443 -0.471611\n",
       " 8 -0.314598 -2.658906 -1.139778  0.374437\n",
       " 9  0.229281 -1.372309  0.996916 -1.013462]"
      ]
     },
     "execution_count": 184,
     "metadata": {},
     "output_type": "execute_result"
    }
   ],
   "source": [
    "# break it into pieces\n",
    "pieces = [df[:3], df[3:7], df[7:]]\n",
    "pieces"
   ]
  },
  {
   "cell_type": "code",
   "execution_count": 185,
   "metadata": {
    "scrolled": true
   },
   "outputs": [
    {
     "data": {
      "text/html": [
       "<div>\n",
       "<style scoped>\n",
       "    .dataframe tbody tr th:only-of-type {\n",
       "        vertical-align: middle;\n",
       "    }\n",
       "\n",
       "    .dataframe tbody tr th {\n",
       "        vertical-align: top;\n",
       "    }\n",
       "\n",
       "    .dataframe thead th {\n",
       "        text-align: right;\n",
       "    }\n",
       "</style>\n",
       "<table border=\"1\" class=\"dataframe\">\n",
       "  <thead>\n",
       "    <tr style=\"text-align: right;\">\n",
       "      <th></th>\n",
       "      <th>0</th>\n",
       "      <th>1</th>\n",
       "      <th>2</th>\n",
       "      <th>3</th>\n",
       "    </tr>\n",
       "  </thead>\n",
       "  <tbody>\n",
       "    <tr>\n",
       "      <th>0</th>\n",
       "      <td>-0.089143</td>\n",
       "      <td>0.087569</td>\n",
       "      <td>0.218078</td>\n",
       "      <td>-0.336815</td>\n",
       "    </tr>\n",
       "    <tr>\n",
       "      <th>1</th>\n",
       "      <td>-0.694835</td>\n",
       "      <td>0.108324</td>\n",
       "      <td>-1.882762</td>\n",
       "      <td>-0.220210</td>\n",
       "    </tr>\n",
       "    <tr>\n",
       "      <th>2</th>\n",
       "      <td>-2.069784</td>\n",
       "      <td>-0.788424</td>\n",
       "      <td>-1.694595</td>\n",
       "      <td>0.569263</td>\n",
       "    </tr>\n",
       "    <tr>\n",
       "      <th>3</th>\n",
       "      <td>2.433036</td>\n",
       "      <td>0.719851</td>\n",
       "      <td>-0.109935</td>\n",
       "      <td>0.177864</td>\n",
       "    </tr>\n",
       "    <tr>\n",
       "      <th>4</th>\n",
       "      <td>-0.838252</td>\n",
       "      <td>1.117676</td>\n",
       "      <td>0.880839</td>\n",
       "      <td>-1.118529</td>\n",
       "    </tr>\n",
       "    <tr>\n",
       "      <th>5</th>\n",
       "      <td>1.706060</td>\n",
       "      <td>0.290877</td>\n",
       "      <td>-0.907941</td>\n",
       "      <td>-0.532450</td>\n",
       "    </tr>\n",
       "    <tr>\n",
       "      <th>6</th>\n",
       "      <td>0.118169</td>\n",
       "      <td>-0.496975</td>\n",
       "      <td>-0.190422</td>\n",
       "      <td>0.783875</td>\n",
       "    </tr>\n",
       "    <tr>\n",
       "      <th>7</th>\n",
       "      <td>-1.213645</td>\n",
       "      <td>-0.489622</td>\n",
       "      <td>-0.798443</td>\n",
       "      <td>-0.471611</td>\n",
       "    </tr>\n",
       "    <tr>\n",
       "      <th>8</th>\n",
       "      <td>-0.314598</td>\n",
       "      <td>-2.658906</td>\n",
       "      <td>-1.139778</td>\n",
       "      <td>0.374437</td>\n",
       "    </tr>\n",
       "    <tr>\n",
       "      <th>9</th>\n",
       "      <td>0.229281</td>\n",
       "      <td>-1.372309</td>\n",
       "      <td>0.996916</td>\n",
       "      <td>-1.013462</td>\n",
       "    </tr>\n",
       "  </tbody>\n",
       "</table>\n",
       "</div>"
      ],
      "text/plain": [
       "          0         1         2         3\n",
       "0 -0.089143  0.087569  0.218078 -0.336815\n",
       "1 -0.694835  0.108324 -1.882762 -0.220210\n",
       "2 -2.069784 -0.788424 -1.694595  0.569263\n",
       "3  2.433036  0.719851 -0.109935  0.177864\n",
       "4 -0.838252  1.117676  0.880839 -1.118529\n",
       "5  1.706060  0.290877 -0.907941 -0.532450\n",
       "6  0.118169 -0.496975 -0.190422  0.783875\n",
       "7 -1.213645 -0.489622 -0.798443 -0.471611\n",
       "8 -0.314598 -2.658906 -1.139778  0.374437\n",
       "9  0.229281 -1.372309  0.996916 -1.013462"
      ]
     },
     "execution_count": 185,
     "metadata": {},
     "output_type": "execute_result"
    }
   ],
   "source": [
    "pd.concat(pieces)"
   ]
  },
  {
   "cell_type": "markdown",
   "metadata": {},
   "source": [
    "### 0x08-2 Join"
   ]
  },
  {
   "cell_type": "markdown",
   "metadata": {},
   "source": [
    "类似于 SQL 类型的合并。\n",
    "\n",
    "下面是 key 相同的情况。"
   ]
  },
  {
   "cell_type": "code",
   "execution_count": 187,
   "metadata": {},
   "outputs": [
    {
     "data": {
      "text/html": [
       "<div>\n",
       "<style scoped>\n",
       "    .dataframe tbody tr th:only-of-type {\n",
       "        vertical-align: middle;\n",
       "    }\n",
       "\n",
       "    .dataframe tbody tr th {\n",
       "        vertical-align: top;\n",
       "    }\n",
       "\n",
       "    .dataframe thead th {\n",
       "        text-align: right;\n",
       "    }\n",
       "</style>\n",
       "<table border=\"1\" class=\"dataframe\">\n",
       "  <thead>\n",
       "    <tr style=\"text-align: right;\">\n",
       "      <th></th>\n",
       "      <th>key</th>\n",
       "      <th>lval</th>\n",
       "    </tr>\n",
       "  </thead>\n",
       "  <tbody>\n",
       "    <tr>\n",
       "      <th>0</th>\n",
       "      <td>foo</td>\n",
       "      <td>1</td>\n",
       "    </tr>\n",
       "    <tr>\n",
       "      <th>1</th>\n",
       "      <td>foo</td>\n",
       "      <td>2</td>\n",
       "    </tr>\n",
       "  </tbody>\n",
       "</table>\n",
       "</div>"
      ],
      "text/plain": [
       "   key  lval\n",
       "0  foo     1\n",
       "1  foo     2"
      ]
     },
     "execution_count": 187,
     "metadata": {},
     "output_type": "execute_result"
    }
   ],
   "source": [
    "left = pd.DataFrame({'key': ['foo', 'foo'], 'lval': [1, 2]})\n",
    "left"
   ]
  },
  {
   "cell_type": "code",
   "execution_count": 188,
   "metadata": {},
   "outputs": [
    {
     "data": {
      "text/html": [
       "<div>\n",
       "<style scoped>\n",
       "    .dataframe tbody tr th:only-of-type {\n",
       "        vertical-align: middle;\n",
       "    }\n",
       "\n",
       "    .dataframe tbody tr th {\n",
       "        vertical-align: top;\n",
       "    }\n",
       "\n",
       "    .dataframe thead th {\n",
       "        text-align: right;\n",
       "    }\n",
       "</style>\n",
       "<table border=\"1\" class=\"dataframe\">\n",
       "  <thead>\n",
       "    <tr style=\"text-align: right;\">\n",
       "      <th></th>\n",
       "      <th>key</th>\n",
       "      <th>rval</th>\n",
       "    </tr>\n",
       "  </thead>\n",
       "  <tbody>\n",
       "    <tr>\n",
       "      <th>0</th>\n",
       "      <td>foo</td>\n",
       "      <td>4</td>\n",
       "    </tr>\n",
       "    <tr>\n",
       "      <th>1</th>\n",
       "      <td>foo</td>\n",
       "      <td>5</td>\n",
       "    </tr>\n",
       "  </tbody>\n",
       "</table>\n",
       "</div>"
      ],
      "text/plain": [
       "   key  rval\n",
       "0  foo     4\n",
       "1  foo     5"
      ]
     },
     "execution_count": 188,
     "metadata": {},
     "output_type": "execute_result"
    }
   ],
   "source": [
    "right = pd.DataFrame({'key': ['foo', 'foo'], 'rval': [4, 5]})\n",
    "right"
   ]
  },
  {
   "cell_type": "code",
   "execution_count": 189,
   "metadata": {},
   "outputs": [
    {
     "data": {
      "text/html": [
       "<div>\n",
       "<style scoped>\n",
       "    .dataframe tbody tr th:only-of-type {\n",
       "        vertical-align: middle;\n",
       "    }\n",
       "\n",
       "    .dataframe tbody tr th {\n",
       "        vertical-align: top;\n",
       "    }\n",
       "\n",
       "    .dataframe thead th {\n",
       "        text-align: right;\n",
       "    }\n",
       "</style>\n",
       "<table border=\"1\" class=\"dataframe\">\n",
       "  <thead>\n",
       "    <tr style=\"text-align: right;\">\n",
       "      <th></th>\n",
       "      <th>key</th>\n",
       "      <th>lval</th>\n",
       "      <th>rval</th>\n",
       "    </tr>\n",
       "  </thead>\n",
       "  <tbody>\n",
       "    <tr>\n",
       "      <th>0</th>\n",
       "      <td>foo</td>\n",
       "      <td>1</td>\n",
       "      <td>4</td>\n",
       "    </tr>\n",
       "    <tr>\n",
       "      <th>1</th>\n",
       "      <td>foo</td>\n",
       "      <td>1</td>\n",
       "      <td>5</td>\n",
       "    </tr>\n",
       "    <tr>\n",
       "      <th>2</th>\n",
       "      <td>foo</td>\n",
       "      <td>2</td>\n",
       "      <td>4</td>\n",
       "    </tr>\n",
       "    <tr>\n",
       "      <th>3</th>\n",
       "      <td>foo</td>\n",
       "      <td>2</td>\n",
       "      <td>5</td>\n",
       "    </tr>\n",
       "  </tbody>\n",
       "</table>\n",
       "</div>"
      ],
      "text/plain": [
       "   key  lval  rval\n",
       "0  foo     1     4\n",
       "1  foo     1     5\n",
       "2  foo     2     4\n",
       "3  foo     2     5"
      ]
     },
     "execution_count": 189,
     "metadata": {},
     "output_type": "execute_result"
    }
   ],
   "source": [
    "pd.merge(left, right, on='key')"
   ]
  },
  {
   "cell_type": "markdown",
   "metadata": {},
   "source": [
    "另一个例子，key 不同的情况。"
   ]
  },
  {
   "cell_type": "code",
   "execution_count": 190,
   "metadata": {},
   "outputs": [
    {
     "data": {
      "text/html": [
       "<div>\n",
       "<style scoped>\n",
       "    .dataframe tbody tr th:only-of-type {\n",
       "        vertical-align: middle;\n",
       "    }\n",
       "\n",
       "    .dataframe tbody tr th {\n",
       "        vertical-align: top;\n",
       "    }\n",
       "\n",
       "    .dataframe thead th {\n",
       "        text-align: right;\n",
       "    }\n",
       "</style>\n",
       "<table border=\"1\" class=\"dataframe\">\n",
       "  <thead>\n",
       "    <tr style=\"text-align: right;\">\n",
       "      <th></th>\n",
       "      <th>key</th>\n",
       "      <th>lval</th>\n",
       "    </tr>\n",
       "  </thead>\n",
       "  <tbody>\n",
       "    <tr>\n",
       "      <th>0</th>\n",
       "      <td>foo</td>\n",
       "      <td>1</td>\n",
       "    </tr>\n",
       "    <tr>\n",
       "      <th>1</th>\n",
       "      <td>bar</td>\n",
       "      <td>2</td>\n",
       "    </tr>\n",
       "  </tbody>\n",
       "</table>\n",
       "</div>"
      ],
      "text/plain": [
       "   key  lval\n",
       "0  foo     1\n",
       "1  bar     2"
      ]
     },
     "execution_count": 190,
     "metadata": {},
     "output_type": "execute_result"
    }
   ],
   "source": [
    "left = pd.DataFrame({'key': ['foo', 'bar'], 'lval': [1, 2]})\n",
    "left"
   ]
  },
  {
   "cell_type": "code",
   "execution_count": 191,
   "metadata": {},
   "outputs": [
    {
     "data": {
      "text/html": [
       "<div>\n",
       "<style scoped>\n",
       "    .dataframe tbody tr th:only-of-type {\n",
       "        vertical-align: middle;\n",
       "    }\n",
       "\n",
       "    .dataframe tbody tr th {\n",
       "        vertical-align: top;\n",
       "    }\n",
       "\n",
       "    .dataframe thead th {\n",
       "        text-align: right;\n",
       "    }\n",
       "</style>\n",
       "<table border=\"1\" class=\"dataframe\">\n",
       "  <thead>\n",
       "    <tr style=\"text-align: right;\">\n",
       "      <th></th>\n",
       "      <th>key</th>\n",
       "      <th>rval</th>\n",
       "    </tr>\n",
       "  </thead>\n",
       "  <tbody>\n",
       "    <tr>\n",
       "      <th>0</th>\n",
       "      <td>foo</td>\n",
       "      <td>4</td>\n",
       "    </tr>\n",
       "    <tr>\n",
       "      <th>1</th>\n",
       "      <td>bar</td>\n",
       "      <td>5</td>\n",
       "    </tr>\n",
       "  </tbody>\n",
       "</table>\n",
       "</div>"
      ],
      "text/plain": [
       "   key  rval\n",
       "0  foo     4\n",
       "1  bar     5"
      ]
     },
     "execution_count": 191,
     "metadata": {},
     "output_type": "execute_result"
    }
   ],
   "source": [
    "right = pd.DataFrame({'key': ['foo', 'bar'], 'rval': [4, 5]})\n",
    "right"
   ]
  },
  {
   "cell_type": "code",
   "execution_count": 192,
   "metadata": {
    "scrolled": true
   },
   "outputs": [
    {
     "data": {
      "text/html": [
       "<div>\n",
       "<style scoped>\n",
       "    .dataframe tbody tr th:only-of-type {\n",
       "        vertical-align: middle;\n",
       "    }\n",
       "\n",
       "    .dataframe tbody tr th {\n",
       "        vertical-align: top;\n",
       "    }\n",
       "\n",
       "    .dataframe thead th {\n",
       "        text-align: right;\n",
       "    }\n",
       "</style>\n",
       "<table border=\"1\" class=\"dataframe\">\n",
       "  <thead>\n",
       "    <tr style=\"text-align: right;\">\n",
       "      <th></th>\n",
       "      <th>key</th>\n",
       "      <th>lval</th>\n",
       "      <th>rval</th>\n",
       "    </tr>\n",
       "  </thead>\n",
       "  <tbody>\n",
       "    <tr>\n",
       "      <th>0</th>\n",
       "      <td>foo</td>\n",
       "      <td>1</td>\n",
       "      <td>4</td>\n",
       "    </tr>\n",
       "    <tr>\n",
       "      <th>1</th>\n",
       "      <td>bar</td>\n",
       "      <td>2</td>\n",
       "      <td>5</td>\n",
       "    </tr>\n",
       "  </tbody>\n",
       "</table>\n",
       "</div>"
      ],
      "text/plain": [
       "   key  lval  rval\n",
       "0  foo     1     4\n",
       "1  bar     2     5"
      ]
     },
     "execution_count": 192,
     "metadata": {},
     "output_type": "execute_result"
    }
   ],
   "source": [
    "pd.merge(left, right, on='key')"
   ]
  },
  {
   "cell_type": "markdown",
   "metadata": {},
   "source": [
    "### 0x08-3 Append\n",
    "将一行加入到一个 DataFrame 上"
   ]
  },
  {
   "cell_type": "code",
   "execution_count": 193,
   "metadata": {},
   "outputs": [
    {
     "data": {
      "text/html": [
       "<div>\n",
       "<style scoped>\n",
       "    .dataframe tbody tr th:only-of-type {\n",
       "        vertical-align: middle;\n",
       "    }\n",
       "\n",
       "    .dataframe tbody tr th {\n",
       "        vertical-align: top;\n",
       "    }\n",
       "\n",
       "    .dataframe thead th {\n",
       "        text-align: right;\n",
       "    }\n",
       "</style>\n",
       "<table border=\"1\" class=\"dataframe\">\n",
       "  <thead>\n",
       "    <tr style=\"text-align: right;\">\n",
       "      <th></th>\n",
       "      <th>A</th>\n",
       "      <th>B</th>\n",
       "      <th>C</th>\n",
       "      <th>D</th>\n",
       "    </tr>\n",
       "  </thead>\n",
       "  <tbody>\n",
       "    <tr>\n",
       "      <th>0</th>\n",
       "      <td>-2.727829</td>\n",
       "      <td>-1.382168</td>\n",
       "      <td>0.961920</td>\n",
       "      <td>0.083472</td>\n",
       "    </tr>\n",
       "    <tr>\n",
       "      <th>1</th>\n",
       "      <td>-0.297131</td>\n",
       "      <td>-0.294723</td>\n",
       "      <td>0.303267</td>\n",
       "      <td>-0.539177</td>\n",
       "    </tr>\n",
       "    <tr>\n",
       "      <th>2</th>\n",
       "      <td>-0.226735</td>\n",
       "      <td>-2.157170</td>\n",
       "      <td>1.559418</td>\n",
       "      <td>0.102023</td>\n",
       "    </tr>\n",
       "    <tr>\n",
       "      <th>3</th>\n",
       "      <td>0.569927</td>\n",
       "      <td>-0.800855</td>\n",
       "      <td>0.918515</td>\n",
       "      <td>1.630873</td>\n",
       "    </tr>\n",
       "    <tr>\n",
       "      <th>4</th>\n",
       "      <td>0.402999</td>\n",
       "      <td>-2.238052</td>\n",
       "      <td>2.181635</td>\n",
       "      <td>1.950669</td>\n",
       "    </tr>\n",
       "    <tr>\n",
       "      <th>5</th>\n",
       "      <td>1.238971</td>\n",
       "      <td>-0.165159</td>\n",
       "      <td>0.688200</td>\n",
       "      <td>0.793499</td>\n",
       "    </tr>\n",
       "    <tr>\n",
       "      <th>6</th>\n",
       "      <td>1.356265</td>\n",
       "      <td>-0.034859</td>\n",
       "      <td>-0.020774</td>\n",
       "      <td>0.485487</td>\n",
       "    </tr>\n",
       "    <tr>\n",
       "      <th>7</th>\n",
       "      <td>-1.793398</td>\n",
       "      <td>0.900625</td>\n",
       "      <td>0.365789</td>\n",
       "      <td>-2.089145</td>\n",
       "    </tr>\n",
       "  </tbody>\n",
       "</table>\n",
       "</div>"
      ],
      "text/plain": [
       "          A         B         C         D\n",
       "0 -2.727829 -1.382168  0.961920  0.083472\n",
       "1 -0.297131 -0.294723  0.303267 -0.539177\n",
       "2 -0.226735 -2.157170  1.559418  0.102023\n",
       "3  0.569927 -0.800855  0.918515  1.630873\n",
       "4  0.402999 -2.238052  2.181635  1.950669\n",
       "5  1.238971 -0.165159  0.688200  0.793499\n",
       "6  1.356265 -0.034859 -0.020774  0.485487\n",
       "7 -1.793398  0.900625  0.365789 -2.089145"
      ]
     },
     "execution_count": 193,
     "metadata": {},
     "output_type": "execute_result"
    }
   ],
   "source": [
    "df = pd.DataFrame(np.random.randn(8, 4), columns=['A','B','C','D'])\n",
    "df"
   ]
  },
  {
   "cell_type": "code",
   "execution_count": 195,
   "metadata": {},
   "outputs": [
    {
     "data": {
      "text/html": [
       "<div>\n",
       "<style scoped>\n",
       "    .dataframe tbody tr th:only-of-type {\n",
       "        vertical-align: middle;\n",
       "    }\n",
       "\n",
       "    .dataframe tbody tr th {\n",
       "        vertical-align: top;\n",
       "    }\n",
       "\n",
       "    .dataframe thead th {\n",
       "        text-align: right;\n",
       "    }\n",
       "</style>\n",
       "<table border=\"1\" class=\"dataframe\">\n",
       "  <thead>\n",
       "    <tr style=\"text-align: right;\">\n",
       "      <th></th>\n",
       "      <th>A</th>\n",
       "      <th>B</th>\n",
       "      <th>C</th>\n",
       "      <th>D</th>\n",
       "    </tr>\n",
       "  </thead>\n",
       "  <tbody>\n",
       "    <tr>\n",
       "      <th>0</th>\n",
       "      <td>-2.727829</td>\n",
       "      <td>-1.382168</td>\n",
       "      <td>0.961920</td>\n",
       "      <td>0.083472</td>\n",
       "    </tr>\n",
       "    <tr>\n",
       "      <th>1</th>\n",
       "      <td>-0.297131</td>\n",
       "      <td>-0.294723</td>\n",
       "      <td>0.303267</td>\n",
       "      <td>-0.539177</td>\n",
       "    </tr>\n",
       "    <tr>\n",
       "      <th>2</th>\n",
       "      <td>-0.226735</td>\n",
       "      <td>-2.157170</td>\n",
       "      <td>1.559418</td>\n",
       "      <td>0.102023</td>\n",
       "    </tr>\n",
       "    <tr>\n",
       "      <th>3</th>\n",
       "      <td>0.569927</td>\n",
       "      <td>-0.800855</td>\n",
       "      <td>0.918515</td>\n",
       "      <td>1.630873</td>\n",
       "    </tr>\n",
       "    <tr>\n",
       "      <th>4</th>\n",
       "      <td>0.402999</td>\n",
       "      <td>-2.238052</td>\n",
       "      <td>2.181635</td>\n",
       "      <td>1.950669</td>\n",
       "    </tr>\n",
       "    <tr>\n",
       "      <th>5</th>\n",
       "      <td>1.238971</td>\n",
       "      <td>-0.165159</td>\n",
       "      <td>0.688200</td>\n",
       "      <td>0.793499</td>\n",
       "    </tr>\n",
       "    <tr>\n",
       "      <th>6</th>\n",
       "      <td>1.356265</td>\n",
       "      <td>-0.034859</td>\n",
       "      <td>-0.020774</td>\n",
       "      <td>0.485487</td>\n",
       "    </tr>\n",
       "    <tr>\n",
       "      <th>7</th>\n",
       "      <td>-1.793398</td>\n",
       "      <td>0.900625</td>\n",
       "      <td>0.365789</td>\n",
       "      <td>-2.089145</td>\n",
       "    </tr>\n",
       "    <tr>\n",
       "      <th>8</th>\n",
       "      <td>0.569927</td>\n",
       "      <td>-0.800855</td>\n",
       "      <td>0.918515</td>\n",
       "      <td>1.630873</td>\n",
       "    </tr>\n",
       "  </tbody>\n",
       "</table>\n",
       "</div>"
      ],
      "text/plain": [
       "          A         B         C         D\n",
       "0 -2.727829 -1.382168  0.961920  0.083472\n",
       "1 -0.297131 -0.294723  0.303267 -0.539177\n",
       "2 -0.226735 -2.157170  1.559418  0.102023\n",
       "3  0.569927 -0.800855  0.918515  1.630873\n",
       "4  0.402999 -2.238052  2.181635  1.950669\n",
       "5  1.238971 -0.165159  0.688200  0.793499\n",
       "6  1.356265 -0.034859 -0.020774  0.485487\n",
       "7 -1.793398  0.900625  0.365789 -2.089145\n",
       "8  0.569927 -0.800855  0.918515  1.630873"
      ]
     },
     "execution_count": 195,
     "metadata": {},
     "output_type": "execute_result"
    }
   ],
   "source": [
    "s = df.iloc[3]\n",
    "df.append(s, ignore_index=True)  # 忽略 index"
   ]
  },
  {
   "cell_type": "code",
   "execution_count": 197,
   "metadata": {},
   "outputs": [
    {
     "data": {
      "text/html": [
       "<div>\n",
       "<style scoped>\n",
       "    .dataframe tbody tr th:only-of-type {\n",
       "        vertical-align: middle;\n",
       "    }\n",
       "\n",
       "    .dataframe tbody tr th {\n",
       "        vertical-align: top;\n",
       "    }\n",
       "\n",
       "    .dataframe thead th {\n",
       "        text-align: right;\n",
       "    }\n",
       "</style>\n",
       "<table border=\"1\" class=\"dataframe\">\n",
       "  <thead>\n",
       "    <tr style=\"text-align: right;\">\n",
       "      <th></th>\n",
       "      <th>A</th>\n",
       "      <th>B</th>\n",
       "      <th>C</th>\n",
       "      <th>D</th>\n",
       "    </tr>\n",
       "  </thead>\n",
       "  <tbody>\n",
       "    <tr>\n",
       "      <th>0</th>\n",
       "      <td>-2.727829</td>\n",
       "      <td>-1.382168</td>\n",
       "      <td>0.961920</td>\n",
       "      <td>0.083472</td>\n",
       "    </tr>\n",
       "    <tr>\n",
       "      <th>1</th>\n",
       "      <td>-0.297131</td>\n",
       "      <td>-0.294723</td>\n",
       "      <td>0.303267</td>\n",
       "      <td>-0.539177</td>\n",
       "    </tr>\n",
       "    <tr>\n",
       "      <th>2</th>\n",
       "      <td>-0.226735</td>\n",
       "      <td>-2.157170</td>\n",
       "      <td>1.559418</td>\n",
       "      <td>0.102023</td>\n",
       "    </tr>\n",
       "    <tr>\n",
       "      <th>3</th>\n",
       "      <td>0.569927</td>\n",
       "      <td>-0.800855</td>\n",
       "      <td>0.918515</td>\n",
       "      <td>1.630873</td>\n",
       "    </tr>\n",
       "    <tr>\n",
       "      <th>4</th>\n",
       "      <td>0.402999</td>\n",
       "      <td>-2.238052</td>\n",
       "      <td>2.181635</td>\n",
       "      <td>1.950669</td>\n",
       "    </tr>\n",
       "    <tr>\n",
       "      <th>5</th>\n",
       "      <td>1.238971</td>\n",
       "      <td>-0.165159</td>\n",
       "      <td>0.688200</td>\n",
       "      <td>0.793499</td>\n",
       "    </tr>\n",
       "    <tr>\n",
       "      <th>6</th>\n",
       "      <td>1.356265</td>\n",
       "      <td>-0.034859</td>\n",
       "      <td>-0.020774</td>\n",
       "      <td>0.485487</td>\n",
       "    </tr>\n",
       "    <tr>\n",
       "      <th>7</th>\n",
       "      <td>-1.793398</td>\n",
       "      <td>0.900625</td>\n",
       "      <td>0.365789</td>\n",
       "      <td>-2.089145</td>\n",
       "    </tr>\n",
       "    <tr>\n",
       "      <th>4</th>\n",
       "      <td>0.402999</td>\n",
       "      <td>-2.238052</td>\n",
       "      <td>2.181635</td>\n",
       "      <td>1.950669</td>\n",
       "    </tr>\n",
       "  </tbody>\n",
       "</table>\n",
       "</div>"
      ],
      "text/plain": [
       "          A         B         C         D\n",
       "0 -2.727829 -1.382168  0.961920  0.083472\n",
       "1 -0.297131 -0.294723  0.303267 -0.539177\n",
       "2 -0.226735 -2.157170  1.559418  0.102023\n",
       "3  0.569927 -0.800855  0.918515  1.630873\n",
       "4  0.402999 -2.238052  2.181635  1.950669\n",
       "5  1.238971 -0.165159  0.688200  0.793499\n",
       "6  1.356265 -0.034859 -0.020774  0.485487\n",
       "7 -1.793398  0.900625  0.365789 -2.089145\n",
       "4  0.402999 -2.238052  2.181635  1.950669"
      ]
     },
     "execution_count": 197,
     "metadata": {},
     "output_type": "execute_result"
    }
   ],
   "source": [
    "s = df.iloc[4]\n",
    "df.append(s, ignore_index=False)"
   ]
  },
  {
   "cell_type": "markdown",
   "metadata": {},
   "source": [
    "## 0x09 分组 Grouping"
   ]
  },
  {
   "cell_type": "markdown",
   "metadata": {},
   "source": [
    "对于分组(group by)，通常有下面几个操作步骤：\n",
    "- Splitting 按照一些规则将数据分为不同的组\n",
    "\n",
    "- Applying 对于每组数据分别执行一个函数\n",
    "\n",
    "- Combining 将结果组合到一个数据结构中"
   ]
  },
  {
   "cell_type": "code",
   "execution_count": 199,
   "metadata": {},
   "outputs": [
    {
     "data": {
      "text/html": [
       "<div>\n",
       "<style scoped>\n",
       "    .dataframe tbody tr th:only-of-type {\n",
       "        vertical-align: middle;\n",
       "    }\n",
       "\n",
       "    .dataframe tbody tr th {\n",
       "        vertical-align: top;\n",
       "    }\n",
       "\n",
       "    .dataframe thead th {\n",
       "        text-align: right;\n",
       "    }\n",
       "</style>\n",
       "<table border=\"1\" class=\"dataframe\">\n",
       "  <thead>\n",
       "    <tr style=\"text-align: right;\">\n",
       "      <th></th>\n",
       "      <th>A</th>\n",
       "      <th>B</th>\n",
       "      <th>C</th>\n",
       "      <th>D</th>\n",
       "    </tr>\n",
       "  </thead>\n",
       "  <tbody>\n",
       "    <tr>\n",
       "      <th>0</th>\n",
       "      <td>foo</td>\n",
       "      <td>one</td>\n",
       "      <td>1.038586</td>\n",
       "      <td>2.040014</td>\n",
       "    </tr>\n",
       "    <tr>\n",
       "      <th>1</th>\n",
       "      <td>bar</td>\n",
       "      <td>one</td>\n",
       "      <td>0.454452</td>\n",
       "      <td>-0.553457</td>\n",
       "    </tr>\n",
       "    <tr>\n",
       "      <th>2</th>\n",
       "      <td>foo</td>\n",
       "      <td>two</td>\n",
       "      <td>-0.730273</td>\n",
       "      <td>-0.207136</td>\n",
       "    </tr>\n",
       "    <tr>\n",
       "      <th>3</th>\n",
       "      <td>bar</td>\n",
       "      <td>three</td>\n",
       "      <td>0.435136</td>\n",
       "      <td>0.443462</td>\n",
       "    </tr>\n",
       "    <tr>\n",
       "      <th>4</th>\n",
       "      <td>foo</td>\n",
       "      <td>two</td>\n",
       "      <td>2.557988</td>\n",
       "      <td>-1.831259</td>\n",
       "    </tr>\n",
       "    <tr>\n",
       "      <th>5</th>\n",
       "      <td>bar</td>\n",
       "      <td>two</td>\n",
       "      <td>1.131084</td>\n",
       "      <td>0.915332</td>\n",
       "    </tr>\n",
       "    <tr>\n",
       "      <th>6</th>\n",
       "      <td>foo</td>\n",
       "      <td>one</td>\n",
       "      <td>1.078171</td>\n",
       "      <td>0.037355</td>\n",
       "    </tr>\n",
       "    <tr>\n",
       "      <th>7</th>\n",
       "      <td>foo</td>\n",
       "      <td>three</td>\n",
       "      <td>2.057203</td>\n",
       "      <td>1.209778</td>\n",
       "    </tr>\n",
       "  </tbody>\n",
       "</table>\n",
       "</div>"
      ],
      "text/plain": [
       "     A      B         C         D\n",
       "0  foo    one  1.038586  2.040014\n",
       "1  bar    one  0.454452 -0.553457\n",
       "2  foo    two -0.730273 -0.207136\n",
       "3  bar  three  0.435136  0.443462\n",
       "4  foo    two  2.557988 -1.831259\n",
       "5  bar    two  1.131084  0.915332\n",
       "6  foo    one  1.078171  0.037355\n",
       "7  foo  three  2.057203  1.209778"
      ]
     },
     "execution_count": 199,
     "metadata": {},
     "output_type": "execute_result"
    }
   ],
   "source": [
    "df = pd.DataFrame({'A' : ['foo', 'bar', 'foo', 'bar',\n",
    "                         'foo', 'bar', 'foo', 'foo'],\n",
    "                  'B' : ['one', 'one', 'two', 'three',\n",
    "                         'two', 'two', 'one', 'three'],\n",
    "                  'C' : np.random.randn(8),\n",
    "                  'D' : np.random.randn(8)})\n",
    "df"
   ]
  },
  {
   "cell_type": "markdown",
   "metadata": {},
   "source": [
    "分组并对得到的分组执行`sum`函数。"
   ]
  },
  {
   "cell_type": "code",
   "execution_count": 202,
   "metadata": {},
   "outputs": [
    {
     "data": {
      "text/html": [
       "<div>\n",
       "<style scoped>\n",
       "    .dataframe tbody tr th:only-of-type {\n",
       "        vertical-align: middle;\n",
       "    }\n",
       "\n",
       "    .dataframe tbody tr th {\n",
       "        vertical-align: top;\n",
       "    }\n",
       "\n",
       "    .dataframe thead th {\n",
       "        text-align: right;\n",
       "    }\n",
       "</style>\n",
       "<table border=\"1\" class=\"dataframe\">\n",
       "  <thead>\n",
       "    <tr style=\"text-align: right;\">\n",
       "      <th></th>\n",
       "      <th>C</th>\n",
       "      <th>D</th>\n",
       "    </tr>\n",
       "    <tr>\n",
       "      <th>A</th>\n",
       "      <th></th>\n",
       "      <th></th>\n",
       "    </tr>\n",
       "  </thead>\n",
       "  <tbody>\n",
       "    <tr>\n",
       "      <th>bar</th>\n",
       "      <td>-1.001520</td>\n",
       "      <td>1.880284</td>\n",
       "    </tr>\n",
       "    <tr>\n",
       "      <th>foo</th>\n",
       "      <td>1.365107</td>\n",
       "      <td>1.459170</td>\n",
       "    </tr>\n",
       "  </tbody>\n",
       "</table>\n",
       "</div>"
      ],
      "text/plain": [
       "            C         D\n",
       "A                      \n",
       "bar -1.001520  1.880284\n",
       "foo  1.365107  1.459170"
      ]
     },
     "execution_count": 202,
     "metadata": {},
     "output_type": "execute_result"
    }
   ],
   "source": [
    "df.groupby('A').sum()"
   ]
  },
  {
   "cell_type": "markdown",
   "metadata": {},
   "source": [
    "通过多个列进行分组形成一个层次(hierarchical)索引，然后执行函数。"
   ]
  },
  {
   "cell_type": "code",
   "execution_count": 205,
   "metadata": {},
   "outputs": [
    {
     "data": {
      "text/html": [
       "<div>\n",
       "<style scoped>\n",
       "    .dataframe tbody tr th:only-of-type {\n",
       "        vertical-align: middle;\n",
       "    }\n",
       "\n",
       "    .dataframe tbody tr th {\n",
       "        vertical-align: top;\n",
       "    }\n",
       "\n",
       "    .dataframe thead th {\n",
       "        text-align: right;\n",
       "    }\n",
       "</style>\n",
       "<table border=\"1\" class=\"dataframe\">\n",
       "  <thead>\n",
       "    <tr style=\"text-align: right;\">\n",
       "      <th></th>\n",
       "      <th></th>\n",
       "      <th>C</th>\n",
       "      <th>D</th>\n",
       "    </tr>\n",
       "    <tr>\n",
       "      <th>A</th>\n",
       "      <th>B</th>\n",
       "      <th></th>\n",
       "      <th></th>\n",
       "    </tr>\n",
       "  </thead>\n",
       "  <tbody>\n",
       "    <tr>\n",
       "      <th rowspan=\"3\" valign=\"top\">bar</th>\n",
       "      <th>one</th>\n",
       "      <td>0.598883</td>\n",
       "      <td>1.667737</td>\n",
       "    </tr>\n",
       "    <tr>\n",
       "      <th>three</th>\n",
       "      <td>-0.605689</td>\n",
       "      <td>-0.531403</td>\n",
       "    </tr>\n",
       "    <tr>\n",
       "      <th>two</th>\n",
       "      <td>-0.994715</td>\n",
       "      <td>0.743951</td>\n",
       "    </tr>\n",
       "    <tr>\n",
       "      <th rowspan=\"3\" valign=\"top\">foo</th>\n",
       "      <th>one</th>\n",
       "      <td>-0.090250</td>\n",
       "      <td>0.694644</td>\n",
       "    </tr>\n",
       "    <tr>\n",
       "      <th>three</th>\n",
       "      <td>0.738067</td>\n",
       "      <td>1.498865</td>\n",
       "    </tr>\n",
       "    <tr>\n",
       "      <th>two</th>\n",
       "      <td>0.717290</td>\n",
       "      <td>-0.734339</td>\n",
       "    </tr>\n",
       "  </tbody>\n",
       "</table>\n",
       "</div>"
      ],
      "text/plain": [
       "                  C         D\n",
       "A   B                        \n",
       "bar one    0.598883  1.667737\n",
       "    three -0.605689 -0.531403\n",
       "    two   -0.994715  0.743951\n",
       "foo one   -0.090250  0.694644\n",
       "    three  0.738067  1.498865\n",
       "    two    0.717290 -0.734339"
      ]
     },
     "execution_count": 205,
     "metadata": {},
     "output_type": "execute_result"
    }
   ],
   "source": [
    "df.groupby(['A','B']).sum()"
   ]
  },
  {
   "cell_type": "markdown",
   "metadata": {},
   "source": [
    "## 0x0A 重塑/改变形状 Reshaping"
   ]
  },
  {
   "cell_type": "markdown",
   "metadata": {},
   "source": [
    "### 0x0A-1 Stack"
   ]
  },
  {
   "cell_type": "code",
   "execution_count": 207,
   "metadata": {},
   "outputs": [
    {
     "data": {
      "text/plain": [
       "[('bar', 'one'),\n",
       " ('bar', 'two'),\n",
       " ('baz', 'one'),\n",
       " ('baz', 'two'),\n",
       " ('foo', 'one'),\n",
       " ('foo', 'two'),\n",
       " ('qux', 'one'),\n",
       " ('qux', 'two')]"
      ]
     },
     "execution_count": 207,
     "metadata": {},
     "output_type": "execute_result"
    }
   ],
   "source": [
    "tuples = list(zip(*[['bar', 'bar', 'baz', 'baz',\n",
    "                      'foo', 'foo', 'qux', 'qux'],\n",
    "                     ['one', 'two', 'one', 'two',\n",
    "                      'one', 'two', 'one', 'two']]))\n",
    "tuples"
   ]
  },
  {
   "cell_type": "code",
   "execution_count": 208,
   "metadata": {},
   "outputs": [
    {
     "data": {
      "text/html": [
       "<div>\n",
       "<style scoped>\n",
       "    .dataframe tbody tr th:only-of-type {\n",
       "        vertical-align: middle;\n",
       "    }\n",
       "\n",
       "    .dataframe tbody tr th {\n",
       "        vertical-align: top;\n",
       "    }\n",
       "\n",
       "    .dataframe thead th {\n",
       "        text-align: right;\n",
       "    }\n",
       "</style>\n",
       "<table border=\"1\" class=\"dataframe\">\n",
       "  <thead>\n",
       "    <tr style=\"text-align: right;\">\n",
       "      <th></th>\n",
       "      <th></th>\n",
       "      <th>A</th>\n",
       "      <th>B</th>\n",
       "    </tr>\n",
       "    <tr>\n",
       "      <th>first</th>\n",
       "      <th>second</th>\n",
       "      <th></th>\n",
       "      <th></th>\n",
       "    </tr>\n",
       "  </thead>\n",
       "  <tbody>\n",
       "    <tr>\n",
       "      <th rowspan=\"2\" valign=\"top\">bar</th>\n",
       "      <th>one</th>\n",
       "      <td>1.402402</td>\n",
       "      <td>-0.215913</td>\n",
       "    </tr>\n",
       "    <tr>\n",
       "      <th>two</th>\n",
       "      <td>-0.305333</td>\n",
       "      <td>-0.679614</td>\n",
       "    </tr>\n",
       "    <tr>\n",
       "      <th rowspan=\"2\" valign=\"top\">baz</th>\n",
       "      <th>one</th>\n",
       "      <td>0.745205</td>\n",
       "      <td>0.872718</td>\n",
       "    </tr>\n",
       "    <tr>\n",
       "      <th>two</th>\n",
       "      <td>0.421718</td>\n",
       "      <td>-0.662528</td>\n",
       "    </tr>\n",
       "    <tr>\n",
       "      <th rowspan=\"2\" valign=\"top\">foo</th>\n",
       "      <th>one</th>\n",
       "      <td>-1.433628</td>\n",
       "      <td>0.627898</td>\n",
       "    </tr>\n",
       "    <tr>\n",
       "      <th>two</th>\n",
       "      <td>2.129267</td>\n",
       "      <td>-0.260206</td>\n",
       "    </tr>\n",
       "    <tr>\n",
       "      <th rowspan=\"2\" valign=\"top\">qux</th>\n",
       "      <th>one</th>\n",
       "      <td>0.498752</td>\n",
       "      <td>-0.622814</td>\n",
       "    </tr>\n",
       "    <tr>\n",
       "      <th>two</th>\n",
       "      <td>-0.356492</td>\n",
       "      <td>1.364184</td>\n",
       "    </tr>\n",
       "  </tbody>\n",
       "</table>\n",
       "</div>"
      ],
      "text/plain": [
       "                     A         B\n",
       "first second                    \n",
       "bar   one     1.402402 -0.215913\n",
       "      two    -0.305333 -0.679614\n",
       "baz   one     0.745205  0.872718\n",
       "      two     0.421718 -0.662528\n",
       "foo   one    -1.433628  0.627898\n",
       "      two     2.129267 -0.260206\n",
       "qux   one     0.498752 -0.622814\n",
       "      two    -0.356492  1.364184"
      ]
     },
     "execution_count": 208,
     "metadata": {},
     "output_type": "execute_result"
    }
   ],
   "source": [
    "index = pd.MultiIndex.from_tuples(tuples, names=['first', 'second'])\n",
    "df = pd.DataFrame(np.random.randn(8, 2), index=index, columns=['A', 'B'])\n",
    "df"
   ]
  },
  {
   "cell_type": "code",
   "execution_count": 209,
   "metadata": {},
   "outputs": [
    {
     "data": {
      "text/html": [
       "<div>\n",
       "<style scoped>\n",
       "    .dataframe tbody tr th:only-of-type {\n",
       "        vertical-align: middle;\n",
       "    }\n",
       "\n",
       "    .dataframe tbody tr th {\n",
       "        vertical-align: top;\n",
       "    }\n",
       "\n",
       "    .dataframe thead th {\n",
       "        text-align: right;\n",
       "    }\n",
       "</style>\n",
       "<table border=\"1\" class=\"dataframe\">\n",
       "  <thead>\n",
       "    <tr style=\"text-align: right;\">\n",
       "      <th></th>\n",
       "      <th></th>\n",
       "      <th>A</th>\n",
       "      <th>B</th>\n",
       "    </tr>\n",
       "    <tr>\n",
       "      <th>first</th>\n",
       "      <th>second</th>\n",
       "      <th></th>\n",
       "      <th></th>\n",
       "    </tr>\n",
       "  </thead>\n",
       "  <tbody>\n",
       "    <tr>\n",
       "      <th rowspan=\"2\" valign=\"top\">bar</th>\n",
       "      <th>one</th>\n",
       "      <td>1.402402</td>\n",
       "      <td>-0.215913</td>\n",
       "    </tr>\n",
       "    <tr>\n",
       "      <th>two</th>\n",
       "      <td>-0.305333</td>\n",
       "      <td>-0.679614</td>\n",
       "    </tr>\n",
       "    <tr>\n",
       "      <th rowspan=\"2\" valign=\"top\">baz</th>\n",
       "      <th>one</th>\n",
       "      <td>0.745205</td>\n",
       "      <td>0.872718</td>\n",
       "    </tr>\n",
       "    <tr>\n",
       "      <th>two</th>\n",
       "      <td>0.421718</td>\n",
       "      <td>-0.662528</td>\n",
       "    </tr>\n",
       "  </tbody>\n",
       "</table>\n",
       "</div>"
      ],
      "text/plain": [
       "                     A         B\n",
       "first second                    \n",
       "bar   one     1.402402 -0.215913\n",
       "      two    -0.305333 -0.679614\n",
       "baz   one     0.745205  0.872718\n",
       "      two     0.421718 -0.662528"
      ]
     },
     "execution_count": 209,
     "metadata": {},
     "output_type": "execute_result"
    }
   ],
   "source": [
    "df2 = df[:4]\n",
    "df2"
   ]
  },
  {
   "cell_type": "markdown",
   "metadata": {},
   "source": [
    "`stack()`方法在 DataFrame 列的层次上进行**压缩** "
   ]
  },
  {
   "cell_type": "code",
   "execution_count": 210,
   "metadata": {},
   "outputs": [
    {
     "data": {
      "text/plain": [
       "first  second   \n",
       "bar    one     A    1.402402\n",
       "               B   -0.215913\n",
       "       two     A   -0.305333\n",
       "               B   -0.679614\n",
       "baz    one     A    0.745205\n",
       "               B    0.872718\n",
       "       two     A    0.421718\n",
       "               B   -0.662528\n",
       "dtype: float64"
      ]
     },
     "execution_count": 210,
     "metadata": {},
     "output_type": "execute_result"
    }
   ],
   "source": [
    "stacked = df2.stack()\n",
    "stacked"
   ]
  },
  {
   "cell_type": "markdown",
   "metadata": {},
   "source": [
    "对于一个经过了 stack 的 DataFrame 或者 Series（以 MultiIndex 作为索引），`stack()`的逆运算是`isunstack()`，默认情况下是 unstack 最后一层。 \n",
    "\n",
    "就是说，bar、baz是第0级，one、two是第1级，A、B是第2级。"
   ]
  },
  {
   "cell_type": "code",
   "execution_count": 211,
   "metadata": {},
   "outputs": [
    {
     "data": {
      "text/html": [
       "<div>\n",
       "<style scoped>\n",
       "    .dataframe tbody tr th:only-of-type {\n",
       "        vertical-align: middle;\n",
       "    }\n",
       "\n",
       "    .dataframe tbody tr th {\n",
       "        vertical-align: top;\n",
       "    }\n",
       "\n",
       "    .dataframe thead th {\n",
       "        text-align: right;\n",
       "    }\n",
       "</style>\n",
       "<table border=\"1\" class=\"dataframe\">\n",
       "  <thead>\n",
       "    <tr style=\"text-align: right;\">\n",
       "      <th></th>\n",
       "      <th></th>\n",
       "      <th>A</th>\n",
       "      <th>B</th>\n",
       "    </tr>\n",
       "    <tr>\n",
       "      <th>first</th>\n",
       "      <th>second</th>\n",
       "      <th></th>\n",
       "      <th></th>\n",
       "    </tr>\n",
       "  </thead>\n",
       "  <tbody>\n",
       "    <tr>\n",
       "      <th rowspan=\"2\" valign=\"top\">bar</th>\n",
       "      <th>one</th>\n",
       "      <td>1.402402</td>\n",
       "      <td>-0.215913</td>\n",
       "    </tr>\n",
       "    <tr>\n",
       "      <th>two</th>\n",
       "      <td>-0.305333</td>\n",
       "      <td>-0.679614</td>\n",
       "    </tr>\n",
       "    <tr>\n",
       "      <th rowspan=\"2\" valign=\"top\">baz</th>\n",
       "      <th>one</th>\n",
       "      <td>0.745205</td>\n",
       "      <td>0.872718</td>\n",
       "    </tr>\n",
       "    <tr>\n",
       "      <th>two</th>\n",
       "      <td>0.421718</td>\n",
       "      <td>-0.662528</td>\n",
       "    </tr>\n",
       "  </tbody>\n",
       "</table>\n",
       "</div>"
      ],
      "text/plain": [
       "                     A         B\n",
       "first second                    \n",
       "bar   one     1.402402 -0.215913\n",
       "      two    -0.305333 -0.679614\n",
       "baz   one     0.745205  0.872718\n",
       "      two     0.421718 -0.662528"
      ]
     },
     "execution_count": 211,
     "metadata": {},
     "output_type": "execute_result"
    }
   ],
   "source": [
    "stacked.unstack()"
   ]
  },
  {
   "cell_type": "code",
   "execution_count": 212,
   "metadata": {},
   "outputs": [
    {
     "data": {
      "text/html": [
       "<div>\n",
       "<style scoped>\n",
       "    .dataframe tbody tr th:only-of-type {\n",
       "        vertical-align: middle;\n",
       "    }\n",
       "\n",
       "    .dataframe tbody tr th {\n",
       "        vertical-align: top;\n",
       "    }\n",
       "\n",
       "    .dataframe thead th {\n",
       "        text-align: right;\n",
       "    }\n",
       "</style>\n",
       "<table border=\"1\" class=\"dataframe\">\n",
       "  <thead>\n",
       "    <tr style=\"text-align: right;\">\n",
       "      <th></th>\n",
       "      <th>second</th>\n",
       "      <th>one</th>\n",
       "      <th>two</th>\n",
       "    </tr>\n",
       "    <tr>\n",
       "      <th>first</th>\n",
       "      <th></th>\n",
       "      <th></th>\n",
       "      <th></th>\n",
       "    </tr>\n",
       "  </thead>\n",
       "  <tbody>\n",
       "    <tr>\n",
       "      <th rowspan=\"2\" valign=\"top\">bar</th>\n",
       "      <th>A</th>\n",
       "      <td>1.402402</td>\n",
       "      <td>-0.305333</td>\n",
       "    </tr>\n",
       "    <tr>\n",
       "      <th>B</th>\n",
       "      <td>-0.215913</td>\n",
       "      <td>-0.679614</td>\n",
       "    </tr>\n",
       "    <tr>\n",
       "      <th rowspan=\"2\" valign=\"top\">baz</th>\n",
       "      <th>A</th>\n",
       "      <td>0.745205</td>\n",
       "      <td>0.421718</td>\n",
       "    </tr>\n",
       "    <tr>\n",
       "      <th>B</th>\n",
       "      <td>0.872718</td>\n",
       "      <td>-0.662528</td>\n",
       "    </tr>\n",
       "  </tbody>\n",
       "</table>\n",
       "</div>"
      ],
      "text/plain": [
       "second        one       two\n",
       "first                      \n",
       "bar   A  1.402402 -0.305333\n",
       "      B -0.215913 -0.679614\n",
       "baz   A  0.745205  0.421718\n",
       "      B  0.872718 -0.662528"
      ]
     },
     "execution_count": 212,
     "metadata": {},
     "output_type": "execute_result"
    }
   ],
   "source": [
    "stacked.unstack(1)"
   ]
  },
  {
   "cell_type": "code",
   "execution_count": 213,
   "metadata": {},
   "outputs": [
    {
     "data": {
      "text/html": [
       "<div>\n",
       "<style scoped>\n",
       "    .dataframe tbody tr th:only-of-type {\n",
       "        vertical-align: middle;\n",
       "    }\n",
       "\n",
       "    .dataframe tbody tr th {\n",
       "        vertical-align: top;\n",
       "    }\n",
       "\n",
       "    .dataframe thead th {\n",
       "        text-align: right;\n",
       "    }\n",
       "</style>\n",
       "<table border=\"1\" class=\"dataframe\">\n",
       "  <thead>\n",
       "    <tr style=\"text-align: right;\">\n",
       "      <th></th>\n",
       "      <th>first</th>\n",
       "      <th>bar</th>\n",
       "      <th>baz</th>\n",
       "    </tr>\n",
       "    <tr>\n",
       "      <th>second</th>\n",
       "      <th></th>\n",
       "      <th></th>\n",
       "      <th></th>\n",
       "    </tr>\n",
       "  </thead>\n",
       "  <tbody>\n",
       "    <tr>\n",
       "      <th rowspan=\"2\" valign=\"top\">one</th>\n",
       "      <th>A</th>\n",
       "      <td>1.402402</td>\n",
       "      <td>0.745205</td>\n",
       "    </tr>\n",
       "    <tr>\n",
       "      <th>B</th>\n",
       "      <td>-0.215913</td>\n",
       "      <td>0.872718</td>\n",
       "    </tr>\n",
       "    <tr>\n",
       "      <th rowspan=\"2\" valign=\"top\">two</th>\n",
       "      <th>A</th>\n",
       "      <td>-0.305333</td>\n",
       "      <td>0.421718</td>\n",
       "    </tr>\n",
       "    <tr>\n",
       "      <th>B</th>\n",
       "      <td>-0.679614</td>\n",
       "      <td>-0.662528</td>\n",
       "    </tr>\n",
       "  </tbody>\n",
       "</table>\n",
       "</div>"
      ],
      "text/plain": [
       "first          bar       baz\n",
       "second                      \n",
       "one    A  1.402402  0.745205\n",
       "       B -0.215913  0.872718\n",
       "two    A -0.305333  0.421718\n",
       "       B -0.679614 -0.662528"
      ]
     },
     "execution_count": 213,
     "metadata": {},
     "output_type": "execute_result"
    }
   ],
   "source": [
    "stacked.unstack(0)"
   ]
  },
  {
   "cell_type": "markdown",
   "metadata": {},
   "source": [
    "### 0x0A-2 数据透视表 Pivot Tables"
   ]
  },
  {
   "cell_type": "code",
   "execution_count": 221,
   "metadata": {},
   "outputs": [
    {
     "data": {
      "text/html": [
       "<div>\n",
       "<style scoped>\n",
       "    .dataframe tbody tr th:only-of-type {\n",
       "        vertical-align: middle;\n",
       "    }\n",
       "\n",
       "    .dataframe tbody tr th {\n",
       "        vertical-align: top;\n",
       "    }\n",
       "\n",
       "    .dataframe thead th {\n",
       "        text-align: right;\n",
       "    }\n",
       "</style>\n",
       "<table border=\"1\" class=\"dataframe\">\n",
       "  <thead>\n",
       "    <tr style=\"text-align: right;\">\n",
       "      <th></th>\n",
       "      <th>A</th>\n",
       "      <th>B</th>\n",
       "      <th>C</th>\n",
       "      <th>D</th>\n",
       "      <th>E</th>\n",
       "    </tr>\n",
       "  </thead>\n",
       "  <tbody>\n",
       "    <tr>\n",
       "      <th>0</th>\n",
       "      <td>one</td>\n",
       "      <td>A</td>\n",
       "      <td>foo</td>\n",
       "      <td>0.072696</td>\n",
       "      <td>0.305015</td>\n",
       "    </tr>\n",
       "    <tr>\n",
       "      <th>1</th>\n",
       "      <td>one</td>\n",
       "      <td>B</td>\n",
       "      <td>foo</td>\n",
       "      <td>1.428383</td>\n",
       "      <td>-1.108178</td>\n",
       "    </tr>\n",
       "    <tr>\n",
       "      <th>2</th>\n",
       "      <td>two</td>\n",
       "      <td>C</td>\n",
       "      <td>foo</td>\n",
       "      <td>1.239483</td>\n",
       "      <td>0.001580</td>\n",
       "    </tr>\n",
       "    <tr>\n",
       "      <th>3</th>\n",
       "      <td>three</td>\n",
       "      <td>A</td>\n",
       "      <td>bar</td>\n",
       "      <td>-0.953547</td>\n",
       "      <td>1.061740</td>\n",
       "    </tr>\n",
       "    <tr>\n",
       "      <th>4</th>\n",
       "      <td>one</td>\n",
       "      <td>B</td>\n",
       "      <td>bar</td>\n",
       "      <td>0.762730</td>\n",
       "      <td>1.161542</td>\n",
       "    </tr>\n",
       "    <tr>\n",
       "      <th>5</th>\n",
       "      <td>one</td>\n",
       "      <td>C</td>\n",
       "      <td>bar</td>\n",
       "      <td>-0.372740</td>\n",
       "      <td>-0.480251</td>\n",
       "    </tr>\n",
       "    <tr>\n",
       "      <th>6</th>\n",
       "      <td>two</td>\n",
       "      <td>A</td>\n",
       "      <td>foo</td>\n",
       "      <td>0.765181</td>\n",
       "      <td>-1.034218</td>\n",
       "    </tr>\n",
       "    <tr>\n",
       "      <th>7</th>\n",
       "      <td>three</td>\n",
       "      <td>B</td>\n",
       "      <td>foo</td>\n",
       "      <td>-1.858334</td>\n",
       "      <td>0.359220</td>\n",
       "    </tr>\n",
       "    <tr>\n",
       "      <th>8</th>\n",
       "      <td>one</td>\n",
       "      <td>C</td>\n",
       "      <td>foo</td>\n",
       "      <td>-0.952807</td>\n",
       "      <td>1.067494</td>\n",
       "    </tr>\n",
       "    <tr>\n",
       "      <th>9</th>\n",
       "      <td>one</td>\n",
       "      <td>A</td>\n",
       "      <td>bar</td>\n",
       "      <td>0.541013</td>\n",
       "      <td>-0.280833</td>\n",
       "    </tr>\n",
       "    <tr>\n",
       "      <th>10</th>\n",
       "      <td>two</td>\n",
       "      <td>B</td>\n",
       "      <td>bar</td>\n",
       "      <td>-1.810560</td>\n",
       "      <td>-0.829793</td>\n",
       "    </tr>\n",
       "    <tr>\n",
       "      <th>11</th>\n",
       "      <td>three</td>\n",
       "      <td>C</td>\n",
       "      <td>bar</td>\n",
       "      <td>-1.049108</td>\n",
       "      <td>-0.295998</td>\n",
       "    </tr>\n",
       "  </tbody>\n",
       "</table>\n",
       "</div>"
      ],
      "text/plain": [
       "        A  B    C         D         E\n",
       "0     one  A  foo  0.072696  0.305015\n",
       "1     one  B  foo  1.428383 -1.108178\n",
       "2     two  C  foo  1.239483  0.001580\n",
       "3   three  A  bar -0.953547  1.061740\n",
       "4     one  B  bar  0.762730  1.161542\n",
       "5     one  C  bar -0.372740 -0.480251\n",
       "6     two  A  foo  0.765181 -1.034218\n",
       "7   three  B  foo -1.858334  0.359220\n",
       "8     one  C  foo -0.952807  1.067494\n",
       "9     one  A  bar  0.541013 -0.280833\n",
       "10    two  B  bar -1.810560 -0.829793\n",
       "11  three  C  bar -1.049108 -0.295998"
      ]
     },
     "execution_count": 221,
     "metadata": {},
     "output_type": "execute_result"
    }
   ],
   "source": [
    "df = pd.DataFrame({'A' : ['one', 'one', 'two', 'three'] * 3,\n",
    "                   'B' : ['A', 'B', 'C'] * 4,\n",
    "                   'C' : ['foo', 'foo', 'foo', 'bar', 'bar', 'bar'] * 2,\n",
    "                   'D' : np.random.randn(12),\n",
    "                   'E' : np.random.randn(12)})\n",
    "df"
   ]
  },
  {
   "cell_type": "code",
   "execution_count": 222,
   "metadata": {},
   "outputs": [
    {
     "data": {
      "text/html": [
       "<div>\n",
       "<style scoped>\n",
       "    .dataframe tbody tr th:only-of-type {\n",
       "        vertical-align: middle;\n",
       "    }\n",
       "\n",
       "    .dataframe tbody tr th {\n",
       "        vertical-align: top;\n",
       "    }\n",
       "\n",
       "    .dataframe thead th {\n",
       "        text-align: right;\n",
       "    }\n",
       "</style>\n",
       "<table border=\"1\" class=\"dataframe\">\n",
       "  <thead>\n",
       "    <tr style=\"text-align: right;\">\n",
       "      <th></th>\n",
       "      <th>C</th>\n",
       "      <th>bar</th>\n",
       "      <th>foo</th>\n",
       "    </tr>\n",
       "    <tr>\n",
       "      <th>A</th>\n",
       "      <th>B</th>\n",
       "      <th></th>\n",
       "      <th></th>\n",
       "    </tr>\n",
       "  </thead>\n",
       "  <tbody>\n",
       "    <tr>\n",
       "      <th rowspan=\"3\" valign=\"top\">one</th>\n",
       "      <th>A</th>\n",
       "      <td>0.541013</td>\n",
       "      <td>0.072696</td>\n",
       "    </tr>\n",
       "    <tr>\n",
       "      <th>B</th>\n",
       "      <td>0.762730</td>\n",
       "      <td>1.428383</td>\n",
       "    </tr>\n",
       "    <tr>\n",
       "      <th>C</th>\n",
       "      <td>-0.372740</td>\n",
       "      <td>-0.952807</td>\n",
       "    </tr>\n",
       "    <tr>\n",
       "      <th rowspan=\"3\" valign=\"top\">three</th>\n",
       "      <th>A</th>\n",
       "      <td>-0.953547</td>\n",
       "      <td>NaN</td>\n",
       "    </tr>\n",
       "    <tr>\n",
       "      <th>B</th>\n",
       "      <td>NaN</td>\n",
       "      <td>-1.858334</td>\n",
       "    </tr>\n",
       "    <tr>\n",
       "      <th>C</th>\n",
       "      <td>-1.049108</td>\n",
       "      <td>NaN</td>\n",
       "    </tr>\n",
       "    <tr>\n",
       "      <th rowspan=\"3\" valign=\"top\">two</th>\n",
       "      <th>A</th>\n",
       "      <td>NaN</td>\n",
       "      <td>0.765181</td>\n",
       "    </tr>\n",
       "    <tr>\n",
       "      <th>B</th>\n",
       "      <td>-1.810560</td>\n",
       "      <td>NaN</td>\n",
       "    </tr>\n",
       "    <tr>\n",
       "      <th>C</th>\n",
       "      <td>NaN</td>\n",
       "      <td>1.239483</td>\n",
       "    </tr>\n",
       "  </tbody>\n",
       "</table>\n",
       "</div>"
      ],
      "text/plain": [
       "C             bar       foo\n",
       "A     B                    \n",
       "one   A  0.541013  0.072696\n",
       "      B  0.762730  1.428383\n",
       "      C -0.372740 -0.952807\n",
       "three A -0.953547       NaN\n",
       "      B       NaN -1.858334\n",
       "      C -1.049108       NaN\n",
       "two   A       NaN  0.765181\n",
       "      B -1.810560       NaN\n",
       "      C       NaN  1.239483"
      ]
     },
     "execution_count": 222,
     "metadata": {},
     "output_type": "execute_result"
    }
   ],
   "source": [
    "pd.pivot_table(df, values='D', index=['A', 'B'], columns=['C'])"
   ]
  },
  {
   "cell_type": "markdown",
   "metadata": {},
   "source": [
    "## 0x0B 时间序列  Time Series"
   ]
  },
  {
   "cell_type": "markdown",
   "metadata": {},
   "source": [
    "Pandas 在对频率转换进行重新采样时拥有简单、强大且高效的功能（如将按秒采样的数据转换为按5分钟为单位进行采样的数据）。这种操作在金融领域非常常见，但不局限于此。\n",
    "\n",
    "*哇，原来还可以这样玩唉（*\n",
    "\n",
    "这个在信号处理里面也很常用的呢！"
   ]
  },
  {
   "cell_type": "code",
   "execution_count": 235,
   "metadata": {
    "scrolled": true
   },
   "outputs": [
    {
     "data": {
      "text/plain": [
       "2020-01-01 00:00:00    13244\n",
       "2020-01-01 00:01:00    14799\n",
       "2020-01-01 00:02:00    15489\n",
       "2020-01-01 00:03:00     3894\n",
       "Freq: T, dtype: int32"
      ]
     },
     "execution_count": 235,
     "metadata": {},
     "output_type": "execute_result"
    }
   ],
   "source": [
    "rng = pd.date_range('1/1/2020', periods=200, freq='S')\n",
    "ts = pd.Series(np.random.randint(0, 500, len(rng)), index=rng)\n",
    "ts.resample('1Min').sum()"
   ]
  },
  {
   "cell_type": "markdown",
   "metadata": {},
   "source": [
    "### 时区表示"
   ]
  },
  {
   "cell_type": "code",
   "execution_count": 238,
   "metadata": {},
   "outputs": [
    {
     "data": {
      "text/plain": [
       "2020-04-16    0.872043\n",
       "2020-04-17   -0.305200\n",
       "2020-04-18    1.681828\n",
       "2020-04-19    0.163184\n",
       "2020-04-20    1.415422\n",
       "Freq: D, dtype: float64"
      ]
     },
     "execution_count": 238,
     "metadata": {},
     "output_type": "execute_result"
    }
   ],
   "source": [
    "rng = pd.date_range('4/16/2020 00:00', periods=5, freq='D')\n",
    "ts = pd.Series(np.random.randn(len(rng)), rng)\n",
    "ts"
   ]
  },
  {
   "cell_type": "code",
   "execution_count": 240,
   "metadata": {},
   "outputs": [
    {
     "data": {
      "text/plain": [
       "2020-04-16 00:00:00+00:00    0.872043\n",
       "2020-04-17 00:00:00+00:00   -0.305200\n",
       "2020-04-18 00:00:00+00:00    1.681828\n",
       "2020-04-19 00:00:00+00:00    0.163184\n",
       "2020-04-20 00:00:00+00:00    1.415422\n",
       "Freq: D, dtype: float64"
      ]
     },
     "execution_count": 240,
     "metadata": {},
     "output_type": "execute_result"
    }
   ],
   "source": [
    "ts_utc = ts.tz_localize('UTC')\n",
    "ts_utc"
   ]
  },
  {
   "cell_type": "markdown",
   "metadata": {},
   "source": [
    "### 转换到另外一个时区"
   ]
  },
  {
   "cell_type": "code",
   "execution_count": 242,
   "metadata": {},
   "outputs": [
    {
     "data": {
      "text/plain": [
       "2020-04-16 08:00:00+08:00    0.872043\n",
       "2020-04-17 08:00:00+08:00   -0.305200\n",
       "2020-04-18 08:00:00+08:00    1.681828\n",
       "2020-04-19 08:00:00+08:00    0.163184\n",
       "2020-04-20 08:00:00+08:00    1.415422\n",
       "Freq: D, dtype: float64"
      ]
     },
     "execution_count": 242,
     "metadata": {},
     "output_type": "execute_result"
    }
   ],
   "source": [
    "ts_utc.tz_convert('Asia/Shanghai')"
   ]
  },
  {
   "cell_type": "markdown",
   "metadata": {},
   "source": [
    "### 时间跨度转换"
   ]
  },
  {
   "cell_type": "code",
   "execution_count": 251,
   "metadata": {},
   "outputs": [
    {
     "data": {
      "text/plain": [
       "2020-01-31    0.259847\n",
       "2020-02-29   -0.092969\n",
       "2020-03-31    0.525985\n",
       "2020-04-30    0.090362\n",
       "2020-05-31    1.707569\n",
       "Freq: M, dtype: float64"
      ]
     },
     "execution_count": 251,
     "metadata": {},
     "output_type": "execute_result"
    }
   ],
   "source": [
    "rng = pd.date_range('1/1/2020', periods=5, freq='M')\n",
    "ts = pd.Series(np.random.randn(len(rng)), index=rng)\n",
    "ts"
   ]
  },
  {
   "cell_type": "code",
   "execution_count": 252,
   "metadata": {},
   "outputs": [
    {
     "data": {
      "text/plain": [
       "2020-01    0.259847\n",
       "2020-02   -0.092969\n",
       "2020-03    0.525985\n",
       "2020-04    0.090362\n",
       "2020-05    1.707569\n",
       "Freq: M, dtype: float64"
      ]
     },
     "execution_count": 252,
     "metadata": {},
     "output_type": "execute_result"
    }
   ],
   "source": [
    "ps = ts.to_period()\n",
    "ps"
   ]
  },
  {
   "cell_type": "code",
   "execution_count": 253,
   "metadata": {},
   "outputs": [
    {
     "data": {
      "text/plain": [
       "2020-01-01    0.259847\n",
       "2020-02-01   -0.092969\n",
       "2020-03-01    0.525985\n",
       "2020-04-01    0.090362\n",
       "2020-05-01    1.707569\n",
       "Freq: MS, dtype: float64"
      ]
     },
     "execution_count": 253,
     "metadata": {},
     "output_type": "execute_result"
    }
   ],
   "source": [
    "ps.to_timestamp()"
   ]
  },
  {
   "cell_type": "markdown",
   "metadata": {},
   "source": [
    "时期和时间戳之间的转换使得可以使用一些方便的算术函数。\n",
    "\n",
    "下面这个例子，转换一个每年以11月结束的季度频率为 季度结束后的月末的上午9点。*（有点懵*"
   ]
  },
  {
   "cell_type": "code",
   "execution_count": 256,
   "metadata": {},
   "outputs": [
    {
     "data": {
      "text/plain": [
       "1990-03-01 09:00   -1.287411\n",
       "1990-06-01 09:00    1.744485\n",
       "1990-09-01 09:00    0.336561\n",
       "1990-12-01 09:00   -1.206576\n",
       "1991-03-01 09:00    0.108631\n",
       "Freq: H, dtype: float64"
      ]
     },
     "execution_count": 256,
     "metadata": {},
     "output_type": "execute_result"
    }
   ],
   "source": [
    "prng = pd.period_range('1990Q1', '2000Q4', freq='Q-NOV')\n",
    "ts = pd.Series(np.random.randn(len(prng)), prng)\n",
    "ts.index = (prng.asfreq('M', 'e') + 1).asfreq('H', 's') + 9\n",
    "ts.head()"
   ]
  },
  {
   "cell_type": "markdown",
   "metadata": {},
   "source": [
    "## 0x0C 类别 Categoricals"
   ]
  },
  {
   "cell_type": "markdown",
   "metadata": {},
   "source": [
    "pandas 可以在 DataFrame 中支持 category 类型的数据。"
   ]
  },
  {
   "cell_type": "code",
   "execution_count": 257,
   "metadata": {},
   "outputs": [],
   "source": [
    "df = pd.DataFrame({\"id\":[1,2,3,4,5,6], \"raw_grade\":['a', 'b', 'b', 'a', 'a', 'e']})"
   ]
  },
  {
   "cell_type": "markdown",
   "metadata": {},
   "source": [
    "将 raw grades 转换为 category 数据类型。"
   ]
  },
  {
   "cell_type": "code",
   "execution_count": 259,
   "metadata": {},
   "outputs": [
    {
     "data": {
      "text/plain": [
       "0    a\n",
       "1    b\n",
       "2    b\n",
       "3    a\n",
       "4    a\n",
       "5    e\n",
       "Name: grade, dtype: category\n",
       "Categories (3, object): [a, b, e]"
      ]
     },
     "execution_count": 259,
     "metadata": {},
     "output_type": "execute_result"
    }
   ],
   "source": [
    "df[\"grade\"] = df[\"raw_grade\"].astype(\"category\")\n",
    "df[\"grade\"]"
   ]
  },
  {
   "cell_type": "markdown",
   "metadata": {},
   "source": [
    "将 category 类型数据重命名为更有意义的名称，利用`Series.cat.categories`方法。"
   ]
  },
  {
   "cell_type": "code",
   "execution_count": 261,
   "metadata": {},
   "outputs": [
    {
     "data": {
      "text/plain": [
       "0    very good\n",
       "1         good\n",
       "2         good\n",
       "3    very good\n",
       "4    very good\n",
       "5     very bad\n",
       "Name: grade, dtype: category\n",
       "Categories (3, object): [very good, good, very bad]"
      ]
     },
     "execution_count": 261,
     "metadata": {},
     "output_type": "execute_result"
    }
   ],
   "source": [
    "df[\"grade\"].cat.categories = [\"very good\", \"good\", \"very bad\"]\n",
    "df[\"grade\"]"
   ]
  },
  {
   "cell_type": "markdown",
   "metadata": {},
   "source": [
    "对类别进行重新排序，同时增加缺失的类别。\n",
    "\n",
    "`Series.cat`下的方法默认返回一个新的序列。"
   ]
  },
  {
   "cell_type": "code",
   "execution_count": 263,
   "metadata": {},
   "outputs": [
    {
     "data": {
      "text/plain": [
       "0    very good\n",
       "1         good\n",
       "2         good\n",
       "3    very good\n",
       "4    very good\n",
       "5     very bad\n",
       "Name: grade, dtype: category\n",
       "Categories (5, object): [very bad, bad, medium, good, very good]"
      ]
     },
     "execution_count": 263,
     "metadata": {},
     "output_type": "execute_result"
    }
   ],
   "source": [
    "df[\"grade\"] = df[\"grade\"].cat.set_categories([\"very bad\", \"bad\", \"medium\", \"good\", \"very good\"])\n",
    "df[\"grade\"]"
   ]
  },
  {
   "cell_type": "markdown",
   "metadata": {},
   "source": [
    " 排序是按照 category 的顺序进行的，而不是按照词汇顺序(lexical order)。"
   ]
  },
  {
   "cell_type": "code",
   "execution_count": 264,
   "metadata": {},
   "outputs": [
    {
     "data": {
      "text/html": [
       "<div>\n",
       "<style scoped>\n",
       "    .dataframe tbody tr th:only-of-type {\n",
       "        vertical-align: middle;\n",
       "    }\n",
       "\n",
       "    .dataframe tbody tr th {\n",
       "        vertical-align: top;\n",
       "    }\n",
       "\n",
       "    .dataframe thead th {\n",
       "        text-align: right;\n",
       "    }\n",
       "</style>\n",
       "<table border=\"1\" class=\"dataframe\">\n",
       "  <thead>\n",
       "    <tr style=\"text-align: right;\">\n",
       "      <th></th>\n",
       "      <th>id</th>\n",
       "      <th>raw_grade</th>\n",
       "      <th>grade</th>\n",
       "    </tr>\n",
       "  </thead>\n",
       "  <tbody>\n",
       "    <tr>\n",
       "      <th>5</th>\n",
       "      <td>6</td>\n",
       "      <td>e</td>\n",
       "      <td>very bad</td>\n",
       "    </tr>\n",
       "    <tr>\n",
       "      <th>1</th>\n",
       "      <td>2</td>\n",
       "      <td>b</td>\n",
       "      <td>good</td>\n",
       "    </tr>\n",
       "    <tr>\n",
       "      <th>2</th>\n",
       "      <td>3</td>\n",
       "      <td>b</td>\n",
       "      <td>good</td>\n",
       "    </tr>\n",
       "    <tr>\n",
       "      <th>0</th>\n",
       "      <td>1</td>\n",
       "      <td>a</td>\n",
       "      <td>very good</td>\n",
       "    </tr>\n",
       "    <tr>\n",
       "      <th>3</th>\n",
       "      <td>4</td>\n",
       "      <td>a</td>\n",
       "      <td>very good</td>\n",
       "    </tr>\n",
       "    <tr>\n",
       "      <th>4</th>\n",
       "      <td>5</td>\n",
       "      <td>a</td>\n",
       "      <td>very good</td>\n",
       "    </tr>\n",
       "  </tbody>\n",
       "</table>\n",
       "</div>"
      ],
      "text/plain": [
       "   id raw_grade      grade\n",
       "5   6         e   very bad\n",
       "1   2         b       good\n",
       "2   3         b       good\n",
       "0   1         a  very good\n",
       "3   4         a  very good\n",
       "4   5         a  very good"
      ]
     },
     "execution_count": 264,
     "metadata": {},
     "output_type": "execute_result"
    }
   ],
   "source": [
    "df.sort_values(by=\"grade\")"
   ]
  },
  {
   "cell_type": "markdown",
   "metadata": {},
   "source": [
    "对一个 Category 类型的列进行分组时显示了空的类别。"
   ]
  },
  {
   "cell_type": "code",
   "execution_count": 267,
   "metadata": {},
   "outputs": [
    {
     "data": {
      "text/plain": [
       "grade\n",
       "very bad     1\n",
       "bad          0\n",
       "medium       0\n",
       "good         2\n",
       "very good    3\n",
       "dtype: int64"
      ]
     },
     "execution_count": 267,
     "metadata": {},
     "output_type": "execute_result"
    }
   ],
   "source": [
    "df.groupby(\"grade\").size()"
   ]
  },
  {
   "cell_type": "markdown",
   "metadata": {},
   "source": [
    "## 0x0D 作图 Plotting "
   ]
  },
  {
   "cell_type": "code",
   "execution_count": 284,
   "metadata": {},
   "outputs": [
    {
     "data": {
      "text/plain": [
       "<matplotlib.axes._subplots.AxesSubplot at 0x250ccebcb70>"
      ]
     },
     "execution_count": 284,
     "metadata": {},
     "output_type": "execute_result"
    },
    {
     "data": {
      "image/png": "[encoded data removed]",
      "text/plain": [
       "<Figure size 432x288 with 1 Axes>"
      ]
     },
     "metadata": {
      "needs_background": "light"
     },
     "output_type": "display_data"
    }
   ],
   "source": [
    "ts = pd.Series(np.random.randn(1000), index=pd.date_range('1/1/2020', periods=1000))\n",
    "ts = ts.cumsum()\n",
    "ts.plot()"
   ]
  },
  {
   "cell_type": "markdown",
   "metadata": {},
   "source": [
    "对于 DataFrame 而言，`plot()`方法是一种将所有带有标签的列进行绘制的简便方法。"
   ]
  },
  {
   "cell_type": "code",
   "execution_count": 295,
   "metadata": {
    "scrolled": false
   },
   "outputs": [
    {
     "data": {
      "text/plain": [
       "<matplotlib.legend.Legend at 0x250ce7620b8>"
      ]
     },
     "execution_count": 295,
     "metadata": {},
     "output_type": "execute_result"
    },
    {
     "data": {
      "text/plain": [
       "<Figure size 432x288 with 0 Axes>"
      ]
     },
     "metadata": {},
     "output_type": "display_data"
    },
    {
     "data": {
      "image/png": "[encoded data removed]",
      "text/plain": [
       "<Figure size 432x288 with 1 Axes>"
      ]
     },
     "metadata": {
      "needs_background": "light"
     },
     "output_type": "display_data"
    }
   ],
   "source": [
    "df = pd.DataFrame(np.random.randn(1000, 4), index=ts.index,\n",
    "                  columns=['A', 'B', 'C', 'D'])\n",
    "# print(df)\n",
    "df = df.cumsum()\n",
    "plt.figure()\n",
    "df.plot()\n",
    "plt.legend(loc='best')"
   ]
  },
  {
   "cell_type": "code",
   "execution_count": 296,
   "metadata": {
    "scrolled": true
   },
   "outputs": [
    {
     "data": {
      "text/plain": [
       "DatetimeIndex(['2020-01-01', '2020-01-02', '2020-01-03', '2020-01-04',\n",
       "               '2020-01-05', '2020-01-06', '2020-01-07', '2020-01-08',\n",
       "               '2020-01-09', '2020-01-10',\n",
       "               ...\n",
       "               '2022-09-17', '2022-09-18', '2022-09-19', '2022-09-20',\n",
       "               '2022-09-21', '2022-09-22', '2022-09-23', '2022-09-24',\n",
       "               '2022-09-25', '2022-09-26'],\n",
       "              dtype='datetime64[ns]', length=1000, freq='D')"
      ]
     },
     "execution_count": 296,
     "metadata": {},
     "output_type": "execute_result"
    }
   ],
   "source": [
    "ts.index"
   ]
  },
  {
   "cell_type": "markdown",
   "metadata": {},
   "source": [
    "## 0x0E 导入导出数据 Getting Data In/Out "
   ]
  },
  {
   "cell_type": "markdown",
   "metadata": {},
   "source": [
    "### 0x0E-1 CSV\n",
    "\n",
    "**写入 csv 文件**"
   ]
  },
  {
   "cell_type": "code",
   "execution_count": 297,
   "metadata": {},
   "outputs": [],
   "source": [
    "df.to_csv('foo.csv')  # 保存在当前目录下"
   ]
  },
  {
   "cell_type": "markdown",
   "metadata": {},
   "source": [
    "**从 csv 文件中导入数据**"
   ]
  },
  {
   "cell_type": "code",
   "execution_count": 298,
   "metadata": {
    "scrolled": true
   },
   "outputs": [
    {
     "data": {
      "text/html": [
       "<div>\n",
       "<style scoped>\n",
       "    .dataframe tbody tr th:only-of-type {\n",
       "        vertical-align: middle;\n",
       "    }\n",
       "\n",
       "    .dataframe tbody tr th {\n",
       "        vertical-align: top;\n",
       "    }\n",
       "\n",
       "    .dataframe thead th {\n",
       "        text-align: right;\n",
       "    }\n",
       "</style>\n",
       "<table border=\"1\" class=\"dataframe\">\n",
       "  <thead>\n",
       "    <tr style=\"text-align: right;\">\n",
       "      <th></th>\n",
       "      <th>Unnamed: 0</th>\n",
       "      <th>A</th>\n",
       "      <th>B</th>\n",
       "      <th>C</th>\n",
       "      <th>D</th>\n",
       "    </tr>\n",
       "  </thead>\n",
       "  <tbody>\n",
       "    <tr>\n",
       "      <th>0</th>\n",
       "      <td>2020-01-01</td>\n",
       "      <td>-1.397481</td>\n",
       "      <td>-0.453722</td>\n",
       "      <td>1.374079</td>\n",
       "      <td>-2.095767</td>\n",
       "    </tr>\n",
       "    <tr>\n",
       "      <th>1</th>\n",
       "      <td>2020-01-02</td>\n",
       "      <td>-1.363418</td>\n",
       "      <td>0.529293</td>\n",
       "      <td>0.178497</td>\n",
       "      <td>-2.364989</td>\n",
       "    </tr>\n",
       "    <tr>\n",
       "      <th>2</th>\n",
       "      <td>2020-01-03</td>\n",
       "      <td>-2.047267</td>\n",
       "      <td>-0.333020</td>\n",
       "      <td>0.379978</td>\n",
       "      <td>-2.628204</td>\n",
       "    </tr>\n",
       "    <tr>\n",
       "      <th>3</th>\n",
       "      <td>2020-01-04</td>\n",
       "      <td>-2.305870</td>\n",
       "      <td>-0.145598</td>\n",
       "      <td>-0.232491</td>\n",
       "      <td>-2.812290</td>\n",
       "    </tr>\n",
       "    <tr>\n",
       "      <th>4</th>\n",
       "      <td>2020-01-05</td>\n",
       "      <td>-1.851390</td>\n",
       "      <td>-1.378215</td>\n",
       "      <td>-1.202399</td>\n",
       "      <td>-4.574516</td>\n",
       "    </tr>\n",
       "    <tr>\n",
       "      <th>5</th>\n",
       "      <td>2020-01-06</td>\n",
       "      <td>-3.438928</td>\n",
       "      <td>-0.779975</td>\n",
       "      <td>-1.864979</td>\n",
       "      <td>-5.666847</td>\n",
       "    </tr>\n",
       "    <tr>\n",
       "      <th>6</th>\n",
       "      <td>2020-01-07</td>\n",
       "      <td>-4.201270</td>\n",
       "      <td>-0.827366</td>\n",
       "      <td>-0.796513</td>\n",
       "      <td>-5.267628</td>\n",
       "    </tr>\n",
       "    <tr>\n",
       "      <th>7</th>\n",
       "      <td>2020-01-08</td>\n",
       "      <td>-5.682762</td>\n",
       "      <td>-1.009404</td>\n",
       "      <td>-0.760801</td>\n",
       "      <td>-4.696243</td>\n",
       "    </tr>\n",
       "    <tr>\n",
       "      <th>8</th>\n",
       "      <td>2020-01-09</td>\n",
       "      <td>-4.362126</td>\n",
       "      <td>-0.768552</td>\n",
       "      <td>-0.747517</td>\n",
       "      <td>-5.562345</td>\n",
       "    </tr>\n",
       "    <tr>\n",
       "      <th>9</th>\n",
       "      <td>2020-01-10</td>\n",
       "      <td>-5.226357</td>\n",
       "      <td>-1.791920</td>\n",
       "      <td>0.290504</td>\n",
       "      <td>-5.214061</td>\n",
       "    </tr>\n",
       "    <tr>\n",
       "      <th>10</th>\n",
       "      <td>2020-01-11</td>\n",
       "      <td>-4.429691</td>\n",
       "      <td>-2.026951</td>\n",
       "      <td>-0.821212</td>\n",
       "      <td>-6.621030</td>\n",
       "    </tr>\n",
       "    <tr>\n",
       "      <th>11</th>\n",
       "      <td>2020-01-12</td>\n",
       "      <td>-4.222744</td>\n",
       "      <td>-2.875169</td>\n",
       "      <td>-0.654313</td>\n",
       "      <td>-5.926621</td>\n",
       "    </tr>\n",
       "    <tr>\n",
       "      <th>12</th>\n",
       "      <td>2020-01-13</td>\n",
       "      <td>-2.413314</td>\n",
       "      <td>-3.329878</td>\n",
       "      <td>-1.595397</td>\n",
       "      <td>-5.585677</td>\n",
       "    </tr>\n",
       "    <tr>\n",
       "      <th>13</th>\n",
       "      <td>2020-01-14</td>\n",
       "      <td>-2.769944</td>\n",
       "      <td>-3.536045</td>\n",
       "      <td>-1.463671</td>\n",
       "      <td>-5.098753</td>\n",
       "    </tr>\n",
       "    <tr>\n",
       "      <th>14</th>\n",
       "      <td>2020-01-15</td>\n",
       "      <td>-3.599683</td>\n",
       "      <td>-4.973067</td>\n",
       "      <td>-3.859425</td>\n",
       "      <td>-5.823875</td>\n",
       "    </tr>\n",
       "    <tr>\n",
       "      <th>15</th>\n",
       "      <td>2020-01-16</td>\n",
       "      <td>-3.486154</td>\n",
       "      <td>-4.792330</td>\n",
       "      <td>-2.866047</td>\n",
       "      <td>-6.312086</td>\n",
       "    </tr>\n",
       "    <tr>\n",
       "      <th>16</th>\n",
       "      <td>2020-01-17</td>\n",
       "      <td>-4.232714</td>\n",
       "      <td>-5.082053</td>\n",
       "      <td>-3.572924</td>\n",
       "      <td>-8.478300</td>\n",
       "    </tr>\n",
       "    <tr>\n",
       "      <th>17</th>\n",
       "      <td>2020-01-18</td>\n",
       "      <td>-5.346857</td>\n",
       "      <td>-5.787422</td>\n",
       "      <td>-4.313125</td>\n",
       "      <td>-8.595854</td>\n",
       "    </tr>\n",
       "    <tr>\n",
       "      <th>18</th>\n",
       "      <td>2020-01-19</td>\n",
       "      <td>-5.720494</td>\n",
       "      <td>-5.620498</td>\n",
       "      <td>-3.699862</td>\n",
       "      <td>-9.678113</td>\n",
       "    </tr>\n",
       "    <tr>\n",
       "      <th>19</th>\n",
       "      <td>2020-01-20</td>\n",
       "      <td>-5.264735</td>\n",
       "      <td>-4.938944</td>\n",
       "      <td>-2.354040</td>\n",
       "      <td>-8.942524</td>\n",
       "    </tr>\n",
       "    <tr>\n",
       "      <th>20</th>\n",
       "      <td>2020-01-21</td>\n",
       "      <td>-5.407854</td>\n",
       "      <td>-5.379811</td>\n",
       "      <td>-2.284447</td>\n",
       "      <td>-8.068545</td>\n",
       "    </tr>\n",
       "    <tr>\n",
       "      <th>21</th>\n",
       "      <td>2020-01-22</td>\n",
       "      <td>-5.793401</td>\n",
       "      <td>-5.501279</td>\n",
       "      <td>-2.254013</td>\n",
       "      <td>-7.997644</td>\n",
       "    </tr>\n",
       "    <tr>\n",
       "      <th>22</th>\n",
       "      <td>2020-01-23</td>\n",
       "      <td>-6.796539</td>\n",
       "      <td>-4.692782</td>\n",
       "      <td>-2.330458</td>\n",
       "      <td>-7.449650</td>\n",
       "    </tr>\n",
       "    <tr>\n",
       "      <th>23</th>\n",
       "      <td>2020-01-24</td>\n",
       "      <td>-7.502072</td>\n",
       "      <td>-4.085084</td>\n",
       "      <td>-1.810495</td>\n",
       "      <td>-6.540544</td>\n",
       "    </tr>\n",
       "    <tr>\n",
       "      <th>24</th>\n",
       "      <td>2020-01-25</td>\n",
       "      <td>-7.639024</td>\n",
       "      <td>-3.791416</td>\n",
       "      <td>1.214301</td>\n",
       "      <td>-7.599166</td>\n",
       "    </tr>\n",
       "    <tr>\n",
       "      <th>25</th>\n",
       "      <td>2020-01-26</td>\n",
       "      <td>-7.783544</td>\n",
       "      <td>-2.180918</td>\n",
       "      <td>1.628560</td>\n",
       "      <td>-7.928116</td>\n",
       "    </tr>\n",
       "    <tr>\n",
       "      <th>26</th>\n",
       "      <td>2020-01-27</td>\n",
       "      <td>-7.673699</td>\n",
       "      <td>-3.485888</td>\n",
       "      <td>0.640970</td>\n",
       "      <td>-8.124872</td>\n",
       "    </tr>\n",
       "    <tr>\n",
       "      <th>27</th>\n",
       "      <td>2020-01-28</td>\n",
       "      <td>-7.435098</td>\n",
       "      <td>-4.480212</td>\n",
       "      <td>-0.409425</td>\n",
       "      <td>-7.943383</td>\n",
       "    </tr>\n",
       "    <tr>\n",
       "      <th>28</th>\n",
       "      <td>2020-01-29</td>\n",
       "      <td>-6.843557</td>\n",
       "      <td>-5.069680</td>\n",
       "      <td>-1.650871</td>\n",
       "      <td>-7.311741</td>\n",
       "    </tr>\n",
       "    <tr>\n",
       "      <th>29</th>\n",
       "      <td>2020-01-30</td>\n",
       "      <td>-7.647267</td>\n",
       "      <td>-4.115332</td>\n",
       "      <td>-1.558887</td>\n",
       "      <td>-6.308304</td>\n",
       "    </tr>\n",
       "    <tr>\n",
       "      <th>...</th>\n",
       "      <td>...</td>\n",
       "      <td>...</td>\n",
       "      <td>...</td>\n",
       "      <td>...</td>\n",
       "      <td>...</td>\n",
       "    </tr>\n",
       "    <tr>\n",
       "      <th>970</th>\n",
       "      <td>2022-08-28</td>\n",
       "      <td>17.157914</td>\n",
       "      <td>-23.306973</td>\n",
       "      <td>-12.461653</td>\n",
       "      <td>-2.478731</td>\n",
       "    </tr>\n",
       "    <tr>\n",
       "      <th>971</th>\n",
       "      <td>2022-08-29</td>\n",
       "      <td>18.207251</td>\n",
       "      <td>-23.725280</td>\n",
       "      <td>-12.912440</td>\n",
       "      <td>-2.664828</td>\n",
       "    </tr>\n",
       "    <tr>\n",
       "      <th>972</th>\n",
       "      <td>2022-08-30</td>\n",
       "      <td>17.968302</td>\n",
       "      <td>-21.485150</td>\n",
       "      <td>-15.044877</td>\n",
       "      <td>-4.034060</td>\n",
       "    </tr>\n",
       "    <tr>\n",
       "      <th>973</th>\n",
       "      <td>2022-08-31</td>\n",
       "      <td>18.933869</td>\n",
       "      <td>-21.587237</td>\n",
       "      <td>-16.046081</td>\n",
       "      <td>-4.014128</td>\n",
       "    </tr>\n",
       "    <tr>\n",
       "      <th>974</th>\n",
       "      <td>2022-09-01</td>\n",
       "      <td>18.337284</td>\n",
       "      <td>-21.451739</td>\n",
       "      <td>-15.028398</td>\n",
       "      <td>-4.147177</td>\n",
       "    </tr>\n",
       "    <tr>\n",
       "      <th>975</th>\n",
       "      <td>2022-09-02</td>\n",
       "      <td>18.783912</td>\n",
       "      <td>-21.096423</td>\n",
       "      <td>-15.506137</td>\n",
       "      <td>-3.858413</td>\n",
       "    </tr>\n",
       "    <tr>\n",
       "      <th>976</th>\n",
       "      <td>2022-09-03</td>\n",
       "      <td>18.828378</td>\n",
       "      <td>-19.514168</td>\n",
       "      <td>-16.924864</td>\n",
       "      <td>-2.559397</td>\n",
       "    </tr>\n",
       "    <tr>\n",
       "      <th>977</th>\n",
       "      <td>2022-09-04</td>\n",
       "      <td>18.570511</td>\n",
       "      <td>-21.482747</td>\n",
       "      <td>-17.147155</td>\n",
       "      <td>-4.267082</td>\n",
       "    </tr>\n",
       "    <tr>\n",
       "      <th>978</th>\n",
       "      <td>2022-09-05</td>\n",
       "      <td>17.212119</td>\n",
       "      <td>-22.331837</td>\n",
       "      <td>-16.496095</td>\n",
       "      <td>-5.990857</td>\n",
       "    </tr>\n",
       "    <tr>\n",
       "      <th>979</th>\n",
       "      <td>2022-09-06</td>\n",
       "      <td>15.726498</td>\n",
       "      <td>-23.219830</td>\n",
       "      <td>-19.321023</td>\n",
       "      <td>-5.281962</td>\n",
       "    </tr>\n",
       "    <tr>\n",
       "      <th>980</th>\n",
       "      <td>2022-09-07</td>\n",
       "      <td>16.053999</td>\n",
       "      <td>-22.681168</td>\n",
       "      <td>-19.139536</td>\n",
       "      <td>-5.587482</td>\n",
       "    </tr>\n",
       "    <tr>\n",
       "      <th>981</th>\n",
       "      <td>2022-09-08</td>\n",
       "      <td>17.335456</td>\n",
       "      <td>-23.320514</td>\n",
       "      <td>-21.271891</td>\n",
       "      <td>-4.048170</td>\n",
       "    </tr>\n",
       "    <tr>\n",
       "      <th>982</th>\n",
       "      <td>2022-09-09</td>\n",
       "      <td>16.925567</td>\n",
       "      <td>-24.175782</td>\n",
       "      <td>-22.318101</td>\n",
       "      <td>-4.890968</td>\n",
       "    </tr>\n",
       "    <tr>\n",
       "      <th>983</th>\n",
       "      <td>2022-09-10</td>\n",
       "      <td>18.652048</td>\n",
       "      <td>-25.436089</td>\n",
       "      <td>-22.213175</td>\n",
       "      <td>-6.330027</td>\n",
       "    </tr>\n",
       "    <tr>\n",
       "      <th>984</th>\n",
       "      <td>2022-09-11</td>\n",
       "      <td>19.535978</td>\n",
       "      <td>-25.673818</td>\n",
       "      <td>-23.064392</td>\n",
       "      <td>-5.673334</td>\n",
       "    </tr>\n",
       "    <tr>\n",
       "      <th>985</th>\n",
       "      <td>2022-09-12</td>\n",
       "      <td>19.632355</td>\n",
       "      <td>-26.369119</td>\n",
       "      <td>-22.953900</td>\n",
       "      <td>-3.463010</td>\n",
       "    </tr>\n",
       "    <tr>\n",
       "      <th>986</th>\n",
       "      <td>2022-09-13</td>\n",
       "      <td>18.792587</td>\n",
       "      <td>-25.430236</td>\n",
       "      <td>-23.672206</td>\n",
       "      <td>-2.292810</td>\n",
       "    </tr>\n",
       "    <tr>\n",
       "      <th>987</th>\n",
       "      <td>2022-09-14</td>\n",
       "      <td>21.200064</td>\n",
       "      <td>-26.299390</td>\n",
       "      <td>-23.567706</td>\n",
       "      <td>-2.753986</td>\n",
       "    </tr>\n",
       "    <tr>\n",
       "      <th>988</th>\n",
       "      <td>2022-09-15</td>\n",
       "      <td>22.890536</td>\n",
       "      <td>-27.813985</td>\n",
       "      <td>-23.938164</td>\n",
       "      <td>-3.195772</td>\n",
       "    </tr>\n",
       "    <tr>\n",
       "      <th>989</th>\n",
       "      <td>2022-09-16</td>\n",
       "      <td>23.138447</td>\n",
       "      <td>-25.855344</td>\n",
       "      <td>-24.390078</td>\n",
       "      <td>-3.612660</td>\n",
       "    </tr>\n",
       "    <tr>\n",
       "      <th>990</th>\n",
       "      <td>2022-09-17</td>\n",
       "      <td>23.163567</td>\n",
       "      <td>-26.157774</td>\n",
       "      <td>-24.309178</td>\n",
       "      <td>-3.155928</td>\n",
       "    </tr>\n",
       "    <tr>\n",
       "      <th>991</th>\n",
       "      <td>2022-09-18</td>\n",
       "      <td>20.973996</td>\n",
       "      <td>-27.319631</td>\n",
       "      <td>-22.948785</td>\n",
       "      <td>-4.487101</td>\n",
       "    </tr>\n",
       "    <tr>\n",
       "      <th>992</th>\n",
       "      <td>2022-09-19</td>\n",
       "      <td>21.090756</td>\n",
       "      <td>-26.712847</td>\n",
       "      <td>-21.722990</td>\n",
       "      <td>-4.110810</td>\n",
       "    </tr>\n",
       "    <tr>\n",
       "      <th>993</th>\n",
       "      <td>2022-09-20</td>\n",
       "      <td>21.848391</td>\n",
       "      <td>-25.018472</td>\n",
       "      <td>-21.850579</td>\n",
       "      <td>-4.360523</td>\n",
       "    </tr>\n",
       "    <tr>\n",
       "      <th>994</th>\n",
       "      <td>2022-09-21</td>\n",
       "      <td>22.898217</td>\n",
       "      <td>-26.005364</td>\n",
       "      <td>-20.914269</td>\n",
       "      <td>-5.357187</td>\n",
       "    </tr>\n",
       "    <tr>\n",
       "      <th>995</th>\n",
       "      <td>2022-09-22</td>\n",
       "      <td>21.978310</td>\n",
       "      <td>-25.001244</td>\n",
       "      <td>-20.881626</td>\n",
       "      <td>-5.606849</td>\n",
       "    </tr>\n",
       "    <tr>\n",
       "      <th>996</th>\n",
       "      <td>2022-09-23</td>\n",
       "      <td>24.132628</td>\n",
       "      <td>-25.692639</td>\n",
       "      <td>-20.310265</td>\n",
       "      <td>-6.258977</td>\n",
       "    </tr>\n",
       "    <tr>\n",
       "      <th>997</th>\n",
       "      <td>2022-09-24</td>\n",
       "      <td>23.777794</td>\n",
       "      <td>-25.485527</td>\n",
       "      <td>-21.305882</td>\n",
       "      <td>-5.330284</td>\n",
       "    </tr>\n",
       "    <tr>\n",
       "      <th>998</th>\n",
       "      <td>2022-09-25</td>\n",
       "      <td>25.105611</td>\n",
       "      <td>-25.485135</td>\n",
       "      <td>-22.407657</td>\n",
       "      <td>-6.600228</td>\n",
       "    </tr>\n",
       "    <tr>\n",
       "      <th>999</th>\n",
       "      <td>2022-09-26</td>\n",
       "      <td>25.207099</td>\n",
       "      <td>-25.512208</td>\n",
       "      <td>-23.434955</td>\n",
       "      <td>-7.275999</td>\n",
       "    </tr>\n",
       "  </tbody>\n",
       "</table>\n",
       "<p>1000 rows × 5 columns</p>\n",
       "</div>"
      ],
      "text/plain": [
       "     Unnamed: 0          A          B          C         D\n",
       "0    2020-01-01  -1.397481  -0.453722   1.374079 -2.095767\n",
       "1    2020-01-02  -1.363418   0.529293   0.178497 -2.364989\n",
       "2    2020-01-03  -2.047267  -0.333020   0.379978 -2.628204\n",
       "3    2020-01-04  -2.305870  -0.145598  -0.232491 -2.812290\n",
       "4    2020-01-05  -1.851390  -1.378215  -1.202399 -4.574516\n",
       "5    2020-01-06  -3.438928  -0.779975  -1.864979 -5.666847\n",
       "6    2020-01-07  -4.201270  -0.827366  -0.796513 -5.267628\n",
       "7    2020-01-08  -5.682762  -1.009404  -0.760801 -4.696243\n",
       "8    2020-01-09  -4.362126  -0.768552  -0.747517 -5.562345\n",
       "9    2020-01-10  -5.226357  -1.791920   0.290504 -5.214061\n",
       "10   2020-01-11  -4.429691  -2.026951  -0.821212 -6.621030\n",
       "11   2020-01-12  -4.222744  -2.875169  -0.654313 -5.926621\n",
       "12   2020-01-13  -2.413314  -3.329878  -1.595397 -5.585677\n",
       "13   2020-01-14  -2.769944  -3.536045  -1.463671 -5.098753\n",
       "14   2020-01-15  -3.599683  -4.973067  -3.859425 -5.823875\n",
       "15   2020-01-16  -3.486154  -4.792330  -2.866047 -6.312086\n",
       "16   2020-01-17  -4.232714  -5.082053  -3.572924 -8.478300\n",
       "17   2020-01-18  -5.346857  -5.787422  -4.313125 -8.595854\n",
       "18   2020-01-19  -5.720494  -5.620498  -3.699862 -9.678113\n",
       "19   2020-01-20  -5.264735  -4.938944  -2.354040 -8.942524\n",
       "20   2020-01-21  -5.407854  -5.379811  -2.284447 -8.068545\n",
       "21   2020-01-22  -5.793401  -5.501279  -2.254013 -7.997644\n",
       "22   2020-01-23  -6.796539  -4.692782  -2.330458 -7.449650\n",
       "23   2020-01-24  -7.502072  -4.085084  -1.810495 -6.540544\n",
       "24   2020-01-25  -7.639024  -3.791416   1.214301 -7.599166\n",
       "25   2020-01-26  -7.783544  -2.180918   1.628560 -7.928116\n",
       "26   2020-01-27  -7.673699  -3.485888   0.640970 -8.124872\n",
       "27   2020-01-28  -7.435098  -4.480212  -0.409425 -7.943383\n",
       "28   2020-01-29  -6.843557  -5.069680  -1.650871 -7.311741\n",
       "29   2020-01-30  -7.647267  -4.115332  -1.558887 -6.308304\n",
       "..          ...        ...        ...        ...       ...\n",
       "970  2022-08-28  17.157914 -23.306973 -12.461653 -2.478731\n",
       "971  2022-08-29  18.207251 -23.725280 -12.912440 -2.664828\n",
       "972  2022-08-30  17.968302 -21.485150 -15.044877 -4.034060\n",
       "973  2022-08-31  18.933869 -21.587237 -16.046081 -4.014128\n",
       "974  2022-09-01  18.337284 -21.451739 -15.028398 -4.147177\n",
       "975  2022-09-02  18.783912 -21.096423 -15.506137 -3.858413\n",
       "976  2022-09-03  18.828378 -19.514168 -16.924864 -2.559397\n",
       "977  2022-09-04  18.570511 -21.482747 -17.147155 -4.267082\n",
       "978  2022-09-05  17.212119 -22.331837 -16.496095 -5.990857\n",
       "979  2022-09-06  15.726498 -23.219830 -19.321023 -5.281962\n",
       "980  2022-09-07  16.053999 -22.681168 -19.139536 -5.587482\n",
       "981  2022-09-08  17.335456 -23.320514 -21.271891 -4.048170\n",
       "982  2022-09-09  16.925567 -24.175782 -22.318101 -4.890968\n",
       "983  2022-09-10  18.652048 -25.436089 -22.213175 -6.330027\n",
       "984  2022-09-11  19.535978 -25.673818 -23.064392 -5.673334\n",
       "985  2022-09-12  19.632355 -26.369119 -22.953900 -3.463010\n",
       "986  2022-09-13  18.792587 -25.430236 -23.672206 -2.292810\n",
       "987  2022-09-14  21.200064 -26.299390 -23.567706 -2.753986\n",
       "988  2022-09-15  22.890536 -27.813985 -23.938164 -3.195772\n",
       "989  2022-09-16  23.138447 -25.855344 -24.390078 -3.612660\n",
       "990  2022-09-17  23.163567 -26.157774 -24.309178 -3.155928\n",
       "991  2022-09-18  20.973996 -27.319631 -22.948785 -4.487101\n",
       "992  2022-09-19  21.090756 -26.712847 -21.722990 -4.110810\n",
       "993  2022-09-20  21.848391 -25.018472 -21.850579 -4.360523\n",
       "994  2022-09-21  22.898217 -26.005364 -20.914269 -5.357187\n",
       "995  2022-09-22  21.978310 -25.001244 -20.881626 -5.606849\n",
       "996  2022-09-23  24.132628 -25.692639 -20.310265 -6.258977\n",
       "997  2022-09-24  23.777794 -25.485527 -21.305882 -5.330284\n",
       "998  2022-09-25  25.105611 -25.485135 -22.407657 -6.600228\n",
       "999  2022-09-26  25.207099 -25.512208 -23.434955 -7.275999\n",
       "\n",
       "[1000 rows x 5 columns]"
      ]
     },
     "execution_count": 298,
     "metadata": {},
     "output_type": "execute_result"
    }
   ],
   "source": [
    "pd.read_csv('foo.csv')"
   ]
  },
  {
   "cell_type": "markdown",
   "metadata": {},
   "source": [
    "### 0x0E-2 HDF5\n",
    "\n",
    "**写入 HDF5 存储**"
   ]
  },
  {
   "cell_type": "code",
   "execution_count": 299,
   "metadata": {},
   "outputs": [],
   "source": [
    "df.to_hdf('foo.h5','df')"
   ]
  },
  {
   "cell_type": "markdown",
   "metadata": {},
   "source": [
    "**从 HDF5 存储中读取数据**"
   ]
  },
  {
   "cell_type": "code",
   "execution_count": 300,
   "metadata": {
    "scrolled": true
   },
   "outputs": [
    {
     "data": {
      "text/html": [
       "<div>\n",
       "<style scoped>\n",
       "    .dataframe tbody tr th:only-of-type {\n",
       "        vertical-align: middle;\n",
       "    }\n",
       "\n",
       "    .dataframe tbody tr th {\n",
       "        vertical-align: top;\n",
       "    }\n",
       "\n",
       "    .dataframe thead th {\n",
       "        text-align: right;\n",
       "    }\n",
       "</style>\n",
       "<table border=\"1\" class=\"dataframe\">\n",
       "  <thead>\n",
       "    <tr style=\"text-align: right;\">\n",
       "      <th></th>\n",
       "      <th>A</th>\n",
       "      <th>B</th>\n",
       "      <th>C</th>\n",
       "      <th>D</th>\n",
       "    </tr>\n",
       "  </thead>\n",
       "  <tbody>\n",
       "    <tr>\n",
       "      <th>2020-01-01</th>\n",
       "      <td>-1.397481</td>\n",
       "      <td>-0.453722</td>\n",
       "      <td>1.374079</td>\n",
       "      <td>-2.095767</td>\n",
       "    </tr>\n",
       "    <tr>\n",
       "      <th>2020-01-02</th>\n",
       "      <td>-1.363418</td>\n",
       "      <td>0.529293</td>\n",
       "      <td>0.178497</td>\n",
       "      <td>-2.364989</td>\n",
       "    </tr>\n",
       "    <tr>\n",
       "      <th>2020-01-03</th>\n",
       "      <td>-2.047267</td>\n",
       "      <td>-0.333020</td>\n",
       "      <td>0.379978</td>\n",
       "      <td>-2.628204</td>\n",
       "    </tr>\n",
       "    <tr>\n",
       "      <th>2020-01-04</th>\n",
       "      <td>-2.305870</td>\n",
       "      <td>-0.145598</td>\n",
       "      <td>-0.232491</td>\n",
       "      <td>-2.812290</td>\n",
       "    </tr>\n",
       "    <tr>\n",
       "      <th>2020-01-05</th>\n",
       "      <td>-1.851390</td>\n",
       "      <td>-1.378215</td>\n",
       "      <td>-1.202399</td>\n",
       "      <td>-4.574516</td>\n",
       "    </tr>\n",
       "    <tr>\n",
       "      <th>2020-01-06</th>\n",
       "      <td>-3.438928</td>\n",
       "      <td>-0.779975</td>\n",
       "      <td>-1.864979</td>\n",
       "      <td>-5.666847</td>\n",
       "    </tr>\n",
       "    <tr>\n",
       "      <th>2020-01-07</th>\n",
       "      <td>-4.201270</td>\n",
       "      <td>-0.827366</td>\n",
       "      <td>-0.796513</td>\n",
       "      <td>-5.267628</td>\n",
       "    </tr>\n",
       "    <tr>\n",
       "      <th>2020-01-08</th>\n",
       "      <td>-5.682762</td>\n",
       "      <td>-1.009404</td>\n",
       "      <td>-0.760801</td>\n",
       "      <td>-4.696243</td>\n",
       "    </tr>\n",
       "    <tr>\n",
       "      <th>2020-01-09</th>\n",
       "      <td>-4.362126</td>\n",
       "      <td>-0.768552</td>\n",
       "      <td>-0.747517</td>\n",
       "      <td>-5.562345</td>\n",
       "    </tr>\n",
       "    <tr>\n",
       "      <th>2020-01-10</th>\n",
       "      <td>-5.226357</td>\n",
       "      <td>-1.791920</td>\n",
       "      <td>0.290504</td>\n",
       "      <td>-5.214061</td>\n",
       "    </tr>\n",
       "    <tr>\n",
       "      <th>2020-01-11</th>\n",
       "      <td>-4.429691</td>\n",
       "      <td>-2.026951</td>\n",
       "      <td>-0.821212</td>\n",
       "      <td>-6.621030</td>\n",
       "    </tr>\n",
       "    <tr>\n",
       "      <th>2020-01-12</th>\n",
       "      <td>-4.222744</td>\n",
       "      <td>-2.875169</td>\n",
       "      <td>-0.654313</td>\n",
       "      <td>-5.926621</td>\n",
       "    </tr>\n",
       "    <tr>\n",
       "      <th>2020-01-13</th>\n",
       "      <td>-2.413314</td>\n",
       "      <td>-3.329878</td>\n",
       "      <td>-1.595397</td>\n",
       "      <td>-5.585677</td>\n",
       "    </tr>\n",
       "    <tr>\n",
       "      <th>2020-01-14</th>\n",
       "      <td>-2.769944</td>\n",
       "      <td>-3.536045</td>\n",
       "      <td>-1.463671</td>\n",
       "      <td>-5.098753</td>\n",
       "    </tr>\n",
       "    <tr>\n",
       "      <th>2020-01-15</th>\n",
       "      <td>-3.599683</td>\n",
       "      <td>-4.973067</td>\n",
       "      <td>-3.859425</td>\n",
       "      <td>-5.823875</td>\n",
       "    </tr>\n",
       "    <tr>\n",
       "      <th>2020-01-16</th>\n",
       "      <td>-3.486154</td>\n",
       "      <td>-4.792330</td>\n",
       "      <td>-2.866047</td>\n",
       "      <td>-6.312086</td>\n",
       "    </tr>\n",
       "    <tr>\n",
       "      <th>2020-01-17</th>\n",
       "      <td>-4.232714</td>\n",
       "      <td>-5.082053</td>\n",
       "      <td>-3.572924</td>\n",
       "      <td>-8.478300</td>\n",
       "    </tr>\n",
       "    <tr>\n",
       "      <th>2020-01-18</th>\n",
       "      <td>-5.346857</td>\n",
       "      <td>-5.787422</td>\n",
       "      <td>-4.313125</td>\n",
       "      <td>-8.595854</td>\n",
       "    </tr>\n",
       "    <tr>\n",
       "      <th>2020-01-19</th>\n",
       "      <td>-5.720494</td>\n",
       "      <td>-5.620498</td>\n",
       "      <td>-3.699862</td>\n",
       "      <td>-9.678113</td>\n",
       "    </tr>\n",
       "    <tr>\n",
       "      <th>2020-01-20</th>\n",
       "      <td>-5.264735</td>\n",
       "      <td>-4.938944</td>\n",
       "      <td>-2.354040</td>\n",
       "      <td>-8.942524</td>\n",
       "    </tr>\n",
       "    <tr>\n",
       "      <th>2020-01-21</th>\n",
       "      <td>-5.407854</td>\n",
       "      <td>-5.379811</td>\n",
       "      <td>-2.284447</td>\n",
       "      <td>-8.068545</td>\n",
       "    </tr>\n",
       "    <tr>\n",
       "      <th>2020-01-22</th>\n",
       "      <td>-5.793401</td>\n",
       "      <td>-5.501279</td>\n",
       "      <td>-2.254013</td>\n",
       "      <td>-7.997644</td>\n",
       "    </tr>\n",
       "    <tr>\n",
       "      <th>2020-01-23</th>\n",
       "      <td>-6.796539</td>\n",
       "      <td>-4.692782</td>\n",
       "      <td>-2.330458</td>\n",
       "      <td>-7.449650</td>\n",
       "    </tr>\n",
       "    <tr>\n",
       "      <th>2020-01-24</th>\n",
       "      <td>-7.502072</td>\n",
       "      <td>-4.085084</td>\n",
       "      <td>-1.810495</td>\n",
       "      <td>-6.540544</td>\n",
       "    </tr>\n",
       "    <tr>\n",
       "      <th>2020-01-25</th>\n",
       "      <td>-7.639024</td>\n",
       "      <td>-3.791416</td>\n",
       "      <td>1.214301</td>\n",
       "      <td>-7.599166</td>\n",
       "    </tr>\n",
       "    <tr>\n",
       "      <th>2020-01-26</th>\n",
       "      <td>-7.783544</td>\n",
       "      <td>-2.180918</td>\n",
       "      <td>1.628560</td>\n",
       "      <td>-7.928116</td>\n",
       "    </tr>\n",
       "    <tr>\n",
       "      <th>2020-01-27</th>\n",
       "      <td>-7.673699</td>\n",
       "      <td>-3.485888</td>\n",
       "      <td>0.640970</td>\n",
       "      <td>-8.124872</td>\n",
       "    </tr>\n",
       "    <tr>\n",
       "      <th>2020-01-28</th>\n",
       "      <td>-7.435098</td>\n",
       "      <td>-4.480212</td>\n",
       "      <td>-0.409425</td>\n",
       "      <td>-7.943383</td>\n",
       "    </tr>\n",
       "    <tr>\n",
       "      <th>2020-01-29</th>\n",
       "      <td>-6.843557</td>\n",
       "      <td>-5.069680</td>\n",
       "      <td>-1.650871</td>\n",
       "      <td>-7.311741</td>\n",
       "    </tr>\n",
       "    <tr>\n",
       "      <th>2020-01-30</th>\n",
       "      <td>-7.647267</td>\n",
       "      <td>-4.115332</td>\n",
       "      <td>-1.558887</td>\n",
       "      <td>-6.308304</td>\n",
       "    </tr>\n",
       "    <tr>\n",
       "      <th>...</th>\n",
       "      <td>...</td>\n",
       "      <td>...</td>\n",
       "      <td>...</td>\n",
       "      <td>...</td>\n",
       "    </tr>\n",
       "    <tr>\n",
       "      <th>2022-08-28</th>\n",
       "      <td>17.157914</td>\n",
       "      <td>-23.306973</td>\n",
       "      <td>-12.461653</td>\n",
       "      <td>-2.478731</td>\n",
       "    </tr>\n",
       "    <tr>\n",
       "      <th>2022-08-29</th>\n",
       "      <td>18.207251</td>\n",
       "      <td>-23.725280</td>\n",
       "      <td>-12.912440</td>\n",
       "      <td>-2.664828</td>\n",
       "    </tr>\n",
       "    <tr>\n",
       "      <th>2022-08-30</th>\n",
       "      <td>17.968302</td>\n",
       "      <td>-21.485150</td>\n",
       "      <td>-15.044877</td>\n",
       "      <td>-4.034060</td>\n",
       "    </tr>\n",
       "    <tr>\n",
       "      <th>2022-08-31</th>\n",
       "      <td>18.933869</td>\n",
       "      <td>-21.587237</td>\n",
       "      <td>-16.046081</td>\n",
       "      <td>-4.014128</td>\n",
       "    </tr>\n",
       "    <tr>\n",
       "      <th>2022-09-01</th>\n",
       "      <td>18.337284</td>\n",
       "      <td>-21.451739</td>\n",
       "      <td>-15.028398</td>\n",
       "      <td>-4.147177</td>\n",
       "    </tr>\n",
       "    <tr>\n",
       "      <th>2022-09-02</th>\n",
       "      <td>18.783912</td>\n",
       "      <td>-21.096423</td>\n",
       "      <td>-15.506137</td>\n",
       "      <td>-3.858413</td>\n",
       "    </tr>\n",
       "    <tr>\n",
       "      <th>2022-09-03</th>\n",
       "      <td>18.828378</td>\n",
       "      <td>-19.514168</td>\n",
       "      <td>-16.924864</td>\n",
       "      <td>-2.559397</td>\n",
       "    </tr>\n",
       "    <tr>\n",
       "      <th>2022-09-04</th>\n",
       "      <td>18.570511</td>\n",
       "      <td>-21.482747</td>\n",
       "      <td>-17.147155</td>\n",
       "      <td>-4.267082</td>\n",
       "    </tr>\n",
       "    <tr>\n",
       "      <th>2022-09-05</th>\n",
       "      <td>17.212119</td>\n",
       "      <td>-22.331837</td>\n",
       "      <td>-16.496095</td>\n",
       "      <td>-5.990857</td>\n",
       "    </tr>\n",
       "    <tr>\n",
       "      <th>2022-09-06</th>\n",
       "      <td>15.726498</td>\n",
       "      <td>-23.219830</td>\n",
       "      <td>-19.321023</td>\n",
       "      <td>-5.281962</td>\n",
       "    </tr>\n",
       "    <tr>\n",
       "      <th>2022-09-07</th>\n",
       "      <td>16.053999</td>\n",
       "      <td>-22.681168</td>\n",
       "      <td>-19.139536</td>\n",
       "      <td>-5.587482</td>\n",
       "    </tr>\n",
       "    <tr>\n",
       "      <th>2022-09-08</th>\n",
       "      <td>17.335456</td>\n",
       "      <td>-23.320514</td>\n",
       "      <td>-21.271891</td>\n",
       "      <td>-4.048170</td>\n",
       "    </tr>\n",
       "    <tr>\n",
       "      <th>2022-09-09</th>\n",
       "      <td>16.925567</td>\n",
       "      <td>-24.175782</td>\n",
       "      <td>-22.318101</td>\n",
       "      <td>-4.890968</td>\n",
       "    </tr>\n",
       "    <tr>\n",
       "      <th>2022-09-10</th>\n",
       "      <td>18.652048</td>\n",
       "      <td>-25.436089</td>\n",
       "      <td>-22.213175</td>\n",
       "      <td>-6.330027</td>\n",
       "    </tr>\n",
       "    <tr>\n",
       "      <th>2022-09-11</th>\n",
       "      <td>19.535978</td>\n",
       "      <td>-25.673818</td>\n",
       "      <td>-23.064392</td>\n",
       "      <td>-5.673334</td>\n",
       "    </tr>\n",
       "    <tr>\n",
       "      <th>2022-09-12</th>\n",
       "      <td>19.632355</td>\n",
       "      <td>-26.369119</td>\n",
       "      <td>-22.953900</td>\n",
       "      <td>-3.463010</td>\n",
       "    </tr>\n",
       "    <tr>\n",
       "      <th>2022-09-13</th>\n",
       "      <td>18.792587</td>\n",
       "      <td>-25.430236</td>\n",
       "      <td>-23.672206</td>\n",
       "      <td>-2.292810</td>\n",
       "    </tr>\n",
       "    <tr>\n",
       "      <th>2022-09-14</th>\n",
       "      <td>21.200064</td>\n",
       "      <td>-26.299390</td>\n",
       "      <td>-23.567706</td>\n",
       "      <td>-2.753986</td>\n",
       "    </tr>\n",
       "    <tr>\n",
       "      <th>2022-09-15</th>\n",
       "      <td>22.890536</td>\n",
       "      <td>-27.813985</td>\n",
       "      <td>-23.938164</td>\n",
       "      <td>-3.195772</td>\n",
       "    </tr>\n",
       "    <tr>\n",
       "      <th>2022-09-16</th>\n",
       "      <td>23.138447</td>\n",
       "      <td>-25.855344</td>\n",
       "      <td>-24.390078</td>\n",
       "      <td>-3.612660</td>\n",
       "    </tr>\n",
       "    <tr>\n",
       "      <th>2022-09-17</th>\n",
       "      <td>23.163567</td>\n",
       "      <td>-26.157774</td>\n",
       "      <td>-24.309178</td>\n",
       "      <td>-3.155928</td>\n",
       "    </tr>\n",
       "    <tr>\n",
       "      <th>2022-09-18</th>\n",
       "      <td>20.973996</td>\n",
       "      <td>-27.319631</td>\n",
       "      <td>-22.948785</td>\n",
       "      <td>-4.487101</td>\n",
       "    </tr>\n",
       "    <tr>\n",
       "      <th>2022-09-19</th>\n",
       "      <td>21.090756</td>\n",
       "      <td>-26.712847</td>\n",
       "      <td>-21.722990</td>\n",
       "      <td>-4.110810</td>\n",
       "    </tr>\n",
       "    <tr>\n",
       "      <th>2022-09-20</th>\n",
       "      <td>21.848391</td>\n",
       "      <td>-25.018472</td>\n",
       "      <td>-21.850579</td>\n",
       "      <td>-4.360523</td>\n",
       "    </tr>\n",
       "    <tr>\n",
       "      <th>2022-09-21</th>\n",
       "      <td>22.898217</td>\n",
       "      <td>-26.005364</td>\n",
       "      <td>-20.914269</td>\n",
       "      <td>-5.357187</td>\n",
       "    </tr>\n",
       "    <tr>\n",
       "      <th>2022-09-22</th>\n",
       "      <td>21.978310</td>\n",
       "      <td>-25.001244</td>\n",
       "      <td>-20.881626</td>\n",
       "      <td>-5.606849</td>\n",
       "    </tr>\n",
       "    <tr>\n",
       "      <th>2022-09-23</th>\n",
       "      <td>24.132628</td>\n",
       "      <td>-25.692639</td>\n",
       "      <td>-20.310265</td>\n",
       "      <td>-6.258977</td>\n",
       "    </tr>\n",
       "    <tr>\n",
       "      <th>2022-09-24</th>\n",
       "      <td>23.777794</td>\n",
       "      <td>-25.485527</td>\n",
       "      <td>-21.305882</td>\n",
       "      <td>-5.330284</td>\n",
       "    </tr>\n",
       "    <tr>\n",
       "      <th>2022-09-25</th>\n",
       "      <td>25.105611</td>\n",
       "      <td>-25.485135</td>\n",
       "      <td>-22.407657</td>\n",
       "      <td>-6.600228</td>\n",
       "    </tr>\n",
       "    <tr>\n",
       "      <th>2022-09-26</th>\n",
       "      <td>25.207099</td>\n",
       "      <td>-25.512208</td>\n",
       "      <td>-23.434955</td>\n",
       "      <td>-7.275999</td>\n",
       "    </tr>\n",
       "  </tbody>\n",
       "</table>\n",
       "<p>1000 rows × 4 columns</p>\n",
       "</div>"
      ],
      "text/plain": [
       "                    A          B          C         D\n",
       "2020-01-01  -1.397481  -0.453722   1.374079 -2.095767\n",
       "2020-01-02  -1.363418   0.529293   0.178497 -2.364989\n",
       "2020-01-03  -2.047267  -0.333020   0.379978 -2.628204\n",
       "2020-01-04  -2.305870  -0.145598  -0.232491 -2.812290\n",
       "2020-01-05  -1.851390  -1.378215  -1.202399 -4.574516\n",
       "2020-01-06  -3.438928  -0.779975  -1.864979 -5.666847\n",
       "2020-01-07  -4.201270  -0.827366  -0.796513 -5.267628\n",
       "2020-01-08  -5.682762  -1.009404  -0.760801 -4.696243\n",
       "2020-01-09  -4.362126  -0.768552  -0.747517 -5.562345\n",
       "2020-01-10  -5.226357  -1.791920   0.290504 -5.214061\n",
       "2020-01-11  -4.429691  -2.026951  -0.821212 -6.621030\n",
       "2020-01-12  -4.222744  -2.875169  -0.654313 -5.926621\n",
       "2020-01-13  -2.413314  -3.329878  -1.595397 -5.585677\n",
       "2020-01-14  -2.769944  -3.536045  -1.463671 -5.098753\n",
       "2020-01-15  -3.599683  -4.973067  -3.859425 -5.823875\n",
       "2020-01-16  -3.486154  -4.792330  -2.866047 -6.312086\n",
       "2020-01-17  -4.232714  -5.082053  -3.572924 -8.478300\n",
       "2020-01-18  -5.346857  -5.787422  -4.313125 -8.595854\n",
       "2020-01-19  -5.720494  -5.620498  -3.699862 -9.678113\n",
       "2020-01-20  -5.264735  -4.938944  -2.354040 -8.942524\n",
       "2020-01-21  -5.407854  -5.379811  -2.284447 -8.068545\n",
       "2020-01-22  -5.793401  -5.501279  -2.254013 -7.997644\n",
       "2020-01-23  -6.796539  -4.692782  -2.330458 -7.449650\n",
       "2020-01-24  -7.502072  -4.085084  -1.810495 -6.540544\n",
       "2020-01-25  -7.639024  -3.791416   1.214301 -7.599166\n",
       "2020-01-26  -7.783544  -2.180918   1.628560 -7.928116\n",
       "2020-01-27  -7.673699  -3.485888   0.640970 -8.124872\n",
       "2020-01-28  -7.435098  -4.480212  -0.409425 -7.943383\n",
       "2020-01-29  -6.843557  -5.069680  -1.650871 -7.311741\n",
       "2020-01-30  -7.647267  -4.115332  -1.558887 -6.308304\n",
       "...               ...        ...        ...       ...\n",
       "2022-08-28  17.157914 -23.306973 -12.461653 -2.478731\n",
       "2022-08-29  18.207251 -23.725280 -12.912440 -2.664828\n",
       "2022-08-30  17.968302 -21.485150 -15.044877 -4.034060\n",
       "2022-08-31  18.933869 -21.587237 -16.046081 -4.014128\n",
       "2022-09-01  18.337284 -21.451739 -15.028398 -4.147177\n",
       "2022-09-02  18.783912 -21.096423 -15.506137 -3.858413\n",
       "2022-09-03  18.828378 -19.514168 -16.924864 -2.559397\n",
       "2022-09-04  18.570511 -21.482747 -17.147155 -4.267082\n",
       "2022-09-05  17.212119 -22.331837 -16.496095 -5.990857\n",
       "2022-09-06  15.726498 -23.219830 -19.321023 -5.281962\n",
       "2022-09-07  16.053999 -22.681168 -19.139536 -5.587482\n",
       "2022-09-08  17.335456 -23.320514 -21.271891 -4.048170\n",
       "2022-09-09  16.925567 -24.175782 -22.318101 -4.890968\n",
       "2022-09-10  18.652048 -25.436089 -22.213175 -6.330027\n",
       "2022-09-11  19.535978 -25.673818 -23.064392 -5.673334\n",
       "2022-09-12  19.632355 -26.369119 -22.953900 -3.463010\n",
       "2022-09-13  18.792587 -25.430236 -23.672206 -2.292810\n",
       "2022-09-14  21.200064 -26.299390 -23.567706 -2.753986\n",
       "2022-09-15  22.890536 -27.813985 -23.938164 -3.195772\n",
       "2022-09-16  23.138447 -25.855344 -24.390078 -3.612660\n",
       "2022-09-17  23.163567 -26.157774 -24.309178 -3.155928\n",
       "2022-09-18  20.973996 -27.319631 -22.948785 -4.487101\n",
       "2022-09-19  21.090756 -26.712847 -21.722990 -4.110810\n",
       "2022-09-20  21.848391 -25.018472 -21.850579 -4.360523\n",
       "2022-09-21  22.898217 -26.005364 -20.914269 -5.357187\n",
       "2022-09-22  21.978310 -25.001244 -20.881626 -5.606849\n",
       "2022-09-23  24.132628 -25.692639 -20.310265 -6.258977\n",
       "2022-09-24  23.777794 -25.485527 -21.305882 -5.330284\n",
       "2022-09-25  25.105611 -25.485135 -22.407657 -6.600228\n",
       "2022-09-26  25.207099 -25.512208 -23.434955 -7.275999\n",
       "\n",
       "[1000 rows x 4 columns]"
      ]
     },
     "execution_count": 300,
     "metadata": {},
     "output_type": "execute_result"
    }
   ],
   "source": [
    "pd.read_hdf('foo.h5','df')"
   ]
  },
  {
   "cell_type": "markdown",
   "metadata": {},
   "source": [
    "### 0x0E-3 Excel\n",
    "\n",
    "看网上说，相对于 xlwt、xlrd 之类的库，用 pandas 来对 excel 进行**数据处理和分析**挺不错的，正好最近也想试试呢。"
   ]
  },
  {
   "cell_type": "markdown",
   "metadata": {},
   "source": [
    "**写入 Excel**"
   ]
  },
  {
   "cell_type": "code",
   "execution_count": 301,
   "metadata": {},
   "outputs": [],
   "source": [
    "df.to_excel('foo.xlsx', sheet_name='Sheet1')"
   ]
  },
  {
   "cell_type": "markdown",
   "metadata": {},
   "source": [
    "**从 excel 中读取数据**"
   ]
  },
  {
   "cell_type": "code",
   "execution_count": 302,
   "metadata": {
    "scrolled": true
   },
   "outputs": [
    {
     "data": {
      "text/html": [
       "<div>\n",
       "<style scoped>\n",
       "    .dataframe tbody tr th:only-of-type {\n",
       "        vertical-align: middle;\n",
       "    }\n",
       "\n",
       "    .dataframe tbody tr th {\n",
       "        vertical-align: top;\n",
       "    }\n",
       "\n",
       "    .dataframe thead th {\n",
       "        text-align: right;\n",
       "    }\n",
       "</style>\n",
       "<table border=\"1\" class=\"dataframe\">\n",
       "  <thead>\n",
       "    <tr style=\"text-align: right;\">\n",
       "      <th></th>\n",
       "      <th>Unnamed: 0</th>\n",
       "      <th>A</th>\n",
       "      <th>B</th>\n",
       "      <th>C</th>\n",
       "      <th>D</th>\n",
       "    </tr>\n",
       "  </thead>\n",
       "  <tbody>\n",
       "    <tr>\n",
       "      <th>0</th>\n",
       "      <td>2020-01-01</td>\n",
       "      <td>-1.397481</td>\n",
       "      <td>-0.453722</td>\n",
       "      <td>1.374079</td>\n",
       "      <td>-2.095767</td>\n",
       "    </tr>\n",
       "    <tr>\n",
       "      <th>1</th>\n",
       "      <td>2020-01-02</td>\n",
       "      <td>-1.363418</td>\n",
       "      <td>0.529293</td>\n",
       "      <td>0.178497</td>\n",
       "      <td>-2.364989</td>\n",
       "    </tr>\n",
       "    <tr>\n",
       "      <th>2</th>\n",
       "      <td>2020-01-03</td>\n",
       "      <td>-2.047267</td>\n",
       "      <td>-0.333020</td>\n",
       "      <td>0.379978</td>\n",
       "      <td>-2.628204</td>\n",
       "    </tr>\n",
       "    <tr>\n",
       "      <th>3</th>\n",
       "      <td>2020-01-04</td>\n",
       "      <td>-2.305870</td>\n",
       "      <td>-0.145598</td>\n",
       "      <td>-0.232491</td>\n",
       "      <td>-2.812290</td>\n",
       "    </tr>\n",
       "    <tr>\n",
       "      <th>4</th>\n",
       "      <td>2020-01-05</td>\n",
       "      <td>-1.851390</td>\n",
       "      <td>-1.378215</td>\n",
       "      <td>-1.202399</td>\n",
       "      <td>-4.574516</td>\n",
       "    </tr>\n",
       "    <tr>\n",
       "      <th>5</th>\n",
       "      <td>2020-01-06</td>\n",
       "      <td>-3.438928</td>\n",
       "      <td>-0.779975</td>\n",
       "      <td>-1.864979</td>\n",
       "      <td>-5.666847</td>\n",
       "    </tr>\n",
       "    <tr>\n",
       "      <th>6</th>\n",
       "      <td>2020-01-07</td>\n",
       "      <td>-4.201270</td>\n",
       "      <td>-0.827366</td>\n",
       "      <td>-0.796513</td>\n",
       "      <td>-5.267628</td>\n",
       "    </tr>\n",
       "    <tr>\n",
       "      <th>7</th>\n",
       "      <td>2020-01-08</td>\n",
       "      <td>-5.682762</td>\n",
       "      <td>-1.009404</td>\n",
       "      <td>-0.760801</td>\n",
       "      <td>-4.696243</td>\n",
       "    </tr>\n",
       "    <tr>\n",
       "      <th>8</th>\n",
       "      <td>2020-01-09</td>\n",
       "      <td>-4.362126</td>\n",
       "      <td>-0.768552</td>\n",
       "      <td>-0.747517</td>\n",
       "      <td>-5.562345</td>\n",
       "    </tr>\n",
       "    <tr>\n",
       "      <th>9</th>\n",
       "      <td>2020-01-10</td>\n",
       "      <td>-5.226357</td>\n",
       "      <td>-1.791920</td>\n",
       "      <td>0.290504</td>\n",
       "      <td>-5.214061</td>\n",
       "    </tr>\n",
       "    <tr>\n",
       "      <th>10</th>\n",
       "      <td>2020-01-11</td>\n",
       "      <td>-4.429691</td>\n",
       "      <td>-2.026951</td>\n",
       "      <td>-0.821212</td>\n",
       "      <td>-6.621030</td>\n",
       "    </tr>\n",
       "    <tr>\n",
       "      <th>11</th>\n",
       "      <td>2020-01-12</td>\n",
       "      <td>-4.222744</td>\n",
       "      <td>-2.875169</td>\n",
       "      <td>-0.654313</td>\n",
       "      <td>-5.926621</td>\n",
       "    </tr>\n",
       "    <tr>\n",
       "      <th>12</th>\n",
       "      <td>2020-01-13</td>\n",
       "      <td>-2.413314</td>\n",
       "      <td>-3.329878</td>\n",
       "      <td>-1.595397</td>\n",
       "      <td>-5.585677</td>\n",
       "    </tr>\n",
       "    <tr>\n",
       "      <th>13</th>\n",
       "      <td>2020-01-14</td>\n",
       "      <td>-2.769944</td>\n",
       "      <td>-3.536045</td>\n",
       "      <td>-1.463671</td>\n",
       "      <td>-5.098753</td>\n",
       "    </tr>\n",
       "    <tr>\n",
       "      <th>14</th>\n",
       "      <td>2020-01-15</td>\n",
       "      <td>-3.599683</td>\n",
       "      <td>-4.973067</td>\n",
       "      <td>-3.859425</td>\n",
       "      <td>-5.823875</td>\n",
       "    </tr>\n",
       "    <tr>\n",
       "      <th>15</th>\n",
       "      <td>2020-01-16</td>\n",
       "      <td>-3.486154</td>\n",
       "      <td>-4.792330</td>\n",
       "      <td>-2.866047</td>\n",
       "      <td>-6.312086</td>\n",
       "    </tr>\n",
       "    <tr>\n",
       "      <th>16</th>\n",
       "      <td>2020-01-17</td>\n",
       "      <td>-4.232714</td>\n",
       "      <td>-5.082053</td>\n",
       "      <td>-3.572924</td>\n",
       "      <td>-8.478300</td>\n",
       "    </tr>\n",
       "    <tr>\n",
       "      <th>17</th>\n",
       "      <td>2020-01-18</td>\n",
       "      <td>-5.346857</td>\n",
       "      <td>-5.787422</td>\n",
       "      <td>-4.313125</td>\n",
       "      <td>-8.595854</td>\n",
       "    </tr>\n",
       "    <tr>\n",
       "      <th>18</th>\n",
       "      <td>2020-01-19</td>\n",
       "      <td>-5.720494</td>\n",
       "      <td>-5.620498</td>\n",
       "      <td>-3.699862</td>\n",
       "      <td>-9.678113</td>\n",
       "    </tr>\n",
       "    <tr>\n",
       "      <th>19</th>\n",
       "      <td>2020-01-20</td>\n",
       "      <td>-5.264735</td>\n",
       "      <td>-4.938944</td>\n",
       "      <td>-2.354040</td>\n",
       "      <td>-8.942524</td>\n",
       "    </tr>\n",
       "    <tr>\n",
       "      <th>20</th>\n",
       "      <td>2020-01-21</td>\n",
       "      <td>-5.407854</td>\n",
       "      <td>-5.379811</td>\n",
       "      <td>-2.284447</td>\n",
       "      <td>-8.068545</td>\n",
       "    </tr>\n",
       "    <tr>\n",
       "      <th>21</th>\n",
       "      <td>2020-01-22</td>\n",
       "      <td>-5.793401</td>\n",
       "      <td>-5.501279</td>\n",
       "      <td>-2.254013</td>\n",
       "      <td>-7.997644</td>\n",
       "    </tr>\n",
       "    <tr>\n",
       "      <th>22</th>\n",
       "      <td>2020-01-23</td>\n",
       "      <td>-6.796539</td>\n",
       "      <td>-4.692782</td>\n",
       "      <td>-2.330458</td>\n",
       "      <td>-7.449650</td>\n",
       "    </tr>\n",
       "    <tr>\n",
       "      <th>23</th>\n",
       "      <td>2020-01-24</td>\n",
       "      <td>-7.502072</td>\n",
       "      <td>-4.085084</td>\n",
       "      <td>-1.810495</td>\n",
       "      <td>-6.540544</td>\n",
       "    </tr>\n",
       "    <tr>\n",
       "      <th>24</th>\n",
       "      <td>2020-01-25</td>\n",
       "      <td>-7.639024</td>\n",
       "      <td>-3.791416</td>\n",
       "      <td>1.214301</td>\n",
       "      <td>-7.599166</td>\n",
       "    </tr>\n",
       "    <tr>\n",
       "      <th>25</th>\n",
       "      <td>2020-01-26</td>\n",
       "      <td>-7.783544</td>\n",
       "      <td>-2.180918</td>\n",
       "      <td>1.628560</td>\n",
       "      <td>-7.928116</td>\n",
       "    </tr>\n",
       "    <tr>\n",
       "      <th>26</th>\n",
       "      <td>2020-01-27</td>\n",
       "      <td>-7.673699</td>\n",
       "      <td>-3.485888</td>\n",
       "      <td>0.640970</td>\n",
       "      <td>-8.124872</td>\n",
       "    </tr>\n",
       "    <tr>\n",
       "      <th>27</th>\n",
       "      <td>2020-01-28</td>\n",
       "      <td>-7.435098</td>\n",
       "      <td>-4.480212</td>\n",
       "      <td>-0.409425</td>\n",
       "      <td>-7.943383</td>\n",
       "    </tr>\n",
       "    <tr>\n",
       "      <th>28</th>\n",
       "      <td>2020-01-29</td>\n",
       "      <td>-6.843557</td>\n",
       "      <td>-5.069680</td>\n",
       "      <td>-1.650871</td>\n",
       "      <td>-7.311741</td>\n",
       "    </tr>\n",
       "    <tr>\n",
       "      <th>29</th>\n",
       "      <td>2020-01-30</td>\n",
       "      <td>-7.647267</td>\n",
       "      <td>-4.115332</td>\n",
       "      <td>-1.558887</td>\n",
       "      <td>-6.308304</td>\n",
       "    </tr>\n",
       "    <tr>\n",
       "      <th>...</th>\n",
       "      <td>...</td>\n",
       "      <td>...</td>\n",
       "      <td>...</td>\n",
       "      <td>...</td>\n",
       "      <td>...</td>\n",
       "    </tr>\n",
       "    <tr>\n",
       "      <th>970</th>\n",
       "      <td>2022-08-28</td>\n",
       "      <td>17.157914</td>\n",
       "      <td>-23.306973</td>\n",
       "      <td>-12.461653</td>\n",
       "      <td>-2.478731</td>\n",
       "    </tr>\n",
       "    <tr>\n",
       "      <th>971</th>\n",
       "      <td>2022-08-29</td>\n",
       "      <td>18.207251</td>\n",
       "      <td>-23.725280</td>\n",
       "      <td>-12.912440</td>\n",
       "      <td>-2.664828</td>\n",
       "    </tr>\n",
       "    <tr>\n",
       "      <th>972</th>\n",
       "      <td>2022-08-30</td>\n",
       "      <td>17.968302</td>\n",
       "      <td>-21.485150</td>\n",
       "      <td>-15.044877</td>\n",
       "      <td>-4.034060</td>\n",
       "    </tr>\n",
       "    <tr>\n",
       "      <th>973</th>\n",
       "      <td>2022-08-31</td>\n",
       "      <td>18.933869</td>\n",
       "      <td>-21.587237</td>\n",
       "      <td>-16.046081</td>\n",
       "      <td>-4.014128</td>\n",
       "    </tr>\n",
       "    <tr>\n",
       "      <th>974</th>\n",
       "      <td>2022-09-01</td>\n",
       "      <td>18.337284</td>\n",
       "      <td>-21.451739</td>\n",
       "      <td>-15.028398</td>\n",
       "      <td>-4.147177</td>\n",
       "    </tr>\n",
       "    <tr>\n",
       "      <th>975</th>\n",
       "      <td>2022-09-02</td>\n",
       "      <td>18.783912</td>\n",
       "      <td>-21.096423</td>\n",
       "      <td>-15.506137</td>\n",
       "      <td>-3.858413</td>\n",
       "    </tr>\n",
       "    <tr>\n",
       "      <th>976</th>\n",
       "      <td>2022-09-03</td>\n",
       "      <td>18.828378</td>\n",
       "      <td>-19.514168</td>\n",
       "      <td>-16.924864</td>\n",
       "      <td>-2.559397</td>\n",
       "    </tr>\n",
       "    <tr>\n",
       "      <th>977</th>\n",
       "      <td>2022-09-04</td>\n",
       "      <td>18.570511</td>\n",
       "      <td>-21.482747</td>\n",
       "      <td>-17.147155</td>\n",
       "      <td>-4.267082</td>\n",
       "    </tr>\n",
       "    <tr>\n",
       "      <th>978</th>\n",
       "      <td>2022-09-05</td>\n",
       "      <td>17.212119</td>\n",
       "      <td>-22.331837</td>\n",
       "      <td>-16.496095</td>\n",
       "      <td>-5.990857</td>\n",
       "    </tr>\n",
       "    <tr>\n",
       "      <th>979</th>\n",
       "      <td>2022-09-06</td>\n",
       "      <td>15.726498</td>\n",
       "      <td>-23.219830</td>\n",
       "      <td>-19.321023</td>\n",
       "      <td>-5.281962</td>\n",
       "    </tr>\n",
       "    <tr>\n",
       "      <th>980</th>\n",
       "      <td>2022-09-07</td>\n",
       "      <td>16.053999</td>\n",
       "      <td>-22.681168</td>\n",
       "      <td>-19.139536</td>\n",
       "      <td>-5.587482</td>\n",
       "    </tr>\n",
       "    <tr>\n",
       "      <th>981</th>\n",
       "      <td>2022-09-08</td>\n",
       "      <td>17.335456</td>\n",
       "      <td>-23.320514</td>\n",
       "      <td>-21.271891</td>\n",
       "      <td>-4.048170</td>\n",
       "    </tr>\n",
       "    <tr>\n",
       "      <th>982</th>\n",
       "      <td>2022-09-09</td>\n",
       "      <td>16.925567</td>\n",
       "      <td>-24.175782</td>\n",
       "      <td>-22.318101</td>\n",
       "      <td>-4.890968</td>\n",
       "    </tr>\n",
       "    <tr>\n",
       "      <th>983</th>\n",
       "      <td>2022-09-10</td>\n",
       "      <td>18.652048</td>\n",
       "      <td>-25.436089</td>\n",
       "      <td>-22.213175</td>\n",
       "      <td>-6.330027</td>\n",
       "    </tr>\n",
       "    <tr>\n",
       "      <th>984</th>\n",
       "      <td>2022-09-11</td>\n",
       "      <td>19.535978</td>\n",
       "      <td>-25.673818</td>\n",
       "      <td>-23.064392</td>\n",
       "      <td>-5.673334</td>\n",
       "    </tr>\n",
       "    <tr>\n",
       "      <th>985</th>\n",
       "      <td>2022-09-12</td>\n",
       "      <td>19.632355</td>\n",
       "      <td>-26.369119</td>\n",
       "      <td>-22.953900</td>\n",
       "      <td>-3.463010</td>\n",
       "    </tr>\n",
       "    <tr>\n",
       "      <th>986</th>\n",
       "      <td>2022-09-13</td>\n",
       "      <td>18.792587</td>\n",
       "      <td>-25.430236</td>\n",
       "      <td>-23.672206</td>\n",
       "      <td>-2.292810</td>\n",
       "    </tr>\n",
       "    <tr>\n",
       "      <th>987</th>\n",
       "      <td>2022-09-14</td>\n",
       "      <td>21.200064</td>\n",
       "      <td>-26.299390</td>\n",
       "      <td>-23.567706</td>\n",
       "      <td>-2.753986</td>\n",
       "    </tr>\n",
       "    <tr>\n",
       "      <th>988</th>\n",
       "      <td>2022-09-15</td>\n",
       "      <td>22.890536</td>\n",
       "      <td>-27.813985</td>\n",
       "      <td>-23.938164</td>\n",
       "      <td>-3.195772</td>\n",
       "    </tr>\n",
       "    <tr>\n",
       "      <th>989</th>\n",
       "      <td>2022-09-16</td>\n",
       "      <td>23.138447</td>\n",
       "      <td>-25.855344</td>\n",
       "      <td>-24.390078</td>\n",
       "      <td>-3.612660</td>\n",
       "    </tr>\n",
       "    <tr>\n",
       "      <th>990</th>\n",
       "      <td>2022-09-17</td>\n",
       "      <td>23.163567</td>\n",
       "      <td>-26.157774</td>\n",
       "      <td>-24.309178</td>\n",
       "      <td>-3.155928</td>\n",
       "    </tr>\n",
       "    <tr>\n",
       "      <th>991</th>\n",
       "      <td>2022-09-18</td>\n",
       "      <td>20.973996</td>\n",
       "      <td>-27.319631</td>\n",
       "      <td>-22.948785</td>\n",
       "      <td>-4.487101</td>\n",
       "    </tr>\n",
       "    <tr>\n",
       "      <th>992</th>\n",
       "      <td>2022-09-19</td>\n",
       "      <td>21.090756</td>\n",
       "      <td>-26.712847</td>\n",
       "      <td>-21.722990</td>\n",
       "      <td>-4.110810</td>\n",
       "    </tr>\n",
       "    <tr>\n",
       "      <th>993</th>\n",
       "      <td>2022-09-20</td>\n",
       "      <td>21.848391</td>\n",
       "      <td>-25.018472</td>\n",
       "      <td>-21.850579</td>\n",
       "      <td>-4.360523</td>\n",
       "    </tr>\n",
       "    <tr>\n",
       "      <th>994</th>\n",
       "      <td>2022-09-21</td>\n",
       "      <td>22.898217</td>\n",
       "      <td>-26.005364</td>\n",
       "      <td>-20.914269</td>\n",
       "      <td>-5.357187</td>\n",
       "    </tr>\n",
       "    <tr>\n",
       "      <th>995</th>\n",
       "      <td>2022-09-22</td>\n",
       "      <td>21.978310</td>\n",
       "      <td>-25.001244</td>\n",
       "      <td>-20.881626</td>\n",
       "      <td>-5.606849</td>\n",
       "    </tr>\n",
       "    <tr>\n",
       "      <th>996</th>\n",
       "      <td>2022-09-23</td>\n",
       "      <td>24.132628</td>\n",
       "      <td>-25.692639</td>\n",
       "      <td>-20.310265</td>\n",
       "      <td>-6.258977</td>\n",
       "    </tr>\n",
       "    <tr>\n",
       "      <th>997</th>\n",
       "      <td>2022-09-24</td>\n",
       "      <td>23.777794</td>\n",
       "      <td>-25.485527</td>\n",
       "      <td>-21.305882</td>\n",
       "      <td>-5.330284</td>\n",
       "    </tr>\n",
       "    <tr>\n",
       "      <th>998</th>\n",
       "      <td>2022-09-25</td>\n",
       "      <td>25.105611</td>\n",
       "      <td>-25.485135</td>\n",
       "      <td>-22.407657</td>\n",
       "      <td>-6.600228</td>\n",
       "    </tr>\n",
       "    <tr>\n",
       "      <th>999</th>\n",
       "      <td>2022-09-26</td>\n",
       "      <td>25.207099</td>\n",
       "      <td>-25.512208</td>\n",
       "      <td>-23.434955</td>\n",
       "      <td>-7.275999</td>\n",
       "    </tr>\n",
       "  </tbody>\n",
       "</table>\n",
       "<p>1000 rows × 5 columns</p>\n",
       "</div>"
      ],
      "text/plain": [
       "    Unnamed: 0          A          B          C         D\n",
       "0   2020-01-01  -1.397481  -0.453722   1.374079 -2.095767\n",
       "1   2020-01-02  -1.363418   0.529293   0.178497 -2.364989\n",
       "2   2020-01-03  -2.047267  -0.333020   0.379978 -2.628204\n",
       "3   2020-01-04  -2.305870  -0.145598  -0.232491 -2.812290\n",
       "4   2020-01-05  -1.851390  -1.378215  -1.202399 -4.574516\n",
       "5   2020-01-06  -3.438928  -0.779975  -1.864979 -5.666847\n",
       "6   2020-01-07  -4.201270  -0.827366  -0.796513 -5.267628\n",
       "7   2020-01-08  -5.682762  -1.009404  -0.760801 -4.696243\n",
       "8   2020-01-09  -4.362126  -0.768552  -0.747517 -5.562345\n",
       "9   2020-01-10  -5.226357  -1.791920   0.290504 -5.214061\n",
       "10  2020-01-11  -4.429691  -2.026951  -0.821212 -6.621030\n",
       "11  2020-01-12  -4.222744  -2.875169  -0.654313 -5.926621\n",
       "12  2020-01-13  -2.413314  -3.329878  -1.595397 -5.585677\n",
       "13  2020-01-14  -2.769944  -3.536045  -1.463671 -5.098753\n",
       "14  2020-01-15  -3.599683  -4.973067  -3.859425 -5.823875\n",
       "15  2020-01-16  -3.486154  -4.792330  -2.866047 -6.312086\n",
       "16  2020-01-17  -4.232714  -5.082053  -3.572924 -8.478300\n",
       "17  2020-01-18  -5.346857  -5.787422  -4.313125 -8.595854\n",
       "18  2020-01-19  -5.720494  -5.620498  -3.699862 -9.678113\n",
       "19  2020-01-20  -5.264735  -4.938944  -2.354040 -8.942524\n",
       "20  2020-01-21  -5.407854  -5.379811  -2.284447 -8.068545\n",
       "21  2020-01-22  -5.793401  -5.501279  -2.254013 -7.997644\n",
       "22  2020-01-23  -6.796539  -4.692782  -2.330458 -7.449650\n",
       "23  2020-01-24  -7.502072  -4.085084  -1.810495 -6.540544\n",
       "24  2020-01-25  -7.639024  -3.791416   1.214301 -7.599166\n",
       "25  2020-01-26  -7.783544  -2.180918   1.628560 -7.928116\n",
       "26  2020-01-27  -7.673699  -3.485888   0.640970 -8.124872\n",
       "27  2020-01-28  -7.435098  -4.480212  -0.409425 -7.943383\n",
       "28  2020-01-29  -6.843557  -5.069680  -1.650871 -7.311741\n",
       "29  2020-01-30  -7.647267  -4.115332  -1.558887 -6.308304\n",
       "..         ...        ...        ...        ...       ...\n",
       "970 2022-08-28  17.157914 -23.306973 -12.461653 -2.478731\n",
       "971 2022-08-29  18.207251 -23.725280 -12.912440 -2.664828\n",
       "972 2022-08-30  17.968302 -21.485150 -15.044877 -4.034060\n",
       "973 2022-08-31  18.933869 -21.587237 -16.046081 -4.014128\n",
       "974 2022-09-01  18.337284 -21.451739 -15.028398 -4.147177\n",
       "975 2022-09-02  18.783912 -21.096423 -15.506137 -3.858413\n",
       "976 2022-09-03  18.828378 -19.514168 -16.924864 -2.559397\n",
       "977 2022-09-04  18.570511 -21.482747 -17.147155 -4.267082\n",
       "978 2022-09-05  17.212119 -22.331837 -16.496095 -5.990857\n",
       "979 2022-09-06  15.726498 -23.219830 -19.321023 -5.281962\n",
       "980 2022-09-07  16.053999 -22.681168 -19.139536 -5.587482\n",
       "981 2022-09-08  17.335456 -23.320514 -21.271891 -4.048170\n",
       "982 2022-09-09  16.925567 -24.175782 -22.318101 -4.890968\n",
       "983 2022-09-10  18.652048 -25.436089 -22.213175 -6.330027\n",
       "984 2022-09-11  19.535978 -25.673818 -23.064392 -5.673334\n",
       "985 2022-09-12  19.632355 -26.369119 -22.953900 -3.463010\n",
       "986 2022-09-13  18.792587 -25.430236 -23.672206 -2.292810\n",
       "987 2022-09-14  21.200064 -26.299390 -23.567706 -2.753986\n",
       "988 2022-09-15  22.890536 -27.813985 -23.938164 -3.195772\n",
       "989 2022-09-16  23.138447 -25.855344 -24.390078 -3.612660\n",
       "990 2022-09-17  23.163567 -26.157774 -24.309178 -3.155928\n",
       "991 2022-09-18  20.973996 -27.319631 -22.948785 -4.487101\n",
       "992 2022-09-19  21.090756 -26.712847 -21.722990 -4.110810\n",
       "993 2022-09-20  21.848391 -25.018472 -21.850579 -4.360523\n",
       "994 2022-09-21  22.898217 -26.005364 -20.914269 -5.357187\n",
       "995 2022-09-22  21.978310 -25.001244 -20.881626 -5.606849\n",
       "996 2022-09-23  24.132628 -25.692639 -20.310265 -6.258977\n",
       "997 2022-09-24  23.777794 -25.485527 -21.305882 -5.330284\n",
       "998 2022-09-25  25.105611 -25.485135 -22.407657 -6.600228\n",
       "999 2022-09-26  25.207099 -25.512208 -23.434955 -7.275999\n",
       "\n",
       "[1000 rows x 5 columns]"
      ]
     },
     "execution_count": 302,
     "metadata": {},
     "output_type": "execute_result"
    }
   ],
   "source": [
    "pd.read_excel('foo.xlsx', 'Sheet1', index_col=None, na_values=['NA'])"
   ]
  },
  {
   "cell_type": "markdown",
   "metadata": {},
   "source": [
    "## 0x0F 陷阱（坑） Gotchas "
   ]
  },
  {
   "cell_type": "markdown",
   "metadata": {},
   "source": [
    "如果你在运行中看到例如下面的异常。"
   ]
  },
  {
   "cell_type": "code",
   "execution_count": 304,
   "metadata": {},
   "outputs": [
    {
     "ename": "ValueError",
     "evalue": "The truth value of a Series is ambiguous. Use a.empty, a.bool(), a.item(), a.any() or a.all().",
     "output_type": "error",
     "traceback": [
      "\u001b[1;31m---------------------------------------------------------------------------\u001b[0m",
      "\u001b[1;31mValueError\u001b[0m                                Traceback (most recent call last)",
      "\u001b[1;32m<ipython-input-304-5c782b38cd2f>\u001b[0m in \u001b[0;36m<module>\u001b[1;34m\u001b[0m\n\u001b[1;32m----> 1\u001b[1;33m \u001b[1;32mif\u001b[0m \u001b[0mpd\u001b[0m\u001b[1;33m.\u001b[0m\u001b[0mSeries\u001b[0m\u001b[1;33m(\u001b[0m\u001b[1;33m[\u001b[0m\u001b[1;32mFalse\u001b[0m\u001b[1;33m,\u001b[0m \u001b[1;32mTrue\u001b[0m\u001b[1;33m,\u001b[0m \u001b[1;32mFalse\u001b[0m\u001b[1;33m]\u001b[0m\u001b[1;33m)\u001b[0m\u001b[1;33m:\u001b[0m\u001b[1;33m\u001b[0m\u001b[1;33m\u001b[0m\u001b[0m\n\u001b[0m\u001b[0;32m      2\u001b[0m     \u001b[0mprint\u001b[0m\u001b[1;33m(\u001b[0m\u001b[1;34m\"I was true\"\u001b[0m\u001b[1;33m)\u001b[0m\u001b[1;33m\u001b[0m\u001b[1;33m\u001b[0m\u001b[0m\n",
      "\u001b[1;32mD:\\Programs\\Anaconda\\lib\\site-packages\\pandas\\core\\generic.py\u001b[0m in \u001b[0;36m__nonzero__\u001b[1;34m(self)\u001b[0m\n\u001b[0;32m   1476\u001b[0m         raise ValueError(\"The truth value of a {0} is ambiguous. \"\n\u001b[0;32m   1477\u001b[0m                          \u001b[1;34m\"Use a.empty, a.bool(), a.item(), a.any() or a.all().\"\u001b[0m\u001b[1;33m\u001b[0m\u001b[1;33m\u001b[0m\u001b[0m\n\u001b[1;32m-> 1478\u001b[1;33m                          .format(self.__class__.__name__))\n\u001b[0m\u001b[0;32m   1479\u001b[0m \u001b[1;33m\u001b[0m\u001b[0m\n\u001b[0;32m   1480\u001b[0m     \u001b[0m__bool__\u001b[0m \u001b[1;33m=\u001b[0m \u001b[0m__nonzero__\u001b[0m\u001b[1;33m\u001b[0m\u001b[1;33m\u001b[0m\u001b[0m\n",
      "\u001b[1;31mValueError\u001b[0m: The truth value of a Series is ambiguous. Use a.empty, a.bool(), a.item(), a.any() or a.all()."
     ]
    }
   ],
   "source": [
    "if pd.Series([False, True, False]):\n",
    "    print(\"I was true\")"
   ]
  },
  {
   "cell_type": "markdown",
   "metadata": {},
   "source": [
    "可以参考 [Comparisons](https://pandas.pydata.org/pandas-docs/version/0.22.0/basics.html#basics-compare) 这里来寻求解释和下一步的方案。\n",
    "\n",
    "也可以参考 [Comparisons](https://pandas.pydata.org/pandas-docs/version/0.22.0/gotchas.html#gotchas)。\n",
    "\n",
    "*（上面都是官方的文档地址）*"
   ]
  },
  {
   "cell_type": "markdown",
   "metadata": {},
   "source": [
    "**官方文档的内容到这里就结束啦！**"
   ]
  },
  {
   "cell_type": "markdown",
   "metadata": {},
   "source": [
    "## 0x10 小结\n",
    "\n",
    "**关于选取：**\n",
    "\n",
    "- 选择**整行/整列**，或**多个整行/多个整列**的数据，可以用`df[]`、`df.loc[]`、`df.iloc[]`这三种用法。\n",
    "- **区域选取**，分为**标签索引**和**整数索引**\n",
    "  - 标签索引：`df.loc[]`\n",
    "  - 整数索引：`df.iloc[]`\n",
    "- **选取单元格**：`df.at[]`、`df.iat[]`、`df.loc[]`、`df.iloc[]` 都可以，要注意参数。`df[]`不行！\n",
    "- 关于选取的返回值：\n",
    "  - 返回值包括**单行多列**或**多行单列**时，返回值为 Series 对象\n",
    "  - 返回值包括**多行多列**时，返回值为 DataFrame 对象\n",
    "  - 返回值仅为一个单元格（单行单列）时，返回值为（可能是 numpy 的）基本数据类型，例如 str, float64, int64 等\n",
    "  - `df[]`因为不能精确到单元格，所以返回值一定 DataFrame 或 Series 对象\n",
    "- 当使用 DataFrame 的默认索引（整数索引）时，整数索引即为标签索引。\n",
    "\n",
    "\n",
    "\n",
    "其实 pandas 还有很多有用的 API 这里面还没介绍，后面有空再慢慢了解呢。\n",
    "\n",
    "做项目的时候看看别人做过的实例，再深入看看相关的 API 好了。\n",
    "\n",
    "大概就这些内容了吧。"
   ]
  },
  {
   "cell_type": "markdown",
   "metadata": {},
   "source": [
    "## 0xFF References & Extensive Reading"
   ]
  },
  {
   "cell_type": "markdown",
   "metadata": {},
   "source": [
    "[官方的 10 Minutes to pandas](https://pandas.pydata.org/pandas-docs/version/0.22.0/10min.html)\n",
    "\n",
    "[python数据分析之pandas数据选取：df[\\] df.loc[] df.iloc[] df.ix[] df.at[] df.iat[]](https://www.cnblogs.com/chenhuabin/p/10485549.html)\n",
    "\n",
    "[学习python中的pandas有没有好的教程推荐？](https://www.zhihu.com/question/56310477/answer/873227129)\n",
    "\n",
    "[从Excel到Python：最常用的36个Pandas函数！](https://zhuanlan.zhihu.com/p/97617276)"
   ]
  },
  {
   "cell_type": "markdown",
   "metadata": {},
   "source": [
    "## Copyright"
   ]
  },
  {
   "cell_type": "markdown",
   "metadata": {},
   "source": [
    "采用 [CC BY-NC-SA 4.0](https://creativecommons.org/licenses/by-nc-sa/4.0/deed.zh) 许可协议。\n",
    "\n",
    "Copyright © 2020 [MiaoTony](https://miaotony.xyz)"
   ]
  }
 ],
 "metadata": {
  "kernelspec": {
   "display_name": "Python 3.7.3 64-bit ('base': conda)",
   "language": "python",
   "name": "python37364bitbaseconda1420ac661baf4db4b7b2e9f2fc5b1c9a"
  },
  "language_info": {
   "codemirror_mode": {
    "name": "ipython",
    "version": 3
   },
   "file_extension": ".py",
   "mimetype": "text/x-python",
   "name": "python",
   "nbconvert_exporter": "python",
   "pygments_lexer": "ipython3",
   "version": "3.7.3"
  }
 },
 "nbformat": 4,
 "nbformat_minor": 2
}
